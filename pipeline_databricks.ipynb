{
 "cells": [
  {
   "cell_type": "code",
   "execution_count": 0,
   "metadata": {
    "application/vnd.databricks.v1+cell": {
     "cellMetadata": {
      "byteLimit": 2048000,
      "rowLimit": 10000
     },
     "inputWidgets": {},
     "nuid": "e1ce8ce6-aa66-4730-b083-dca20f209341",
     "showTitle": false,
     "title": ""
    },
    "jupyter": {
     "outputs_hidden": true
    }
   },
   "outputs": [],
   "source": [
    "# Imports necessários\n",
    "import requests\n",
    "import pandas as pd\n",
    "import numpy as np\n",
    "import matplotlib\n",
    "import matplotlib.pyplot as plt\n",
    "from pyspark.sql import SparkSession\n",
    "from pyspark.sql.types import StructType, StructField, StringType, IntegerType, DecimalType, DateType, BinaryType\n",
    "from pyspark.sql.functions import col, to_date\n",
    "import urllib.request"
   ]
  },
  {
   "cell_type": "markdown",
   "metadata": {
    "application/vnd.databricks.v1+cell": {
     "cellMetadata": {
      "byteLimit": 2048000,
      "rowLimit": 10000
     },
     "inputWidgets": {},
     "nuid": "756a6cca-a7f4-47e4-a781-db3548157bd9",
     "showTitle": false,
     "title": ""
    }
   },
   "source": [
    "***1a camada | Criação do dataset a partir do arquivo de origem***"
   ]
  },
  {
   "cell_type": "code",
   "execution_count": 0,
   "metadata": {
    "application/vnd.databricks.v1+cell": {
     "cellMetadata": {
      "byteLimit": 2048000,
      "rowLimit": 10000
     },
     "inputWidgets": {},
     "nuid": "34c8cdbd-a32c-41e0-9f87-dfe08a71c04b",
     "showTitle": false,
     "title": ""
    }
   },
   "outputs": [
    {
     "output_type": "stream",
     "name": "stdout",
     "output_type": "stream",
     "text": [
      "Out[24]: [FileInfo(path='dbfs:/user/hive/warehouse/base_historica_bronze/', name='base_historica_bronze/', size=0, modificationTime=0)]"
     ]
    }
   ],
   "source": [
    "#ANTES DE COMEÇAR A RODAR OS COMANDOS!\n",
    "\n",
    "# Lista se há alguma tabela criada no diretório\n",
    "dbutils.fs.ls(\"dbfs:/user/hive/warehouse/\")"
   ]
  },
  {
   "cell_type": "code",
   "execution_count": 0,
   "metadata": {
    "application/vnd.databricks.v1+cell": {
     "cellMetadata": {
      "byteLimit": 2048000,
      "rowLimit": 10000
     },
     "inputWidgets": {},
     "nuid": "bae5f5b8-30ff-4d7b-9eb9-3f94ef972f6c",
     "showTitle": false,
     "title": ""
    }
   },
   "outputs": [
    {
     "output_type": "stream",
     "name": "stdout",
     "output_type": "stream",
     "text": [
      "Out[25]: (False,)"
     ]
    }
   ],
   "source": [
    "# Remover o diretório e seu conteúdo\n",
    "dbutils.fs.rm(\"dbfs:/user/hive/warehouse/base_historica_bronze\", recurse=True),\n",
    "dbutils.fs.rm(\"dbfs:/user/hive/warehouse/base_historica_silver\", recurse=True),\n",
    "dbutils.fs.rm(\"dbfs:/user/hive/warehouse/base_historica_gold\", recurse=True),"
   ]
  },
  {
   "cell_type": "code",
   "execution_count": 0,
   "metadata": {
    "application/vnd.databricks.v1+cell": {
     "cellMetadata": {
      "byteLimit": 2048000,
      "rowLimit": 10000
     },
     "inputWidgets": {},
     "nuid": "84cc2ddf-522c-48d1-8e95-34f23f946993",
     "showTitle": false,
     "title": ""
    }
   },
   "outputs": [
    {
     "output_type": "stream",
     "name": "stdout",
     "output_type": "stream",
     "text": [
      "Wrote 1335499 bytes.\nOut[26]: True"
     ]
    }
   ],
   "source": [
    "# Definir a URL do arquivo CSV no GitHub\n",
    "csv_url = \"https://raw.githubusercontent.com/joel-c-dutra/mvp-ed/main/base_historica.csv\"\n",
    "\n",
    "# Caminho onde o arquivo será salvo no dbfs (Databricks File System)\n",
    "dbfs_path = \"/tmp/base_historica.csv\"\n",
    "\n",
    "# Baixar o arquivo CSV diretamente para o dbfs\n",
    "dbutils.fs.mkdirs(\"/tmp\")\n",
    "dbutils.fs.put(dbfs_path, requests.get(csv_url).text, True)\n"
   ]
  },
  {
   "cell_type": "code",
   "execution_count": 0,
   "metadata": {
    "application/vnd.databricks.v1+cell": {
     "cellMetadata": {
      "byteLimit": 2048000,
      "rowLimit": 10000
     },
     "inputWidgets": {},
     "nuid": "6532e50c-95ef-4a86-916a-ce9d91f71c72",
     "showTitle": false,
     "title": ""
    }
   },
   "outputs": [
    {
     "output_type": "stream",
     "name": "stdout",
     "output_type": "stream",
     "text": [
      "Tabela 'base_historica_bronze' criada com sucesso no Catálogo do Databricks!\n"
     ]
    }
   ],
   "source": [
    "# Definir o schema com todos os campos como string\n",
    "schema_bronze = \"dt_venda STRING, loja STRING, uf STRING, produto STRING, canal_venda STRING, tipo_venda STRING, \"\\\n",
    "                \"vlr_venda STRING, qt_venda STRING, qt_dias_com_estoque STRING, qt_dias_sem_estoque STRING, \"\\\n",
    "                \"qt_dias_com_estoque_aberta STRING, qt_dias_sem_estoque_aberta STRING, qt_dias_loja_fechada STRING, \"\\\n",
    "                \"estoque_loja STRING, habilitador STRING\"\n",
    "\n",
    "# Ler o arquivo CSV como DataFrame, tratando todos os campos como string\n",
    "df_bronze = spark.read.format(\"csv\") \\\n",
    "    .option(\"header\", \"true\") \\\n",
    "    .option(\"inferSchema\", \"false\") \\\n",
    "    .option(\"delimiter\", \",\") \\\n",
    "    .schema(schema_bronze) \\\n",
    "    .load(dbfs_path)\n",
    "\n",
    "# Salvar como tabela no Catálogo do Databricks\n",
    "df_bronze.write.mode(\"overwrite\").saveAsTable(\"base_historica_bronze\")\n",
    "\n",
    "print(\"Tabela 'base_historica_bronze' criada com sucesso no Catálogo do Databricks!\")"
   ]
  },
  {
   "cell_type": "code",
   "execution_count": 0,
   "metadata": {
    "application/vnd.databricks.v1+cell": {
     "cellMetadata": {
      "byteLimit": 2048000,
      "implicitDf": true,
      "rowLimit": 10000
     },
     "inputWidgets": {},
     "nuid": "7cf402cf-7e4b-451e-bcaf-45960a401f4c",
     "showTitle": false,
     "title": ""
    }
   },
   "outputs": [
    {
     "output_type": "display_data",
     "data": {
      "text/html": [
       "<style scoped>\n",
       "  .table-result-container {\n",
       "    max-height: 300px;\n",
       "    overflow: auto;\n",
       "  }\n",
       "  table, th, td {\n",
       "    border: 1px solid black;\n",
       "    border-collapse: collapse;\n",
       "  }\n",
       "  th, td {\n",
       "    padding: 5px;\n",
       "  }\n",
       "  th {\n",
       "    text-align: left;\n",
       "  }\n",
       "</style><div class='table-result-container'><table class='table-result'><thead style='background-color: white'><tr></tr></thead><tbody></tbody></table></div>"
      ]
     },
     "metadata": {
      "application/vnd.databricks.v1+output": {
       "addedWidgets": {},
       "aggData": [],
       "aggError": "",
       "aggOverflow": false,
       "aggSchema": [],
       "aggSeriesLimitReached": false,
       "aggType": "",
       "arguments": {},
       "columnCustomDisplayInfos": {},
       "data": [],
       "datasetInfos": [],
       "dbfsResultPath": null,
       "isJsonSchema": true,
       "metadata": {},
       "overflow": false,
       "plotOptions": {
        "customPlotOptions": {},
        "displayType": "table",
        "pivotAggregation": null,
        "pivotColumns": null,
        "xColumns": null,
        "yColumns": null
       },
       "removedWidgets": [],
       "schema": [],
       "type": "table"
      }
     },
     "output_type": "display_data"
    }
   ],
   "source": [
    "%sql\n",
    "\n",
    "-- Adicionar comentário à coluna 'dt_venda'\n",
    "ALTER TABLE base_historica_bronze ALTER COLUMN dt_venda COMMENT 'Data da venda';\n",
    "\n",
    "-- Adicionar comentário à coluna 'loja'\n",
    "ALTER TABLE base_historica_bronze ALTER COLUMN loja COMMENT 'Código da loja';\n",
    "\n",
    "-- Adicionar comentário à coluna 'uf'\n",
    "ALTER TABLE base_historica_bronze ALTER COLUMN uf COMMENT 'Unidade Federativa';\n",
    "\n",
    "-- Adicionar comentário à coluna 'produto'\n",
    "ALTER TABLE base_historica_bronze ALTER COLUMN produto COMMENT 'Código do produto';\n",
    "\n",
    "-- Adicionar comentário à coluna 'canal_venda'\n",
    "ALTER TABLE base_historica_bronze ALTER COLUMN canal_venda COMMENT 'Canal de venda';\n",
    "\n",
    "-- Adicionar comentário à coluna 'tipo_venda'\n",
    "ALTER TABLE base_historica_bronze ALTER COLUMN tipo_venda COMMENT 'Tipo de venda';\n",
    "\n",
    "-- Adicionar comentário à coluna 'vlr_venda'\n",
    "ALTER TABLE base_historica_bronze ALTER COLUMN vlr_venda COMMENT 'Valor da venda';\n",
    "\n",
    "-- Adicionar comentário à coluna 'qt_venda'\n",
    "ALTER TABLE base_historica_bronze ALTER COLUMN qt_venda COMMENT 'Quantidade vendida';\n",
    "\n",
    "-- Adicionar comentário à coluna 'qt_dias_com_estoque'\n",
    "ALTER TABLE base_historica_bronze ALTER COLUMN qt_dias_com_estoque COMMENT 'Quantidade de dias com estoque';\n",
    "\n",
    "-- Adicionar comentário à coluna 'qt_dias_sem_estoque'\n",
    "ALTER TABLE base_historica_bronze ALTER COLUMN qt_dias_sem_estoque COMMENT 'Quantidade de dias sem estoque';\n",
    "\n",
    "-- Adicionar comentário à coluna 'qt_dias_com_estoque_aberta'\n",
    "ALTER TABLE base_historica_bronze ALTER COLUMN qt_dias_com_estoque_aberta COMMENT 'Quantidade de dias em que a loja tinha estoque e estava aberta para venda';\n",
    "\n",
    "-- Adicionar comentário à coluna 'qt_dias_sem_estoque_aberta'\n",
    "ALTER TABLE base_historica_bronze ALTER COLUMN qt_dias_sem_estoque_aberta COMMENT 'Quantidade de dias em que a loja não tinha estoque e estava aberta para venda';\n",
    "\n",
    "-- Adicionar comentário à coluna 'qt_dias_loja_fechada'\n",
    "ALTER TABLE base_historica_bronze ALTER COLUMN qt_dias_loja_fechada COMMENT 'Quantidade de dias em que a loja esteve fechada';\n",
    "\n",
    "-- Adicionar comentário à coluna 'estoque_loja'\n",
    "ALTER TABLE base_historica_bronze ALTER COLUMN estoque_loja COMMENT 'Quantidade de estoque na loja';\n",
    "\n",
    "-- Adicionar comentário à coluna 'habilitador'\n",
    "ALTER TABLE base_historica_bronze ALTER COLUMN habilitador COMMENT 'Determina se a loja deverá ser abastecida caso tenha menos que 5 itens em seu estoque (variável 1 ou 0)';\n",
    "\n"
   ]
  },
  {
   "cell_type": "markdown",
   "metadata": {
    "application/vnd.databricks.v1+cell": {
     "cellMetadata": {},
     "inputWidgets": {},
     "nuid": "483860c8-a9d5-4db7-bbe6-a8fe234adb77",
     "showTitle": false,
     "title": ""
    }
   },
   "source": [
    "**Dataquality | base_historica_bronze**"
   ]
  },
  {
   "cell_type": "code",
   "execution_count": 0,
   "metadata": {
    "application/vnd.databricks.v1+cell": {
     "cellMetadata": {
      "byteLimit": 2048000,
      "rowLimit": 10000
     },
     "inputWidgets": {},
     "nuid": "1bb8e420-eba9-4cfa-b9bf-80ef6182a496",
     "showTitle": false,
     "title": ""
    }
   },
   "outputs": [
    {
     "output_type": "stream",
     "name": "stdout",
     "output_type": "stream",
     "text": [
      "+--------+----+---+-------+-----------+----------+---------+--------+-------------------+-------------------+--------------------------+--------------------------+--------------------+------------+-----------+\n|dt_venda|loja| uf|produto|canal_venda|tipo_venda|vlr_venda|qt_venda|qt_dias_com_estoque|qt_dias_sem_estoque|qt_dias_com_estoque_aberta|qt_dias_sem_estoque_aberta|qt_dias_loja_fechada|estoque_loja|habilitador|\n+--------+----+---+-------+-----------+----------+---------+--------+-------------------+-------------------+--------------------------+--------------------------+--------------------+------------+-----------+\n|       0|   0|  0|      0|          0|         0|        0|       0|                  0|                  0|                         0|                         0|                   0|           0|          0|\n+--------+----+---+-------+-----------+----------+---------+--------+-------------------+-------------------+--------------------------+--------------------------+--------------------+------------+-----------+\n\n"
     ]
    }
   ],
   "source": [
    "from pyspark.sql import SparkSession\n",
    "from pyspark.sql.functions import col, sum\n",
    "\n",
    "# Inicialize a sessão Spark\n",
    "spark = SparkSession.builder \\\n",
    "    .appName(\"Dataquality Tabela Bronze - Campos nulos\") \\\n",
    "    .getOrCreate()\n",
    "\n",
    "# Caminho para a tabela Delta Lake\n",
    "path = \"dbfs:/user/hive/warehouse/base_historica_bronze\"\n",
    "\n",
    "# Leia os dados a partir do caminho de arquivo Delta Lake\n",
    "df = spark.read.format(\"delta\").load(path)\n",
    "\n",
    "# Verifique se há campos em branco (valores nulos)\n",
    "null_counts = df.select([sum(col(c).isNull().cast(\"int\")).alias(c) for c in df.columns])\n",
    "\n",
    "# Mostre as contagens de valores nulos\n",
    "null_counts.show()\n"
   ]
  },
  {
   "cell_type": "code",
   "execution_count": 0,
   "metadata": {
    "application/vnd.databricks.v1+cell": {
     "cellMetadata": {
      "byteLimit": 2048000,
      "rowLimit": 10000
     },
     "inputWidgets": {},
     "nuid": "bc4b376f-243d-468e-94dd-ebf282bfa54f",
     "showTitle": false,
     "title": ""
    }
   },
   "outputs": [
    {
     "output_type": "stream",
     "name": "stdout",
     "output_type": "stream",
     "text": [
      "+--------+----+---+-------+-----------+----------+---------+--------+-------------------+-------------------+--------------------------+--------------------------+--------------------+------------+-----------+-----+\n|dt_venda|loja| uf|produto|canal_venda|tipo_venda|vlr_venda|qt_venda|qt_dias_com_estoque|qt_dias_sem_estoque|qt_dias_com_estoque_aberta|qt_dias_sem_estoque_aberta|qt_dias_loja_fechada|estoque_loja|habilitador|count|\n+--------+----+---+-------+-----------+----------+---------+--------+-------------------+-------------------+--------------------------+--------------------------+--------------------+------------+-----------+-----+\n+--------+----+---+-------+-----------+----------+---------+--------+-------------------+-------------------+--------------------------+--------------------------+--------------------+------------+-----------+-----+\n\n"
     ]
    }
   ],
   "source": [
    "from pyspark.sql import SparkSession\n",
    "from pyspark.sql.functions import count\n",
    "\n",
    "# Inicialize a sessão Spark\n",
    "spark = SparkSession.builder \\\n",
    "    .appName(\"Dataquality Tabela Bronze - Campos duplicados\") \\\n",
    "    .getOrCreate()\n",
    "\n",
    "# Caminho para a tabela Delta Lake\n",
    "path = \"dbfs:/user/hive/warehouse/base_historica_bronze\"\n",
    "\n",
    "# Leia os dados a partir do caminho de arquivo Delta Lake\n",
    "df = spark.read.format(\"delta\").load(path)\n",
    "\n",
    "# Verifique duplicatas com base em todas as colunas\n",
    "df_duplicates = df.groupBy(df.columns).count().filter(\"count > 1\")\n",
    "\n",
    "# Mostre as duplicatas (se houver)\n",
    "df_duplicates.show()\n"
   ]
  },
  {
   "cell_type": "markdown",
   "metadata": {
    "application/vnd.databricks.v1+cell": {
     "cellMetadata": {
      "byteLimit": 2048000,
      "rowLimit": 10000
     },
     "inputWidgets": {},
     "nuid": "a37996a9-61ec-4930-a312-f1e8928b7e0c",
     "showTitle": false,
     "title": ""
    }
   },
   "source": [
    "**2a camada | Criação do dataset com o schema definido a partir do dataset inicial**"
   ]
  },
  {
   "cell_type": "code",
   "execution_count": 0,
   "metadata": {
    "application/vnd.databricks.v1+cell": {
     "cellMetadata": {
      "byteLimit": 2048000,
      "implicitDf": true,
      "rowLimit": 10000
     },
     "inputWidgets": {},
     "nuid": "b4c1fe55-c47c-4fe6-9eb3-a589e2e1bea3",
     "showTitle": false,
     "title": ""
    }
   },
   "outputs": [
    {
     "output_type": "display_data",
     "data": {
      "text/html": [
       "<style scoped>\n",
       "  .table-result-container {\n",
       "    max-height: 300px;\n",
       "    overflow: auto;\n",
       "  }\n",
       "  table, th, td {\n",
       "    border: 1px solid black;\n",
       "    border-collapse: collapse;\n",
       "  }\n",
       "  th, td {\n",
       "    padding: 5px;\n",
       "  }\n",
       "  th {\n",
       "    text-align: left;\n",
       "  }\n",
       "</style><div class='table-result-container'><table class='table-result'><thead style='background-color: white'><tr></tr></thead><tbody></tbody></table></div>"
      ]
     },
     "metadata": {
      "application/vnd.databricks.v1+output": {
       "addedWidgets": {},
       "aggData": [],
       "aggError": "",
       "aggOverflow": false,
       "aggSchema": [],
       "aggSeriesLimitReached": false,
       "aggType": "",
       "arguments": {},
       "columnCustomDisplayInfos": {},
       "data": [],
       "datasetInfos": [],
       "dbfsResultPath": null,
       "isJsonSchema": true,
       "metadata": {},
       "overflow": false,
       "plotOptions": {
        "customPlotOptions": {},
        "displayType": "table",
        "pivotAggregation": null,
        "pivotColumns": null,
        "xColumns": null,
        "yColumns": null
       },
       "removedWidgets": [],
       "schema": [],
       "type": "table"
      }
     },
     "output_type": "display_data"
    }
   ],
   "source": [
    "%sql\n",
    "\n",
    "-- Remover a tabela se já existir\n",
    "DROP TABLE IF EXISTS base_historica_silver;\n",
    "\n",
    "-- Definir o novo schema\n",
    "CREATE TABLE base_historica_silver (\n",
    "    dt_venda DATE,\n",
    "    loja STRING,\n",
    "    uf STRING,\n",
    "    produto STRING,\n",
    "    canal_venda STRING,\n",
    "    tipo_venda STRING,\n",
    "    vlr_venda FLOAT,\n",
    "    qt_venda INT,\n",
    "    qt_dias_com_estoque INT,\n",
    "    qt_dias_sem_estoque INT,\n",
    "    qt_dias_com_estoque_aberta INT,\n",
    "    qt_dias_sem_estoque_aberta INT,\n",
    "    qt_dias_loja_fechada INT,\n",
    "    estoque_loja INT,\n",
    "    habilitador BOOLEAN\n",
    ")\n",
    "USING DELTA;\n"
   ]
  },
  {
   "cell_type": "code",
   "execution_count": 0,
   "metadata": {
    "application/vnd.databricks.v1+cell": {
     "cellMetadata": {
      "byteLimit": 2048000,
      "implicitDf": true,
      "rowLimit": 10000
     },
     "inputWidgets": {},
     "nuid": "91463174-e2ee-4988-9902-ab629afe00dd",
     "showTitle": false,
     "title": ""
    }
   },
   "outputs": [
    {
     "output_type": "display_data",
     "data": {
      "text/html": [
       "<style scoped>\n",
       "  .table-result-container {\n",
       "    max-height: 300px;\n",
       "    overflow: auto;\n",
       "  }\n",
       "  table, th, td {\n",
       "    border: 1px solid black;\n",
       "    border-collapse: collapse;\n",
       "  }\n",
       "  th, td {\n",
       "    padding: 5px;\n",
       "  }\n",
       "  th {\n",
       "    text-align: left;\n",
       "  }\n",
       "</style><div class='table-result-container'><table class='table-result'><thead style='background-color: white'><tr><th>num_affected_rows</th><th>num_inserted_rows</th></tr></thead><tbody><tr><td>18599</td><td>18599</td></tr></tbody></table></div>"
      ]
     },
     "metadata": {
      "application/vnd.databricks.v1+output": {
       "addedWidgets": {},
       "aggData": [],
       "aggError": "",
       "aggOverflow": false,
       "aggSchema": [],
       "aggSeriesLimitReached": false,
       "aggType": "",
       "arguments": {},
       "columnCustomDisplayInfos": {},
       "data": [
        [
         18599,
         18599
        ]
       ],
       "datasetInfos": [],
       "dbfsResultPath": null,
       "isJsonSchema": true,
       "metadata": {},
       "overflow": false,
       "plotOptions": {
        "customPlotOptions": {},
        "displayType": "table",
        "pivotAggregation": null,
        "pivotColumns": null,
        "xColumns": null,
        "yColumns": null
       },
       "removedWidgets": [],
       "schema": [
        {
         "metadata": "{}",
         "name": "num_affected_rows",
         "type": "\"long\""
        },
        {
         "metadata": "{}",
         "name": "num_inserted_rows",
         "type": "\"long\""
        }
       ],
       "type": "table"
      }
     },
     "output_type": "display_data"
    }
   ],
   "source": [
    "%sql\n",
    "-- Inserir dados na nova tabela com o novo schema\n",
    "INSERT INTO base_historica_silver\n",
    "SELECT\n",
    "    TO_DATE(dt_venda, 'yyyy-MM-dd') AS dt_venda,\n",
    "    loja,\n",
    "    uf,\n",
    "    produto,\n",
    "    canal_venda,\n",
    "    tipo_venda,\n",
    "    ROUND(CAST(vlr_venda AS FLOAT), 3) AS vlr_venda,\n",
    "    CAST(qt_venda AS INT) AS qt_venda,\n",
    "    CAST(qt_dias_com_estoque AS INT) AS qt_dias_com_estoque,\n",
    "    CAST(qt_dias_sem_estoque AS INT) AS qt_dias_sem_estoque,\n",
    "    CAST(qt_dias_com_estoque_aberta AS INT) AS qt_dias_com_estoque_aberta,\n",
    "    CAST(qt_dias_sem_estoque_aberta AS INT) AS qt_dias_sem_estoque_aberta,\n",
    "    CAST(qt_dias_loja_fechada AS INT) AS qt_dias_loja_fechada,\n",
    "    CAST(estoque_loja AS INT) AS estoque_loja,\n",
    "    habilitador\n",
    "FROM base_historica_bronze;\n"
   ]
  },
  {
   "cell_type": "code",
   "execution_count": 0,
   "metadata": {
    "application/vnd.databricks.v1+cell": {
     "cellMetadata": {
      "byteLimit": 2048000,
      "implicitDf": true,
      "rowLimit": 10000
     },
     "inputWidgets": {},
     "nuid": "2083ce14-fb95-4200-aa52-d1bcf9650bad",
     "showTitle": false,
     "title": ""
    }
   },
   "outputs": [
    {
     "output_type": "display_data",
     "data": {
      "text/html": [
       "<style scoped>\n",
       "  .table-result-container {\n",
       "    max-height: 300px;\n",
       "    overflow: auto;\n",
       "  }\n",
       "  table, th, td {\n",
       "    border: 1px solid black;\n",
       "    border-collapse: collapse;\n",
       "  }\n",
       "  th, td {\n",
       "    padding: 5px;\n",
       "  }\n",
       "  th {\n",
       "    text-align: left;\n",
       "  }\n",
       "</style><div class='table-result-container'><table class='table-result'><thead style='background-color: white'><tr></tr></thead><tbody></tbody></table></div>"
      ]
     },
     "metadata": {
      "application/vnd.databricks.v1+output": {
       "addedWidgets": {},
       "aggData": [],
       "aggError": "",
       "aggOverflow": false,
       "aggSchema": [],
       "aggSeriesLimitReached": false,
       "aggType": "",
       "arguments": {},
       "columnCustomDisplayInfos": {},
       "data": [],
       "datasetInfos": [],
       "dbfsResultPath": null,
       "isJsonSchema": true,
       "metadata": {},
       "overflow": false,
       "plotOptions": {
        "customPlotOptions": {},
        "displayType": "table",
        "pivotAggregation": null,
        "pivotColumns": null,
        "xColumns": null,
        "yColumns": null
       },
       "removedWidgets": [],
       "schema": [],
       "type": "table"
      }
     },
     "output_type": "display_data"
    }
   ],
   "source": [
    "%sql\n",
    "\n",
    "-- Adicionar comentário à coluna 'dt_venda'\n",
    "ALTER TABLE base_historica_silver ALTER COLUMN dt_venda COMMENT 'Data da venda';\n",
    "\n",
    "-- Adicionar comentário à coluna 'loja'\n",
    "ALTER TABLE base_historica_silver ALTER COLUMN loja COMMENT 'Código da loja';\n",
    "\n",
    "-- Adicionar comentário à coluna 'uf'\n",
    "ALTER TABLE base_historica_silver ALTER COLUMN uf COMMENT 'Unidade Federativa';\n",
    "\n",
    "-- Adicionar comentário à coluna 'produto'\n",
    "ALTER TABLE base_historica_silver ALTER COLUMN produto COMMENT 'Código do produto';\n",
    "\n",
    "-- Adicionar comentário à coluna 'canal_venda'\n",
    "ALTER TABLE base_historica_silver ALTER COLUMN canal_venda COMMENT 'Canal de venda';\n",
    "\n",
    "-- Adicionar comentário à coluna 'tipo_venda'\n",
    "ALTER TABLE base_historica_silver ALTER COLUMN tipo_venda COMMENT 'Tipo de venda';\n",
    "\n",
    "-- Adicionar comentário à coluna 'vlr_venda'\n",
    "ALTER TABLE base_historica_silver ALTER COLUMN vlr_venda COMMENT 'Valor da venda';\n",
    "\n",
    "-- Adicionar comentário à coluna 'qt_venda'\n",
    "ALTER TABLE base_historica_silver ALTER COLUMN qt_venda COMMENT 'Quantidade vendida';\n",
    "\n",
    "-- Adicionar comentário à coluna 'qt_dias_com_estoque'\n",
    "ALTER TABLE base_historica_silver ALTER COLUMN qt_dias_com_estoque COMMENT 'Quantidade de dias com estoque';\n",
    "\n",
    "-- Adicionar comentário à coluna 'qt_dias_sem_estoque'\n",
    "ALTER TABLE base_historica_silver ALTER COLUMN qt_dias_sem_estoque COMMENT 'Quantidade de dias sem estoque';\n",
    "\n",
    "-- Adicionar comentário à coluna 'qt_dias_com_estoque_aberta'\n",
    "ALTER TABLE base_historica_silver ALTER COLUMN qt_dias_com_estoque_aberta COMMENT 'Quantidade de dias em que a loja tinha estoque e estava aberta para venda';\n",
    "\n",
    "-- Adicionar comentário à coluna 'qt_dias_sem_estoque_aberta'\n",
    "ALTER TABLE base_historica_silver ALTER COLUMN qt_dias_sem_estoque_aberta COMMENT 'Quantidade de dias em que a loja não tinha estoque e estava aberta para venda';\n",
    "\n",
    "-- Adicionar comentário à coluna 'qt_dias_loja_fechada'\n",
    "ALTER TABLE base_historica_silver ALTER COLUMN qt_dias_loja_fechada COMMENT 'Quantidade de dias em que a loja esteve fechada';\n",
    "\n",
    "-- Adicionar comentário à coluna 'estoque_loja'\n",
    "ALTER TABLE base_historica_silver ALTER COLUMN estoque_loja COMMENT 'Quantidade de estoque na loja';\n",
    "\n",
    "-- Adicionar comentário à coluna 'habilitador'\n",
    "ALTER TABLE base_historica_silver ALTER COLUMN habilitador COMMENT 'Determina se a loja deverá ser abastecida caso tenha menos que 5 itens em seu estoque (variável 1 ou 0)';"
   ]
  },
  {
   "cell_type": "markdown",
   "metadata": {
    "application/vnd.databricks.v1+cell": {
     "cellMetadata": {},
     "inputWidgets": {},
     "nuid": "b1908dfa-7026-4b2a-8b0c-805cf8e1d5a5",
     "showTitle": false,
     "title": ""
    }
   },
   "source": [
    "**Dataquality | base_historica_silver**"
   ]
  },
  {
   "cell_type": "code",
   "execution_count": 0,
   "metadata": {
    "application/vnd.databricks.v1+cell": {
     "cellMetadata": {
      "byteLimit": 2048000,
      "rowLimit": 10000
     },
     "inputWidgets": {},
     "nuid": "92f3fbc6-a019-49f2-a746-e4799cbdf6c4",
     "showTitle": false,
     "title": ""
    }
   },
   "outputs": [
    {
     "output_type": "stream",
     "name": "stdout",
     "output_type": "stream",
     "text": [
      "+--------+----+---+-------+-----------+----------+---------+--------+-------------------+-------------------+--------------------------+--------------------------+--------------------+------------+-----------+\n|dt_venda|loja| uf|produto|canal_venda|tipo_venda|vlr_venda|qt_venda|qt_dias_com_estoque|qt_dias_sem_estoque|qt_dias_com_estoque_aberta|qt_dias_sem_estoque_aberta|qt_dias_loja_fechada|estoque_loja|habilitador|\n+--------+----+---+-------+-----------+----------+---------+--------+-------------------+-------------------+--------------------------+--------------------------+--------------------+------------+-----------+\n|       0|   0|  0|      0|          0|         0|       70|       0|                  0|                  0|                         0|                         0|                   0|           0|          0|\n+--------+----+---+-------+-----------+----------+---------+--------+-------------------+-------------------+--------------------------+--------------------------+--------------------+------------+-----------+\n\n"
     ]
    }
   ],
   "source": [
    "from pyspark.sql import SparkSession\n",
    "from pyspark.sql.functions import col, sum\n",
    "\n",
    "# Inicialize a sessão Spark\n",
    "spark = SparkSession.builder \\\n",
    "    .appName(\"Dataquality Tabela Silver - Campos nulos\") \\\n",
    "    .getOrCreate()\n",
    "\n",
    "# Caminho para a tabela Delta Lake\n",
    "path = \"dbfs:/user/hive/warehouse/base_historica_silver\"\n",
    "\n",
    "# Leia os dados a partir do caminho de arquivo Delta Lake\n",
    "df = spark.read.format(\"delta\").load(path)\n",
    "\n",
    "# Verifique se há campos em branco (valores nulos)\n",
    "null_counts = df.select([sum(col(c).isNull().cast(\"int\")).alias(c) for c in df.columns])\n",
    "\n",
    "# Mostre as contagens de valores nulos\n",
    "null_counts.show()"
   ]
  },
  {
   "cell_type": "code",
   "execution_count": 0,
   "metadata": {
    "application/vnd.databricks.v1+cell": {
     "cellMetadata": {
      "byteLimit": 2048000,
      "rowLimit": 10000
     },
     "inputWidgets": {},
     "nuid": "1ad30f74-f42a-4f1f-91c2-e9c9e9830b2f",
     "showTitle": false,
     "title": ""
    }
   },
   "outputs": [],
   "source": [
    "from pyspark.sql import SparkSession\n",
    "\n",
    "# Inicialize a sessão Spark\n",
    "spark = SparkSession.builder \\\n",
    "    .appName(\"Remove Null Records\") \\\n",
    "    .getOrCreate()\n",
    "\n",
    "# Caminho para a tabela Delta Lake\n",
    "path = \"dbfs:/user/hive/warehouse/base_historica_silver\"\n",
    "\n",
    "# Leia os dados a partir do caminho de arquivo Delta Lake\n",
    "df = spark.read.format(\"delta\").load(path)\n",
    "\n",
    "# Filtre os registros com valores nulos no campo vlr_venda\n",
    "df_cleaned = df.filter(df.vlr_venda.isNotNull())\n",
    "\n",
    "# Salve o DataFrame resultante de volta no Delta Lake, sobrescrevendo a tabela original\n",
    "df_cleaned.write.format(\"delta\").mode(\"overwrite\").save(path)\n"
   ]
  },
  {
   "cell_type": "code",
   "execution_count": 0,
   "metadata": {
    "application/vnd.databricks.v1+cell": {
     "cellMetadata": {
      "byteLimit": 2048000,
      "rowLimit": 10000
     },
     "inputWidgets": {},
     "nuid": "7e868038-e220-463b-8974-93de14ca121b",
     "showTitle": false,
     "title": ""
    }
   },
   "outputs": [
    {
     "output_type": "stream",
     "name": "stdout",
     "output_type": "stream",
     "text": [
      "+--------+----+---+-------+-----------+----------+---------+--------+-------------------+-------------------+--------------------------+--------------------------+--------------------+------------+-----------+\n|dt_venda|loja| uf|produto|canal_venda|tipo_venda|vlr_venda|qt_venda|qt_dias_com_estoque|qt_dias_sem_estoque|qt_dias_com_estoque_aberta|qt_dias_sem_estoque_aberta|qt_dias_loja_fechada|estoque_loja|habilitador|\n+--------+----+---+-------+-----------+----------+---------+--------+-------------------+-------------------+--------------------------+--------------------------+--------------------+------------+-----------+\n|       0|   0|  0|      0|          0|         0|        0|       0|                  0|                  0|                         0|                         0|                   0|           0|          0|\n+--------+----+---+-------+-----------+----------+---------+--------+-------------------+-------------------+--------------------------+--------------------------+--------------------+------------+-----------+\n\n"
     ]
    }
   ],
   "source": [
    "from pyspark.sql import SparkSession\n",
    "from pyspark.sql.functions import col, sum\n",
    "\n",
    "# Inicialize a sessão Spark\n",
    "spark = SparkSession.builder \\\n",
    "    .appName(\"Dataquality Tabela Silver - Campos nulos\") \\\n",
    "    .getOrCreate()\n",
    "\n",
    "# Caminho para a tabela Delta Lake\n",
    "path = \"dbfs:/user/hive/warehouse/base_historica_silver\"\n",
    "\n",
    "# Leia os dados a partir do caminho de arquivo Delta Lake\n",
    "df = spark.read.format(\"delta\").load(path)\n",
    "\n",
    "# Verifique se há campos em branco (valores nulos)\n",
    "null_counts = df.select([sum(col(c).isNull().cast(\"int\")).alias(c) for c in df.columns])\n",
    "\n",
    "# Mostre as contagens de valores nulos\n",
    "null_counts.show()"
   ]
  },
  {
   "cell_type": "code",
   "execution_count": 0,
   "metadata": {
    "application/vnd.databricks.v1+cell": {
     "cellMetadata": {
      "byteLimit": 2048000,
      "rowLimit": 10000
     },
     "inputWidgets": {},
     "nuid": "78b8f74a-3066-4795-a2dd-2cfb78c8049d",
     "showTitle": false,
     "title": ""
    }
   },
   "outputs": [
    {
     "output_type": "stream",
     "name": "stdout",
     "output_type": "stream",
     "text": [
      "+--------+----+---+-------+-----------+----------+---------+--------+-------------------+-------------------+--------------------------+--------------------------+--------------------+------------+-----------+-----+\n|dt_venda|loja| uf|produto|canal_venda|tipo_venda|vlr_venda|qt_venda|qt_dias_com_estoque|qt_dias_sem_estoque|qt_dias_com_estoque_aberta|qt_dias_sem_estoque_aberta|qt_dias_loja_fechada|estoque_loja|habilitador|count|\n+--------+----+---+-------+-----------+----------+---------+--------+-------------------+-------------------+--------------------------+--------------------------+--------------------+------------+-----------+-----+\n+--------+----+---+-------+-----------+----------+---------+--------+-------------------+-------------------+--------------------------+--------------------------+--------------------+------------+-----------+-----+\n\n"
     ]
    }
   ],
   "source": [
    "from pyspark.sql import SparkSession\n",
    "from pyspark.sql.functions import count\n",
    "\n",
    "# Inicialize a sessão Spark\n",
    "spark = SparkSession.builder \\\n",
    "    .appName(\"Dataquality Tabela Silver - Campos duplicados\") \\\n",
    "    .getOrCreate()\n",
    "\n",
    "# Caminho para a tabela Delta Lake\n",
    "path = \"dbfs:/user/hive/warehouse/base_historica_silver\"\n",
    "\n",
    "# Leia os dados a partir do caminho de arquivo Delta Lake\n",
    "df = spark.read.format(\"delta\").load(path)\n",
    "\n",
    "# Verifique duplicatas com base em todas as colunas\n",
    "df_duplicates = df.groupBy(df.columns).count().filter(\"count > 1\")\n",
    "\n",
    "# Mostre as duplicatas (se houver)\n",
    "df_duplicates.show()"
   ]
  },
  {
   "cell_type": "markdown",
   "metadata": {
    "application/vnd.databricks.v1+cell": {
     "cellMetadata": {
      "byteLimit": 2048000,
      "rowLimit": 10000
     },
     "inputWidgets": {},
     "nuid": "cec78e36-180d-4187-9fa6-a0fa0d9a8322",
     "showTitle": false,
     "title": ""
    }
   },
   "source": [
    "**3a camada | Criação do dataset com os dados agregados p/ refinamento e análise dos dados**"
   ]
  },
  {
   "cell_type": "code",
   "execution_count": 0,
   "metadata": {
    "application/vnd.databricks.v1+cell": {
     "cellMetadata": {
      "byteLimit": 2048000,
      "implicitDf": true,
      "rowLimit": 10000
     },
     "inputWidgets": {},
     "nuid": "8e3fe8c6-d8fd-4118-be08-faebdae96346",
     "showTitle": false,
     "title": ""
    }
   },
   "outputs": [
    {
     "output_type": "display_data",
     "data": {
      "text/html": [
       "<style scoped>\n",
       "  .table-result-container {\n",
       "    max-height: 300px;\n",
       "    overflow: auto;\n",
       "  }\n",
       "  table, th, td {\n",
       "    border: 1px solid black;\n",
       "    border-collapse: collapse;\n",
       "  }\n",
       "  th, td {\n",
       "    padding: 5px;\n",
       "  }\n",
       "  th {\n",
       "    text-align: left;\n",
       "  }\n",
       "</style><div class='table-result-container'><table class='table-result'><thead style='background-color: white'><tr><th>num_affected_rows</th><th>num_inserted_rows</th></tr></thead><tbody></tbody></table></div>"
      ]
     },
     "metadata": {
      "application/vnd.databricks.v1+output": {
       "addedWidgets": {},
       "aggData": [],
       "aggError": "",
       "aggOverflow": false,
       "aggSchema": [],
       "aggSeriesLimitReached": false,
       "aggType": "",
       "arguments": {},
       "columnCustomDisplayInfos": {},
       "data": [],
       "datasetInfos": [],
       "dbfsResultPath": null,
       "isJsonSchema": true,
       "metadata": {},
       "overflow": false,
       "plotOptions": {
        "customPlotOptions": {},
        "displayType": "table",
        "pivotAggregation": null,
        "pivotColumns": null,
        "xColumns": null,
        "yColumns": null
       },
       "removedWidgets": [],
       "schema": [
        {
         "metadata": "{}",
         "name": "num_affected_rows",
         "type": "\"long\""
        },
        {
         "metadata": "{}",
         "name": "num_inserted_rows",
         "type": "\"long\""
        }
       ],
       "type": "table"
      }
     },
     "output_type": "display_data"
    }
   ],
   "source": [
    "%sql\n",
    "-- Criar a tabela base_historica_gold com dados agregados por mês\n",
    "CREATE OR REPLACE TABLE base_historica_gold\n",
    "USING DELTA\n",
    "AS\n",
    "SELECT\n",
    "    CAST(DATE_TRUNC('month', dt_venda) AS DATE) AS dt_anomes,\n",
    "    uf,\n",
    "    loja,\n",
    "    produto,\n",
    "    canal_venda,\n",
    "    tipo_venda,\n",
    "    ROUND(SUM(vlr_venda), 2) AS total_vendas,\n",
    "    SUM(qt_venda) AS total_itens_vendidos\n",
    "FROM base_historica_silver\n",
    "GROUP BY CAST(DATE_TRUNC('month', dt_venda) AS DATE), uf, loja, produto, canal_venda, tipo_venda\n",
    "ORDER BY CAST(DATE_TRUNC('month', dt_venda) AS DATE), uf, loja, produto, canal_venda, tipo_venda;"
   ]
  },
  {
   "cell_type": "code",
   "execution_count": 0,
   "metadata": {
    "application/vnd.databricks.v1+cell": {
     "cellMetadata": {
      "byteLimit": 2048000,
      "implicitDf": true,
      "rowLimit": 10000
     },
     "inputWidgets": {},
     "nuid": "2ea05442-fd42-4d6e-8855-4a4e7aa9fee7",
     "showTitle": false,
     "title": ""
    }
   },
   "outputs": [
    {
     "output_type": "display_data",
     "data": {
      "text/html": [
       "<style scoped>\n",
       "  .table-result-container {\n",
       "    max-height: 300px;\n",
       "    overflow: auto;\n",
       "  }\n",
       "  table, th, td {\n",
       "    border: 1px solid black;\n",
       "    border-collapse: collapse;\n",
       "  }\n",
       "  th, td {\n",
       "    padding: 5px;\n",
       "  }\n",
       "  th {\n",
       "    text-align: left;\n",
       "  }\n",
       "</style><div class='table-result-container'><table class='table-result'><thead style='background-color: white'><tr></tr></thead><tbody></tbody></table></div>"
      ]
     },
     "metadata": {
      "application/vnd.databricks.v1+output": {
       "addedWidgets": {},
       "aggData": [],
       "aggError": "",
       "aggOverflow": false,
       "aggSchema": [],
       "aggSeriesLimitReached": false,
       "aggType": "",
       "arguments": {},
       "columnCustomDisplayInfos": {},
       "data": [],
       "datasetInfos": [],
       "dbfsResultPath": null,
       "isJsonSchema": true,
       "metadata": {},
       "overflow": false,
       "plotOptions": {
        "customPlotOptions": {},
        "displayType": "table",
        "pivotAggregation": null,
        "pivotColumns": null,
        "xColumns": null,
        "yColumns": null
       },
       "removedWidgets": [],
       "schema": [],
       "type": "table"
      }
     },
     "output_type": "display_data"
    }
   ],
   "source": [
    "%sql\n",
    "\n",
    "-- Adicionar comentário à coluna 'dt_venda'\n",
    "ALTER TABLE base_historica_gold ALTER COLUMN dt_anomes COMMENT 'Data da venda agregada por mês';\n",
    "\n",
    "-- Adicionar comentário à coluna 'loja'\n",
    "ALTER TABLE base_historica_gold ALTER COLUMN uf COMMENT 'Unidade Federativa';\n",
    "\n",
    "-- Adicionar comentário à coluna 'uf'\n",
    "ALTER TABLE base_historica_gold ALTER COLUMN loja COMMENT 'Código da loja';\n",
    "\n",
    "-- Adicionar comentário à coluna 'produto'\n",
    "ALTER TABLE base_historica_gold ALTER COLUMN produto COMMENT 'Código do produto';\n",
    "\n",
    "-- Adicionar comentário à coluna 'canal_venda'\n",
    "ALTER TABLE base_historica_gold ALTER COLUMN canal_venda COMMENT 'Canal de venda';\n",
    "\n",
    "-- Adicionar comentário à coluna 'tipo_venda'\n",
    "ALTER TABLE base_historica_gold ALTER COLUMN tipo_venda COMMENT 'Tipo de venda';\n",
    "\n",
    "-- Adicionar comentário à coluna 'vlr_venda'\n",
    "ALTER TABLE base_historica_gold ALTER COLUMN total_vendas COMMENT 'Total de vendas';\n",
    "\n",
    "-- Adicionar comentário à coluna 'qt_venda'\n",
    "ALTER TABLE base_historica_gold ALTER COLUMN total_itens_vendidos COMMENT 'Quantidade de unidades vendidas';"
   ]
  },
  {
   "cell_type": "markdown",
   "metadata": {
    "application/vnd.databricks.v1+cell": {
     "cellMetadata": {},
     "inputWidgets": {},
     "nuid": "998e5acb-e6e6-4ec8-bb2f-c1afb01ee9e4",
     "showTitle": false,
     "title": ""
    }
   },
   "source": [
    "**Dataquality | base_historica_gold**"
   ]
  },
  {
   "cell_type": "code",
   "execution_count": 0,
   "metadata": {
    "application/vnd.databricks.v1+cell": {
     "cellMetadata": {
      "byteLimit": 2048000,
      "rowLimit": 10000
     },
     "inputWidgets": {},
     "nuid": "ff5af177-2182-4bf9-90e6-51734e4fca4e",
     "showTitle": false,
     "title": ""
    }
   },
   "outputs": [
    {
     "output_type": "stream",
     "name": "stdout",
     "output_type": "stream",
     "text": [
      "+---------+---+----+-------+-----------+----------+------------+--------------------+\n|dt_anomes| uf|loja|produto|canal_venda|tipo_venda|total_vendas|total_itens_vendidos|\n+---------+---+----+-------+-----------+----------+------------+--------------------+\n|        0|  0|   0|      0|          0|         0|           0|                   0|\n+---------+---+----+-------+-----------+----------+------------+--------------------+\n\n"
     ]
    }
   ],
   "source": [
    "from pyspark.sql import SparkSession\n",
    "from pyspark.sql.functions import col, sum\n",
    "\n",
    "# Inicialize a sessão Spark\n",
    "spark = SparkSession.builder \\\n",
    "    .appName(\"Dataquality Tabela Gold - Campos nulos\") \\\n",
    "    .getOrCreate()\n",
    "\n",
    "# Caminho para a tabela Delta Lake\n",
    "path = \"dbfs:/user/hive/warehouse/base_historica_gold\"\n",
    "\n",
    "# Leia os dados a partir do caminho de arquivo Delta Lake\n",
    "df = spark.read.format(\"delta\").load(path)\n",
    "\n",
    "# Verifique se há campos em branco (valores nulos)\n",
    "null_counts = df.select([sum(col(c).isNull().cast(\"int\")).alias(c) for c in df.columns])\n",
    "\n",
    "# Mostre as contagens de valores nulos\n",
    "null_counts.show()"
   ]
  },
  {
   "cell_type": "code",
   "execution_count": 0,
   "metadata": {
    "application/vnd.databricks.v1+cell": {
     "cellMetadata": {
      "byteLimit": 2048000,
      "rowLimit": 10000
     },
     "inputWidgets": {},
     "nuid": "2795fcda-e92c-4e17-96ba-2058f0dfd966",
     "showTitle": false,
     "title": ""
    }
   },
   "outputs": [
    {
     "output_type": "stream",
     "name": "stdout",
     "output_type": "stream",
     "text": [
      "+---------+---+----+-------+-----------+----------+------------+--------------------+-----+\n|dt_anomes| uf|loja|produto|canal_venda|tipo_venda|total_vendas|total_itens_vendidos|count|\n+---------+---+----+-------+-----------+----------+------------+--------------------+-----+\n+---------+---+----+-------+-----------+----------+------------+--------------------+-----+\n\n"
     ]
    }
   ],
   "source": [
    "from pyspark.sql import SparkSession\n",
    "from pyspark.sql.functions import count\n",
    "\n",
    "# Inicialize a sessão Spark\n",
    "spark = SparkSession.builder \\\n",
    "    .appName(\"Dataquality Tabela Gold - Campos duplicados\") \\\n",
    "    .getOrCreate()\n",
    "\n",
    "# Caminho para a tabela Delta Lake\n",
    "path = \"dbfs:/user/hive/warehouse/base_historica_gold\"\n",
    "\n",
    "# Leia os dados a partir do caminho de arquivo Delta Lake\n",
    "df = spark.read.format(\"delta\").load(path)\n",
    "\n",
    "# Verifique duplicatas com base em todas as colunas\n",
    "df_duplicates = df.groupBy(df.columns).count().filter(\"count > 1\")\n",
    "\n",
    "# Mostre as duplicatas (se houver)\n",
    "df_duplicates.show()"
   ]
  },
  {
   "cell_type": "code",
   "execution_count": 0,
   "metadata": {
    "application/vnd.databricks.v1+cell": {
     "cellMetadata": {
      "byteLimit": 2048000,
      "implicitDf": true,
      "rowLimit": 10000
     },
     "inputWidgets": {},
     "nuid": "753a7827-bc12-4520-8c01-ddff8bb1520d",
     "showTitle": false,
     "title": ""
    }
   },
   "outputs": [
    {
     "output_type": "display_data",
     "data": {
      "text/html": [
       "<style scoped>\n",
       "  .table-result-container {\n",
       "    max-height: 300px;\n",
       "    overflow: auto;\n",
       "  }\n",
       "  table, th, td {\n",
       "    border: 1px solid black;\n",
       "    border-collapse: collapse;\n",
       "  }\n",
       "  th, td {\n",
       "    padding: 5px;\n",
       "  }\n",
       "  th {\n",
       "    text-align: left;\n",
       "  }\n",
       "</style><div class='table-result-container'><table class='table-result'><thead style='background-color: white'><tr><th>dt_anomes</th><th>uf</th><th>loja</th><th>produto</th><th>canal_venda</th><th>tipo_venda</th><th>total_vendas</th><th>total_itens_vendidos</th></tr></thead><tbody><tr><td>2023-01-01</td><td>BA</td><td>ABC20007</td><td>Produto X</td><td>LOJA</td><td>PROMOCAO</td><td>3715.79</td><td>2</td></tr><tr><td>2023-01-01</td><td>BA</td><td>ABC20007</td><td>Produto Z</td><td>LOJA</td><td>PROMOCAO</td><td>6563.63</td><td>4</td></tr><tr><td>2023-01-01</td><td>BA</td><td>ABC21382</td><td>Produto X</td><td>LOJA</td><td>PROMOCAO</td><td>3702.02</td><td>2</td></tr><tr><td>2023-01-01</td><td>BA</td><td>ABC21382</td><td>Produto Z</td><td>LOJA</td><td>PROMOCAO</td><td>6340.96</td><td>4</td></tr><tr><td>2023-01-01</td><td>BA</td><td>ABC5228</td><td>Produto X</td><td>SITE</td><td>PROMOCAO</td><td>904.0</td><td>0</td></tr><tr><td>2023-01-01</td><td>BA</td><td>ABC5228</td><td>Produto X</td><td>SITE</td><td>REGULAR</td><td>2833.05</td><td>4</td></tr><tr><td>2023-01-01</td><td>BA</td><td>ABC5228</td><td>Produto Z</td><td>SITE</td><td>REGULAR</td><td>6355.0</td><td>0</td></tr><tr><td>2023-01-01</td><td>BA</td><td>ABC9048</td><td>Produto X</td><td>SITE</td><td>REGULAR</td><td>2709.8</td><td>3</td></tr><tr><td>2023-01-01</td><td>BA</td><td>ABC9048</td><td>Produto Z</td><td>SITE</td><td>REGULAR</td><td>4325.82</td><td>3</td></tr><tr><td>2023-01-01</td><td>CE</td><td>ABC12953</td><td>Produto X</td><td>SITE</td><td>PROMOCAO</td><td>1365.0</td><td>37</td></tr><tr><td>2023-01-01</td><td>CE</td><td>ABC12953</td><td>Produto X</td><td>SITE</td><td>REGULAR</td><td>2659.0</td><td>12</td></tr><tr><td>2023-01-01</td><td>CE</td><td>ABC12953</td><td>Produto Z</td><td>SITE</td><td>REGULAR</td><td>6777.42</td><td>71</td></tr><tr><td>2023-01-01</td><td>CE</td><td>ABC14661</td><td>Produto X</td><td>SITE</td><td>PROMOCAO</td><td>1135.4</td><td>22</td></tr><tr><td>2023-01-01</td><td>CE</td><td>ABC14661</td><td>Produto X</td><td>SITE</td><td>REGULAR</td><td>2676.8</td><td>2</td></tr><tr><td>2023-01-01</td><td>CE</td><td>ABC14661</td><td>Produto Z</td><td>SITE</td><td>REGULAR</td><td>6287.26</td><td>6</td></tr><tr><td>2023-01-01</td><td>CE</td><td>ABC19747</td><td>Produto X</td><td>LOJA</td><td>PROMOCAO</td><td>3691.49</td><td>1</td></tr><tr><td>2023-01-01</td><td>CE</td><td>ABC19747</td><td>Produto Z</td><td>LOJA</td><td>PROMOCAO</td><td>6240.0</td><td>0</td></tr><tr><td>2023-01-01</td><td>CE</td><td>ABC19755</td><td>Produto X</td><td>SITE</td><td>PROMOCAO</td><td>1137.2</td><td>35</td></tr><tr><td>2023-01-01</td><td>CE</td><td>ABC19755</td><td>Produto X</td><td>SITE</td><td>REGULAR</td><td>2948.3</td><td>10</td></tr><tr><td>2023-01-01</td><td>CE</td><td>ABC19755</td><td>Produto Z</td><td>SITE</td><td>REGULAR</td><td>6458.17</td><td>43</td></tr><tr><td>2023-01-01</td><td>ES</td><td>ABC14153</td><td>Produto X</td><td>SITE</td><td>PROMOCAO</td><td>1593.7</td><td>35</td></tr><tr><td>2023-01-01</td><td>ES</td><td>ABC14153</td><td>Produto X</td><td>SITE</td><td>REGULAR</td><td>2957.0</td><td>12</td></tr><tr><td>2023-01-01</td><td>ES</td><td>ABC14153</td><td>Produto Z</td><td>SITE</td><td>REGULAR</td><td>7174.55</td><td>15</td></tr><tr><td>2023-01-01</td><td>ES</td><td>ABC19523</td><td>Produto X</td><td>LOJA</td><td>PROMOCAO</td><td>3692.56</td><td>1</td></tr><tr><td>2023-01-01</td><td>ES</td><td>ABC19523</td><td>Produto Z</td><td>LOJA</td><td>PROMOCAO</td><td>7083.0</td><td>0</td></tr><tr><td>2023-01-01</td><td>MA</td><td>ABC13186</td><td>Produto X</td><td>LOJA</td><td>PROMOCAO</td><td>3653.73</td><td>3</td></tr><tr><td>2023-01-01</td><td>MA</td><td>ABC13186</td><td>Produto Z</td><td>LOJA</td><td>PROMOCAO</td><td>6275.0</td><td>0</td></tr><tr><td>2023-01-01</td><td>MG</td><td>ABC18630</td><td>Produto X</td><td>LOJA</td><td>PROMOCAO</td><td>2706.0</td><td>0</td></tr><tr><td>2023-01-01</td><td>MG</td><td>ABC18630</td><td>Produto Z</td><td>LOJA</td><td>PROMOCAO</td><td>4620.0</td><td>0</td></tr><tr><td>2023-01-01</td><td>MG</td><td>ABC18631</td><td>Produto X</td><td>LOJA</td><td>PROMOCAO</td><td>2706.0</td><td>0</td></tr><tr><td>2023-01-01</td><td>MG</td><td>ABC18631</td><td>Produto Z</td><td>LOJA</td><td>PROMOCAO</td><td>4620.0</td><td>0</td></tr><tr><td>2023-01-01</td><td>PB</td><td>ABC19304</td><td>Produto X</td><td>LOJA</td><td>PROMOCAO</td><td>3712.04</td><td>1</td></tr><tr><td>2023-01-01</td><td>PB</td><td>ABC19304</td><td>Produto Z</td><td>LOJA</td><td>PROMOCAO</td><td>6075.82</td><td>2</td></tr><tr><td>2023-01-01</td><td>PB</td><td>ABC19709</td><td>Produto X</td><td>LOJA</td><td>PROMOCAO</td><td>3712.8</td><td>2</td></tr><tr><td>2023-01-01</td><td>PB</td><td>ABC19709</td><td>Produto Z</td><td>LOJA</td><td>PROMOCAO</td><td>6038.04</td><td>9</td></tr><tr><td>2023-01-01</td><td>PB</td><td>ABC21558</td><td>Produto X</td><td>SITE</td><td>PROMOCAO</td><td>1707.6</td><td>68</td></tr><tr><td>2023-01-01</td><td>PB</td><td>ABC21558</td><td>Produto X</td><td>SITE</td><td>REGULAR</td><td>2709.8</td><td>5</td></tr><tr><td>2023-01-01</td><td>PB</td><td>ABC21558</td><td>Produto Z</td><td>SITE</td><td>REGULAR</td><td>6531.04</td><td>103</td></tr><tr><td>2023-01-01</td><td>PE</td><td>ABC18465</td><td>Produto X</td><td>SITE</td><td>PROMOCAO</td><td>909.4</td><td>10</td></tr><tr><td>2023-01-01</td><td>PE</td><td>ABC18465</td><td>Produto X</td><td>SITE</td><td>REGULAR</td><td>2948.3</td><td>11</td></tr><tr><td>2023-01-01</td><td>PE</td><td>ABC18465</td><td>Produto Z</td><td>SITE</td><td>REGULAR</td><td>6731.86</td><td>26</td></tr><tr><td>2023-01-01</td><td>PE</td><td>ABC18611</td><td>Produto X</td><td>SITE</td><td>PROMOCAO</td><td>1018.8</td><td>5</td></tr><tr><td>2023-01-01</td><td>PE</td><td>ABC18611</td><td>Produto X</td><td>SITE</td><td>REGULAR</td><td>2811.54</td><td>4</td></tr><tr><td>2023-01-01</td><td>PE</td><td>ABC18611</td><td>Produto Z</td><td>SITE</td><td>REGULAR</td><td>7221.66</td><td>62</td></tr><tr><td>2023-01-01</td><td>PR</td><td>ABC18575</td><td>Produto X</td><td>LOJA</td><td>PROMOCAO</td><td>3699.08</td><td>3</td></tr><tr><td>2023-01-01</td><td>PR</td><td>ABC18575</td><td>Produto Z</td><td>LOJA</td><td>PROMOCAO</td><td>6863.0</td><td>0</td></tr><tr><td>2023-01-01</td><td>RJ</td><td>ABC14683</td><td>Produto X</td><td>SITE</td><td>PROMOCAO</td><td>1023.3</td><td>29</td></tr><tr><td>2023-01-01</td><td>RJ</td><td>ABC14683</td><td>Produto X</td><td>SITE</td><td>REGULAR</td><td>2968.6</td><td>25</td></tr><tr><td>2023-01-01</td><td>RJ</td><td>ABC14683</td><td>Produto Z</td><td>SITE</td><td>REGULAR</td><td>7273.39</td><td>6</td></tr><tr><td>2023-01-01</td><td>RJ</td><td>ABC17539</td><td>Produto X</td><td>LOJA</td><td>PROMOCAO</td><td>2684.0</td><td>0</td></tr><tr><td>2023-01-01</td><td>RJ</td><td>ABC17539</td><td>Produto Z</td><td>LOJA</td><td>PROMOCAO</td><td>4862.0</td><td>0</td></tr><tr><td>2023-01-01</td><td>RN</td><td>ABC14240</td><td>Produto X</td><td>SITE</td><td>PROMOCAO</td><td>1588.47</td><td>28</td></tr><tr><td>2023-01-01</td><td>RN</td><td>ABC14240</td><td>Produto X</td><td>SITE</td><td>REGULAR</td><td>2826.3</td><td>10</td></tr><tr><td>2023-01-01</td><td>RN</td><td>ABC14240</td><td>Produto Z</td><td>SITE</td><td>REGULAR</td><td>7139.86</td><td>111</td></tr><tr><td>2023-01-01</td><td>RN</td><td>ABC20423</td><td>Produto X</td><td>LOJA</td><td>PROMOCAO</td><td>3701.0</td><td>0</td></tr><tr><td>2023-01-01</td><td>RN</td><td>ABC20423</td><td>Produto Z</td><td>LOJA</td><td>PROMOCAO</td><td>6339.32</td><td>4</td></tr><tr><td>2023-01-01</td><td>RN</td><td>ABC20424</td><td>Produto X</td><td>LOJA</td><td>PROMOCAO</td><td>3622.08</td><td>5</td></tr><tr><td>2023-01-01</td><td>RN</td><td>ABC20424</td><td>Produto Z</td><td>LOJA</td><td>PROMOCAO</td><td>6125.71</td><td>6</td></tr><tr><td>2023-01-01</td><td>RN</td><td>ABC21349</td><td>Produto X</td><td>SITE</td><td>PROMOCAO</td><td>1017.9</td><td>6</td></tr><tr><td>2023-01-01</td><td>RN</td><td>ABC21349</td><td>Produto X</td><td>SITE</td><td>REGULAR</td><td>2686.08</td><td>3</td></tr><tr><td>2023-01-01</td><td>RN</td><td>ABC21349</td><td>Produto Z</td><td>SITE</td><td>REGULAR</td><td>6189.18</td><td>4</td></tr><tr><td>2023-01-01</td><td>RN</td><td>ABC21352</td><td>Produto X</td><td>SITE</td><td>PROMOCAO</td><td>996.02</td><td>8</td></tr><tr><td>2023-01-01</td><td>RN</td><td>ABC21352</td><td>Produto X</td><td>SITE</td><td>REGULAR</td><td>2686.9</td><td>1</td></tr><tr><td>2023-01-01</td><td>RN</td><td>ABC21352</td><td>Produto Z</td><td>SITE</td><td>REGULAR</td><td>6419.44</td><td>8</td></tr><tr><td>2023-01-01</td><td>RN</td><td>ABC5264</td><td>Produto X</td><td>LOJA</td><td>PROMOCAO</td><td>3699.88</td><td>4</td></tr><tr><td>2023-01-01</td><td>RN</td><td>ABC5264</td><td>Produto Z</td><td>LOJA</td><td>PROMOCAO</td><td>6152.9</td><td>1</td></tr><tr><td>2023-01-01</td><td>RN</td><td>ABC7958</td><td>Produto X</td><td>LOJA</td><td>PROMOCAO</td><td>3693.84</td><td>7</td></tr><tr><td>2023-01-01</td><td>RN</td><td>ABC7958</td><td>Produto Z</td><td>LOJA</td><td>PROMOCAO</td><td>6193.53</td><td>1</td></tr><tr><td>2023-01-01</td><td>RS</td><td>ABC14726</td><td>Produto X</td><td>SITE</td><td>PROMOCAO</td><td>1021.5</td><td>12</td></tr><tr><td>2023-01-01</td><td>RS</td><td>ABC14726</td><td>Produto X</td><td>SITE</td><td>REGULAR</td><td>3345.7</td><td>29</td></tr><tr><td>2023-01-01</td><td>RS</td><td>ABC14726</td><td>Produto Z</td><td>SITE</td><td>REGULAR</td><td>7538.0</td><td>15</td></tr><tr><td>2023-01-01</td><td>RS</td><td>ABC20103</td><td>Produto X</td><td>SITE</td><td>PROMOCAO</td><td>1022.4</td><td>12</td></tr><tr><td>2023-01-01</td><td>RS</td><td>ABC20103</td><td>Produto X</td><td>SITE</td><td>REGULAR</td><td>2717.4</td><td>12</td></tr><tr><td>2023-01-01</td><td>RS</td><td>ABC20103</td><td>Produto Z</td><td>SITE</td><td>REGULAR</td><td>7353.4</td><td>9</td></tr><tr><td>2023-01-01</td><td>SC</td><td>ABC18757</td><td>Produto X</td><td>LOJA</td><td>PROMOCAO</td><td>3723.9</td><td>1</td></tr><tr><td>2023-01-01</td><td>SC</td><td>ABC18757</td><td>Produto Z</td><td>LOJA</td><td>PROMOCAO</td><td>7000.0</td><td>0</td></tr><tr><td>2023-01-01</td><td>SE</td><td>ABC14286</td><td>Produto X</td><td>LOJA</td><td>PROMOCAO</td><td>3691.41</td><td>1</td></tr><tr><td>2023-01-01</td><td>SE</td><td>ABC14286</td><td>Produto Z</td><td>LOJA</td><td>PROMOCAO</td><td>6402.1</td><td>3</td></tr><tr><td>2023-01-01</td><td>SP</td><td>ABC11818</td><td>Produto X</td><td>LOJA</td><td>PROMOCAO</td><td>3689.76</td><td>2</td></tr><tr><td>2023-01-01</td><td>SP</td><td>ABC11818</td><td>Produto Z</td><td>LOJA</td><td>PROMOCAO</td><td>7144.44</td><td>3</td></tr><tr><td>2023-01-01</td><td>SP</td><td>ABC12405</td><td>Produto X</td><td>LOJA</td><td>PROMOCAO</td><td>3679.39</td><td>1</td></tr><tr><td>2023-01-01</td><td>SP</td><td>ABC12405</td><td>Produto Z</td><td>LOJA</td><td>PROMOCAO</td><td>7026.0</td><td>0</td></tr><tr><td>2023-01-01</td><td>SP</td><td>ABC12684</td><td>Produto X</td><td>LOJA</td><td>PROMOCAO</td><td>3691.57</td><td>2</td></tr><tr><td>2023-01-01</td><td>SP</td><td>ABC12684</td><td>Produto Z</td><td>LOJA</td><td>PROMOCAO</td><td>7015.17</td><td>1</td></tr><tr><td>2023-01-01</td><td>SP</td><td>ABC13387</td><td>Produto X</td><td>LOJA</td><td>PROMOCAO</td><td>2684.0</td><td>0</td></tr><tr><td>2023-01-01</td><td>SP</td><td>ABC13387</td><td>Produto Z</td><td>LOJA</td><td>PROMOCAO</td><td>4686.0</td><td>0</td></tr><tr><td>2023-01-01</td><td>SP</td><td>ABC13388</td><td>Produto X</td><td>LOJA</td><td>PROMOCAO</td><td>3654.68</td><td>4</td></tr><tr><td>2023-01-01</td><td>SP</td><td>ABC13388</td><td>Produto Z</td><td>LOJA</td><td>PROMOCAO</td><td>7026.0</td><td>0</td></tr><tr><td>2023-01-01</td><td>SP</td><td>ABC13733</td><td>Produto X</td><td>LOJA</td><td>PROMOCAO</td><td>3701.0</td><td>0</td></tr><tr><td>2023-01-01</td><td>SP</td><td>ABC13733</td><td>Produto Z</td><td>LOJA</td><td>PROMOCAO</td><td>7026.0</td><td>0</td></tr><tr><td>2023-01-01</td><td>SP</td><td>ABC14095</td><td>Produto X</td><td>LOJA</td><td>PROMOCAO</td><td>3688.06</td><td>2</td></tr><tr><td>2023-01-01</td><td>SP</td><td>ABC14095</td><td>Produto Z</td><td>LOJA</td><td>PROMOCAO</td><td>7076.0</td><td>1</td></tr><tr><td>2023-01-01</td><td>SP</td><td>ABC14151</td><td>Produto X</td><td>LOJA</td><td>PROMOCAO</td><td>3659.93</td><td>2</td></tr><tr><td>2023-01-01</td><td>SP</td><td>ABC14151</td><td>Produto Z</td><td>LOJA</td><td>PROMOCAO</td><td>7084.77</td><td>2</td></tr><tr><td>2023-01-01</td><td>SP</td><td>ABC17631</td><td>Produto X</td><td>SITE</td><td>PROMOCAO</td><td>1590.8</td><td>36</td></tr><tr><td>2023-01-01</td><td>SP</td><td>ABC17631</td><td>Produto X</td><td>SITE</td><td>REGULAR</td><td>3324.56</td><td>37</td></tr><tr><td>2023-01-01</td><td>SP</td><td>ABC17631</td><td>Produto Z</td><td>SITE</td><td>REGULAR</td><td>7519.57</td><td>36</td></tr><tr><td>2023-01-01</td><td>SP</td><td>ABC19104</td><td>Produto X</td><td>LOJA</td><td>PROMOCAO</td><td>3701.0</td><td>0</td></tr><tr><td>2023-01-01</td><td>SP</td><td>ABC19104</td><td>Produto Z</td><td>LOJA</td><td>PROMOCAO</td><td>7108.76</td><td>3</td></tr><tr><td>2023-01-01</td><td>SP</td><td>ABC3503</td><td>Produto X</td><td>SITE</td><td>PROMOCAO</td><td>2286.9</td><td>181</td></tr><tr><td>2023-01-01</td><td>SP</td><td>ABC3503</td><td>Produto X</td><td>SITE</td><td>REGULAR</td><td>4603.9</td><td>115</td></tr><tr><td>2023-01-01</td><td>SP</td><td>ABC3503</td><td>Produto Z</td><td>SITE</td><td>REGULAR</td><td>9429.2</td><td>118</td></tr><tr><td>2023-01-01</td><td>SP</td><td>ABC7462</td><td>Produto X</td><td>LOJA</td><td>PROMOCAO</td><td>3672.6</td><td>7</td></tr><tr><td>2023-01-01</td><td>SP</td><td>ABC7462</td><td>Produto Z</td><td>LOJA</td><td>PROMOCAO</td><td>7035.9</td><td>1</td></tr><tr><td>2023-01-01</td><td>SP</td><td>ABC7652</td><td>Produto X</td><td>LOJA</td><td>PROMOCAO</td><td>3699.9</td><td>1</td></tr><tr><td>2023-01-01</td><td>SP</td><td>ABC7652</td><td>Produto Z</td><td>LOJA</td><td>PROMOCAO</td><td>7077.96</td><td>1</td></tr><tr><td>2023-01-01</td><td>SP</td><td>ABC8816</td><td>Produto X</td><td>LOJA</td><td>PROMOCAO</td><td>3691.97</td><td>2</td></tr><tr><td>2023-01-01</td><td>SP</td><td>ABC8816</td><td>Produto Z</td><td>LOJA</td><td>PROMOCAO</td><td>7076.32</td><td>1</td></tr><tr><td>2023-02-01</td><td>BA</td><td>ABC20007</td><td>Produto X</td><td>LOJA</td><td>PROMOCAO</td><td>3308.9</td><td>2</td></tr><tr><td>2023-02-01</td><td>BA</td><td>ABC20007</td><td>Produto Z</td><td>LOJA</td><td>PROMOCAO</td><td>7063.97</td><td>2</td></tr><tr><td>2023-02-01</td><td>BA</td><td>ABC21382</td><td>Produto X</td><td>LOJA</td><td>PROMOCAO</td><td>3254.66</td><td>4</td></tr><tr><td>2023-02-01</td><td>BA</td><td>ABC21382</td><td>Produto Z</td><td>LOJA</td><td>PROMOCAO</td><td>7069.13</td><td>1</td></tr><tr><td>2023-02-01</td><td>BA</td><td>ABC5228</td><td>Produto X</td><td>SITE</td><td>PROMOCAO</td><td>1588.3</td><td>27</td></tr><tr><td>2023-02-01</td><td>BA</td><td>ABC5228</td><td>Produto X</td><td>SITE</td><td>REGULAR</td><td>1833.36</td><td>2</td></tr><tr><td>2023-02-01</td><td>BA</td><td>ABC5228</td><td>Produto Z</td><td>SITE</td><td>REGULAR</td><td>7088.7</td><td>3</td></tr><tr><td>2023-02-01</td><td>CE</td><td>ABC12953</td><td>Produto X</td><td>SITE</td><td>PROMOCAO</td><td>2039.5</td><td>41</td></tr><tr><td>2023-02-01</td><td>CE</td><td>ABC12953</td><td>Produto X</td><td>SITE</td><td>REGULAR</td><td>1826.7</td><td>3</td></tr><tr><td>2023-02-01</td><td>CE</td><td>ABC12953</td><td>Produto Z</td><td>SITE</td><td>REGULAR</td><td>6952.0</td><td>0</td></tr><tr><td>2023-02-01</td><td>CE</td><td>ABC14661</td><td>Produto X</td><td>SITE</td><td>PROMOCAO</td><td>1572.89</td><td>15</td></tr><tr><td>2023-02-01</td><td>CE</td><td>ABC14661</td><td>Produto X</td><td>SITE</td><td>REGULAR</td><td>1656.71</td><td>2</td></tr><tr><td>2023-02-01</td><td>CE</td><td>ABC14661</td><td>Produto Z</td><td>SITE</td><td>REGULAR</td><td>6952.0</td><td>0</td></tr><tr><td>2023-02-01</td><td>CE</td><td>ABC19747</td><td>Produto X</td><td>LOJA</td><td>PROMOCAO</td><td>3213.73</td><td>2</td></tr><tr><td>2023-02-01</td><td>CE</td><td>ABC19747</td><td>Produto Z</td><td>LOJA</td><td>PROMOCAO</td><td>6952.0</td><td>0</td></tr><tr><td>2023-02-01</td><td>CE</td><td>ABC19755</td><td>Produto X</td><td>SITE</td><td>PROMOCAO</td><td>1706.7</td><td>29</td></tr><tr><td>2023-02-01</td><td>CE</td><td>ABC19755</td><td>Produto X</td><td>SITE</td><td>REGULAR</td><td>1834.5</td><td>8</td></tr><tr><td>2023-02-01</td><td>CE</td><td>ABC19755</td><td>Produto Z</td><td>SITE</td><td>REGULAR</td><td>6962.7</td><td>3</td></tr><tr><td>2023-02-01</td><td>ES</td><td>ABC14153</td><td>Produto X</td><td>SITE</td><td>PROMOCAO</td><td>1475.3</td><td>22</td></tr><tr><td>2023-02-01</td><td>ES</td><td>ABC14153</td><td>Produto X</td><td>SITE</td><td>REGULAR</td><td>1936.0</td><td>0</td></tr><tr><td>2023-02-01</td><td>ES</td><td>ABC14153</td><td>Produto Z</td><td>SITE</td><td>REGULAR</td><td>7595.5</td><td>6</td></tr><tr><td>2023-02-01</td><td>ES</td><td>ABC19523</td><td>Produto X</td><td>LOJA</td><td>PROMOCAO</td><td>3276.6</td><td>1</td></tr><tr><td>2023-02-01</td><td>ES</td><td>ABC19523</td><td>Produto Z</td><td>LOJA</td><td>PROMOCAO</td><td>7284.0</td><td>0</td></tr><tr><td>2023-02-01</td><td>MA</td><td>ABC13186</td><td>Produto X</td><td>LOJA</td><td>PROMOCAO</td><td>3277.74</td><td>3</td></tr><tr><td>2023-02-01</td><td>MA</td><td>ABC13186</td><td>Produto Z</td><td>LOJA</td><td>PROMOCAO</td><td>6972.0</td><td>0</td></tr><tr><td>2023-02-01</td><td>PB</td><td>ABC19304</td><td>Produto X</td><td>LOJA</td><td>PROMOCAO</td><td>3308.0</td><td>0</td></tr><tr><td>2023-02-01</td><td>PB</td><td>ABC19304</td><td>Produto Z</td><td>LOJA</td><td>PROMOCAO</td><td>6856.39</td><td>3</td></tr><tr><td>2023-02-01</td><td>PB</td><td>ABC19709</td><td>Produto X</td><td>LOJA</td><td>PROMOCAO</td><td>3308.0</td><td>0</td></tr><tr><td>2023-02-01</td><td>PB</td><td>ABC19709</td><td>Produto Z</td><td>LOJA</td><td>PROMOCAO</td><td>6884.0</td><td>0</td></tr><tr><td>2023-02-01</td><td>PB</td><td>ABC21558</td><td>Produto X</td><td>SITE</td><td>PROMOCAO</td><td>1702.2</td><td>26</td></tr><tr><td>2023-02-01</td><td>PB</td><td>ABC21558</td><td>Produto X</td><td>SITE</td><td>REGULAR</td><td>1966.5</td><td>6</td></tr><tr><td>2023-02-01</td><td>PB</td><td>ABC21558</td><td>Produto Z</td><td>SITE</td><td>REGULAR</td><td>7006.1</td><td>12</td></tr><tr><td>2023-02-01</td><td>PE</td><td>ABC18465</td><td>Produto X</td><td>SITE</td><td>PROMOCAO</td><td>1356.0</td><td>0</td></tr><tr><td>2023-02-01</td><td>PE</td><td>ABC18465</td><td>Produto X</td><td>SITE</td><td>REGULAR</td><td>1952.0</td><td>0</td></tr><tr><td>2023-02-01</td><td>PE</td><td>ABC18465</td><td>Produto Z</td><td>SITE</td><td>REGULAR</td><td>7045.8</td><td>2</td></tr><tr><td>2023-02-01</td><td>PE</td><td>ABC18611</td><td>Produto X</td><td>SITE</td><td>PROMOCAO</td><td>1474.4</td><td>10</td></tr><tr><td>2023-02-01</td><td>PE</td><td>ABC18611</td><td>Produto X</td><td>SITE</td><td>REGULAR</td><td>2076.79</td><td>4</td></tr><tr><td>2023-02-01</td><td>PE</td><td>ABC18611</td><td>Produto Z</td><td>SITE</td><td>REGULAR</td><td>7039.56</td><td>3</td></tr><tr><td>2023-02-01</td><td>PR</td><td>ABC18575</td><td>Produto X</td><td>LOJA</td><td>PROMOCAO</td><td>3308.0</td><td>0</td></tr><tr><td>2023-02-01</td><td>PR</td><td>ABC18575</td><td>Produto Z</td><td>LOJA</td><td>PROMOCAO</td><td>7326.9</td><td>1</td></tr><tr><td>2023-02-01</td><td>RJ</td><td>ABC14683</td><td>Produto X</td><td>SITE</td><td>PROMOCAO</td><td>1704.9</td><td>37</td></tr><tr><td>2023-02-01</td><td>RJ</td><td>ABC14683</td><td>Produto X</td><td>SITE</td><td>REGULAR</td><td>1698.6</td><td>6</td></tr><tr><td>2023-02-01</td><td>RJ</td><td>ABC14683</td><td>Produto Z</td><td>SITE</td><td>REGULAR</td><td>7388.3</td><td>7</td></tr><tr><td>2023-02-01</td><td>RN</td><td>ABC14240</td><td>Produto X</td><td>SITE</td><td>PROMOCAO</td><td>2274.11</td><td>44</td></tr><tr><td>2023-02-01</td><td>RN</td><td>ABC14240</td><td>Produto X</td><td>SITE</td><td>REGULAR</td><td>1833.5</td><td>5</td></tr><tr><td>2023-02-01</td><td>RN</td><td>ABC14240</td><td>Produto Z</td><td>SITE</td><td>REGULAR</td><td>6936.0</td><td>0</td></tr><tr><td>2023-02-01</td><td>RN</td><td>ABC20423</td><td>Produto X</td><td>LOJA</td><td>PROMOCAO</td><td>3284.54</td><td>4</td></tr><tr><td>2023-02-01</td><td>RN</td><td>ABC20423</td><td>Produto Z</td><td>LOJA</td><td>PROMOCAO</td><td>6780.45</td><td>4</td></tr><tr><td>2023-02-01</td><td>RN</td><td>ABC20424</td><td>Produto X</td><td>LOJA</td><td>PROMOCAO</td><td>3284.62</td><td>1</td></tr><tr><td>2023-02-01</td><td>RN</td><td>ABC20424</td><td>Produto Z</td><td>LOJA</td><td>PROMOCAO</td><td>6869.84</td><td>7</td></tr><tr><td>2023-02-01</td><td>RN</td><td>ABC21349</td><td>Produto X</td><td>SITE</td><td>PROMOCAO</td><td>1565.5</td><td>11</td></tr><tr><td>2023-02-01</td><td>RN</td><td>ABC21349</td><td>Produto X</td><td>SITE</td><td>REGULAR</td><td>1821.53</td><td>2</td></tr><tr><td>2023-02-01</td><td>RN</td><td>ABC21349</td><td>Produto Z</td><td>SITE</td><td>REGULAR</td><td>6943.9</td><td>1</td></tr><tr><td>2023-02-01</td><td>RN</td><td>ABC21352</td><td>Produto X</td><td>SITE</td><td>PROMOCAO</td><td>1337.72</td><td>6</td></tr><tr><td>2023-02-01</td><td>RN</td><td>ABC21352</td><td>Produto X</td><td>SITE</td><td>REGULAR</td><td>1952.0</td><td>0</td></tr><tr><td>2023-02-01</td><td>RN</td><td>ABC21352</td><td>Produto Z</td><td>SITE</td><td>REGULAR</td><td>6936.0</td><td>0</td></tr><tr><td>2023-02-01</td><td>RN</td><td>ABC5264</td><td>Produto X</td><td>LOJA</td><td>PROMOCAO</td><td>3258.84</td><td>4</td></tr><tr><td>2023-02-01</td><td>RN</td><td>ABC5264</td><td>Produto Z</td><td>LOJA</td><td>PROMOCAO</td><td>6936.0</td><td>0</td></tr><tr><td>2023-02-01</td><td>RN</td><td>ABC7958</td><td>Produto X</td><td>LOJA</td><td>PROMOCAO</td><td>3295.14</td><td>3</td></tr><tr><td>2023-02-01</td><td>RN</td><td>ABC7958</td><td>Produto Z</td><td>LOJA</td><td>PROMOCAO</td><td>6936.0</td><td>0</td></tr><tr><td>2023-02-01</td><td>RS</td><td>ABC14726</td><td>Produto X</td><td>SITE</td><td>PROMOCAO</td><td>2044.8</td><td>41</td></tr><tr><td>2023-02-01</td><td>RS</td><td>ABC14726</td><td>Produto X</td><td>SITE</td><td>REGULAR</td><td>1964.2</td><td>25</td></tr><tr><td>2023-02-01</td><td>RS</td><td>ABC14726</td><td>Produto Z</td><td>SITE</td><td>REGULAR</td><td>7417.2</td><td>13</td></tr><tr><td>2023-02-01</td><td>RS</td><td>ABC20103</td><td>Produto X</td><td>SITE</td><td>PROMOCAO</td><td>1476.2</td><td>23</td></tr><tr><td>2023-02-01</td><td>RS</td><td>ABC20103</td><td>Produto X</td><td>SITE</td><td>REGULAR</td><td>1967.22</td><td>8</td></tr><tr><td>2023-02-01</td><td>RS</td><td>ABC20103</td><td>Produto Z</td><td>SITE</td><td>REGULAR</td><td>7368.0</td><td>0</td></tr><tr><td>2023-02-01</td><td>SC</td><td>ABC18757</td><td>Produto X</td><td>LOJA</td><td>PROMOCAO</td><td>3301.93</td><td>2</td></tr><tr><td>2023-02-01</td><td>SC</td><td>ABC18757</td><td>Produto Z</td><td>LOJA</td><td>PROMOCAO</td><td>7384.0</td><td>0</td></tr><tr><td>2023-02-01</td><td>SE</td><td>ABC14286</td><td>Produto X</td><td>LOJA</td><td>PROMOCAO</td><td>3308.0</td><td>0</td></tr><tr><td>2023-02-01</td><td>SE</td><td>ABC14286</td><td>Produto Z</td><td>LOJA</td><td>PROMOCAO</td><td>6868.0</td><td>0</td></tr><tr><td>2023-02-01</td><td>SP</td><td>ABC11818</td><td>Produto X</td><td>LOJA</td><td>PROMOCAO</td><td>3279.63</td><td>2</td></tr><tr><td>2023-02-01</td><td>SP</td><td>ABC11818</td><td>Produto Z</td><td>LOJA</td><td>PROMOCAO</td><td>7312.0</td><td>0</td></tr><tr><td>2023-02-01</td><td>SP</td><td>ABC12405</td><td>Produto X</td><td>LOJA</td><td>PROMOCAO</td><td>3260.69</td><td>3</td></tr><tr><td>2023-02-01</td><td>SP</td><td>ABC12405</td><td>Produto Z</td><td>LOJA</td><td>PROMOCAO</td><td>7250.55</td><td>2</td></tr><tr><td>2023-02-01</td><td>SP</td><td>ABC12684</td><td>Produto X</td><td>LOJA</td><td>PROMOCAO</td><td>1349.32</td><td>1</td></tr><tr><td>2023-02-01</td><td>SP</td><td>ABC12684</td><td>Produto Z</td><td>LOJA</td><td>PROMOCAO</td><td>3120.0</td><td>0</td></tr><tr><td>2023-02-01</td><td>SP</td><td>ABC13388</td><td>Produto X</td><td>LOJA</td><td>PROMOCAO</td><td>3284.57</td><td>2</td></tr><tr><td>2023-02-01</td><td>SP</td><td>ABC13388</td><td>Produto Z</td><td>LOJA</td><td>PROMOCAO</td><td>7305.87</td><td>1</td></tr><tr><td>2023-02-01</td><td>SP</td><td>ABC13733</td><td>Produto X</td><td>LOJA</td><td>PROMOCAO</td><td>3283.12</td><td>3</td></tr><tr><td>2023-02-01</td><td>SP</td><td>ABC13733</td><td>Produto Z</td><td>LOJA</td><td>PROMOCAO</td><td>7249.88</td><td>2</td></tr><tr><td>2023-02-01</td><td>SP</td><td>ABC14095</td><td>Produto X</td><td>LOJA</td><td>PROMOCAO</td><td>3289.9</td><td>2</td></tr><tr><td>2023-02-01</td><td>SP</td><td>ABC14095</td><td>Produto Z</td><td>LOJA</td><td>PROMOCAO</td><td>7316.9</td><td>1</td></tr><tr><td>2023-02-01</td><td>SP</td><td>ABC14151</td><td>Produto X</td><td>LOJA</td><td>PROMOCAO</td><td>3279.51</td><td>2</td></tr><tr><td>2023-02-01</td><td>SP</td><td>ABC14151</td><td>Produto Z</td><td>LOJA</td><td>PROMOCAO</td><td>7288.0</td><td>1</td></tr><tr><td>2023-02-01</td><td>SP</td><td>ABC17631</td><td>Produto X</td><td>SITE</td><td>PROMOCAO</td><td>2389.2</td><td>55</td></tr><tr><td>2023-02-01</td><td>SP</td><td>ABC17631</td><td>Produto X</td><td>SITE</td><td>REGULAR</td><td>1729.1</td><td>15</td></tr><tr><td>2023-02-01</td><td>SP</td><td>ABC17631</td><td>Produto Z</td><td>SITE</td><td>REGULAR</td><td>7412.9</td><td>11</td></tr><tr><td>2023-02-01</td><td>SP</td><td>ABC19104</td><td>Produto X</td><td>LOJA</td><td>PROMOCAO</td><td>3284.68</td><td>6</td></tr><tr><td>2023-02-01</td><td>SP</td><td>ABC19104</td><td>Produto Z</td><td>LOJA</td><td>PROMOCAO</td><td>7307.0</td><td>1</td></tr><tr><td>2023-02-01</td><td>SP</td><td>ABC3503</td><td>Produto X</td><td>SITE</td><td>PROMOCAO</td><td>3634.51</td><td>339</td></tr><tr><td>2023-02-01</td><td>SP</td><td>ABC3503</td><td>Produto X</td><td>SITE</td><td>REGULAR</td><td>3391.39</td><td>133</td></tr><tr><td>2023-02-01</td><td>SP</td><td>ABC3503</td><td>Produto Z</td><td>SITE</td><td>REGULAR</td><td>9909.2</td><td>56</td></tr><tr><td>2023-02-01</td><td>SP</td><td>ABC7462</td><td>Produto X</td><td>LOJA</td><td>PROMOCAO</td><td>3296.25</td><td>4</td></tr><tr><td>2023-02-01</td><td>SP</td><td>ABC7462</td><td>Produto Z</td><td>LOJA</td><td>PROMOCAO</td><td>7324.82</td><td>2</td></tr><tr><td>2023-02-01</td><td>SP</td><td>ABC7652</td><td>Produto X</td><td>LOJA</td><td>PROMOCAO</td><td>3292.0</td><td>0</td></tr><tr><td>2023-02-01</td><td>SP</td><td>ABC7652</td><td>Produto Z</td><td>LOJA</td><td>PROMOCAO</td><td>7312.0</td><td>0</td></tr><tr><td>2023-02-01</td><td>SP</td><td>ABC8816</td><td>Produto X</td><td>LOJA</td><td>PROMOCAO</td><td>3292.0</td><td>0</td></tr><tr><td>2023-02-01</td><td>SP</td><td>ABC8816</td><td>Produto Z</td><td>LOJA</td><td>PROMOCAO</td><td>7321.9</td><td>1</td></tr><tr><td>2023-03-01</td><td>BA</td><td>ABC20007</td><td>Produto X</td><td>LOJA</td><td>PROMOCAO</td><td>3192.14</td><td>2</td></tr><tr><td>2023-03-01</td><td>BA</td><td>ABC20007</td><td>Produto X</td><td>LOJA</td><td>REGULAR</td><td>615.0</td><td>0</td></tr><tr><td>2023-03-01</td><td>BA</td><td>ABC20007</td><td>Produto Z</td><td>LOJA</td><td>PROMOCAO</td><td>6643.52</td><td>3</td></tr><tr><td>2023-03-01</td><td>BA</td><td>ABC20007</td><td>Produto Z</td><td>LOJA</td><td>REGULAR</td><td>1263.9</td><td>1</td></tr><tr><td>2023-03-01</td><td>BA</td><td>ABC21382</td><td>Produto X</td><td>LOJA</td><td>PROMOCAO</td><td>3195.9</td><td>1</td></tr><tr><td>2023-03-01</td><td>BA</td><td>ABC21382</td><td>Produto X</td><td>LOJA</td><td>REGULAR</td><td>615.0</td><td>0</td></tr><tr><td>2023-03-01</td><td>BA</td><td>ABC21382</td><td>Produto Z</td><td>LOJA</td><td>PROMOCAO</td><td>6651.0</td><td>0</td></tr><tr><td>2023-03-01</td><td>BA</td><td>ABC21382</td><td>Produto Z</td><td>LOJA</td><td>REGULAR</td><td>1255.0</td><td>0</td></tr><tr><td>2023-03-01</td><td>BA</td><td>ABC5228</td><td>Produto X</td><td>SITE</td><td>REGULAR</td><td>3811.34</td><td>6</td></tr><tr><td>2023-03-01</td><td>BA</td><td>ABC5228</td><td>Produto Z</td><td>SITE</td><td>REGULAR</td><td>7915.54</td><td>6</td></tr><tr><td>2023-03-01</td><td>CE</td><td>ABC12953</td><td>Produto X</td><td>SITE</td><td>REGULAR</td><td>3791.1</td><td>10</td></tr><tr><td>2023-03-01</td><td>CE</td><td>ABC12953</td><td>Produto Z</td><td>SITE</td><td>REGULAR</td><td>7769.8</td><td>4</td></tr><tr><td>2023-03-01</td><td>CE</td><td>ABC14661</td><td>Produto X</td><td>SITE</td><td>REGULAR</td><td>3836.87</td><td>7</td></tr><tr><td>2023-03-01</td><td>CE</td><td>ABC14661</td><td>Produto Z</td><td>SITE</td><td>REGULAR</td><td>7741.1</td><td>4</td></tr><tr><td>2023-03-01</td><td>CE</td><td>ABC19747</td><td>Produto X</td><td>LOJA</td><td>PROMOCAO</td><td>3149.9</td><td>1</td></tr><tr><td>2023-03-01</td><td>CE</td><td>ABC19747</td><td>Produto X</td><td>LOJA</td><td>REGULAR</td><td>609.66</td><td>1</td></tr><tr><td>2023-03-01</td><td>CE</td><td>ABC19747</td><td>Produto Z</td><td>LOJA</td><td>PROMOCAO</td><td>6436.58</td><td>4</td></tr><tr><td>2023-03-01</td><td>CE</td><td>ABC19747</td><td>Produto Z</td><td>LOJA</td><td>REGULAR</td><td>1250.0</td><td>0</td></tr><tr><td>2023-03-01</td><td>CE</td><td>ABC19755</td><td>Produto X</td><td>SITE</td><td>REGULAR</td><td>4036.58</td><td>14</td></tr><tr><td>2023-03-01</td><td>CE</td><td>ABC19755</td><td>Produto Z</td><td>SITE</td><td>REGULAR</td><td>7829.2</td><td>11</td></tr><tr><td>2023-03-01</td><td>ES</td><td>ABC14153</td><td>Produto X</td><td>SITE</td><td>REGULAR</td><td>4325.1</td><td>22</td></tr><tr><td>2023-03-01</td><td>ES</td><td>ABC14153</td><td>Produto Z</td><td>SITE</td><td>REGULAR</td><td>8156.4</td><td>6</td></tr><tr><td>2023-03-01</td><td>ES</td><td>ABC19523</td><td>Produto X</td><td>LOJA</td><td>PROMOCAO</td><td>3167.0</td><td>0</td></tr><tr><td>2023-03-01</td><td>ES</td><td>ABC19523</td><td>Produto X</td><td>LOJA</td><td>REGULAR</td><td>615.0</td><td>0</td></tr><tr><td>2023-03-01</td><td>ES</td><td>ABC19523</td><td>Produto Z</td><td>LOJA</td><td>PROMOCAO</td><td>6769.62</td><td>1</td></tr><tr><td>2023-03-01</td><td>ES</td><td>ABC19523</td><td>Produto Z</td><td>LOJA</td><td>REGULAR</td><td>1320.0</td><td>0</td></tr><tr><td>2023-03-01</td><td>MA</td><td>ABC13186</td><td>Produto X</td><td>LOJA</td><td>PROMOCAO</td><td>3136.83</td><td>4</td></tr><tr><td>2023-03-01</td><td>MA</td><td>ABC13186</td><td>Produto X</td><td>LOJA</td><td>REGULAR</td><td>610.0</td><td>0</td></tr><tr><td>2023-03-01</td><td>MA</td><td>ABC13186</td><td>Produto Z</td><td>LOJA</td><td>PROMOCAO</td><td>6549.92</td><td>2</td></tr><tr><td>2023-03-01</td><td>MA</td><td>ABC13186</td><td>Produto Z</td><td>LOJA</td><td>REGULAR</td><td>1265.0</td><td>0</td></tr><tr><td>2023-03-01</td><td>PB</td><td>ABC19304</td><td>Produto X</td><td>LOJA</td><td>PROMOCAO</td><td>3173.66</td><td>1</td></tr><tr><td>2023-03-01</td><td>PB</td><td>ABC19304</td><td>Produto X</td><td>LOJA</td><td>REGULAR</td><td>615.0</td><td>0</td></tr><tr><td>2023-03-01</td><td>PB</td><td>ABC19304</td><td>Produto Z</td><td>LOJA</td><td>PROMOCAO</td><td>6414.2</td><td>3</td></tr><tr><td>2023-03-01</td><td>PB</td><td>ABC19304</td><td>Produto Z</td><td>LOJA</td><td>REGULAR</td><td>1255.0</td><td>0</td></tr><tr><td>2023-03-01</td><td>PB</td><td>ABC19709</td><td>Produto X</td><td>LOJA</td><td>PROMOCAO</td><td>3149.01</td><td>5</td></tr><tr><td>2023-03-01</td><td>PB</td><td>ABC19709</td><td>Produto X</td><td>LOJA</td><td>REGULAR</td><td>615.0</td><td>0</td></tr><tr><td>2023-03-01</td><td>PB</td><td>ABC19709</td><td>Produto Z</td><td>LOJA</td><td>PROMOCAO</td><td>6427.0</td><td>0</td></tr><tr><td>2023-03-01</td><td>PB</td><td>ABC19709</td><td>Produto Z</td><td>LOJA</td><td>REGULAR</td><td>1255.0</td><td>0</td></tr><tr><td>2023-03-01</td><td>PB</td><td>ABC21558</td><td>Produto X</td><td>SITE</td><td>REGULAR</td><td>4223.7</td><td>31</td></tr><tr><td>2023-03-01</td><td>PB</td><td>ABC21558</td><td>Produto Z</td><td>SITE</td><td>REGULAR</td><td>7775.2</td><td>10</td></tr><tr><td>2023-03-01</td><td>PE</td><td>ABC18465</td><td>Produto X</td><td>SITE</td><td>REGULAR</td><td>3924.18</td><td>12</td></tr><tr><td>2023-03-01</td><td>PE</td><td>ABC18465</td><td>Produto Z</td><td>SITE</td><td>REGULAR</td><td>7855.76</td><td>8</td></tr><tr><td>2023-03-01</td><td>PE</td><td>ABC18611</td><td>Produto X</td><td>SITE</td><td>REGULAR</td><td>3789.81</td><td>5</td></tr><tr><td>2023-03-01</td><td>PE</td><td>ABC18611</td><td>Produto Z</td><td>SITE</td><td>REGULAR</td><td>7826.84</td><td>4</td></tr><tr><td>2023-03-01</td><td>PR</td><td>ABC18575</td><td>Produto X</td><td>LOJA</td><td>PROMOCAO</td><td>3172.0</td><td>0</td></tr><tr><td>2023-03-01</td><td>PR</td><td>ABC18575</td><td>Produto X</td><td>LOJA</td><td>REGULAR</td><td>612.9</td><td>1</td></tr><tr><td>2023-03-01</td><td>PR</td><td>ABC18575</td><td>Produto Z</td><td>LOJA</td><td>PROMOCAO</td><td>6859.0</td><td>0</td></tr><tr><td>2023-03-01</td><td>PR</td><td>ABC18575</td><td>Produto Z</td><td>LOJA</td><td>REGULAR</td><td>1320.0</td><td>0</td></tr><tr><td>2023-03-01</td><td>RJ</td><td>ABC14683</td><td>Produto X</td><td>SITE</td><td>REGULAR</td><td>4062.7</td><td>29</td></tr><tr><td>2023-03-01</td><td>RJ</td><td>ABC14683</td><td>Produto Z</td><td>SITE</td><td>REGULAR</td><td>8241.8</td><td>13</td></tr><tr><td>2023-03-01</td><td>RN</td><td>ABC14240</td><td>Produto X</td><td>SITE</td><td>REGULAR</td><td>4083.5</td><td>19</td></tr><tr><td>2023-03-01</td><td>RN</td><td>ABC14240</td><td>Produto Z</td><td>SITE</td><td>REGULAR</td><td>7658.98</td><td>4</td></tr><tr><td>2023-03-01</td><td>RN</td><td>ABC20423</td><td>Produto X</td><td>LOJA</td><td>PROMOCAO</td><td>3193.0</td><td>0</td></tr><tr><td>2023-03-01</td><td>RN</td><td>ABC20423</td><td>Produto X</td><td>LOJA</td><td>REGULAR</td><td>615.0</td><td>0</td></tr><tr><td>2023-03-01</td><td>RN</td><td>ABC20423</td><td>Produto Z</td><td>LOJA</td><td>PROMOCAO</td><td>6396.78</td><td>2</td></tr><tr><td>2023-03-01</td><td>RN</td><td>ABC20423</td><td>Produto Z</td><td>LOJA</td><td>REGULAR</td><td>1217.34</td><td>1</td></tr><tr><td>2023-03-01</td><td>RN</td><td>ABC20424</td><td>Produto X</td><td>LOJA</td><td>PROMOCAO</td><td>3162.19</td><td>1</td></tr><tr><td>2023-03-01</td><td>RN</td><td>ABC20424</td><td>Produto X</td><td>LOJA</td><td>REGULAR</td><td>615.0</td><td>0</td></tr><tr><td>2023-03-01</td><td>RN</td><td>ABC20424</td><td>Produto Z</td><td>LOJA</td><td>PROMOCAO</td><td>6356.85</td><td>2</td></tr><tr><td>2023-03-01</td><td>RN</td><td>ABC20424</td><td>Produto Z</td><td>LOJA</td><td>REGULAR</td><td>1164.5</td><td>2</td></tr><tr><td>2023-03-01</td><td>RN</td><td>ABC21349</td><td>Produto X</td><td>SITE</td><td>REGULAR</td><td>3799.64</td><td>7</td></tr><tr><td>2023-03-01</td><td>RN</td><td>ABC21349</td><td>Produto Z</td><td>SITE</td><td>REGULAR</td><td>7705.22</td><td>5</td></tr><tr><td>2023-03-01</td><td>RN</td><td>ABC21352</td><td>Produto X</td><td>SITE</td><td>REGULAR</td><td>3790.72</td><td>3</td></tr><tr><td>2023-03-01</td><td>RN</td><td>ABC21352</td><td>Produto Z</td><td>SITE</td><td>REGULAR</td><td>7672.92</td><td>1</td></tr><tr><td>2023-03-01</td><td>RN</td><td>ABC22036</td><td>Produto X</td><td>LOJA</td><td>REGULAR</td><td>615.0</td><td>0</td></tr><tr><td>2023-03-01</td><td>RN</td><td>ABC22036</td><td>Produto Z</td><td>LOJA</td><td>REGULAR</td><td>1265.0</td><td>0</td></tr><tr><td>2023-03-01</td><td>RN</td><td>ABC5264</td><td>Produto X</td><td>LOJA</td><td>PROMOCAO</td><td>3165.22</td><td>2</td></tr><tr><td>2023-03-01</td><td>RN</td><td>ABC5264</td><td>Produto X</td><td>LOJA</td><td>REGULAR</td><td>615.0</td><td>0</td></tr><tr><td>2023-03-01</td><td>RN</td><td>ABC5264</td><td>Produto Z</td><td>LOJA</td><td>PROMOCAO</td><td>6421.41</td><td>2</td></tr><tr><td>2023-03-01</td><td>RN</td><td>ABC5264</td><td>Produto Z</td><td>LOJA</td><td>REGULAR</td><td>1215.19</td><td>1</td></tr><tr><td>2023-03-01</td><td>RN</td><td>ABC7958</td><td>Produto X</td><td>LOJA</td><td>PROMOCAO</td><td>3180.5</td><td>4</td></tr><tr><td>2023-03-01</td><td>RN</td><td>ABC7958</td><td>Produto X</td><td>LOJA</td><td>REGULAR</td><td>615.0</td><td>0</td></tr><tr><td>2023-03-01</td><td>RN</td><td>ABC7958</td><td>Produto Z</td><td>LOJA</td><td>PROMOCAO</td><td>6459.9</td><td>1</td></tr><tr><td>2023-03-01</td><td>RN</td><td>ABC7958</td><td>Produto Z</td><td>LOJA</td><td>REGULAR</td><td>1265.0</td><td>0</td></tr><tr><td>2023-03-01</td><td>RS</td><td>ABC14726</td><td>Produto X</td><td>SITE</td><td>REGULAR</td><td>4329.5</td><td>30</td></tr><tr><td>2023-03-01</td><td>RS</td><td>ABC14726</td><td>Produto Z</td><td>SITE</td><td>REGULAR</td><td>8231.3</td><td>8</td></tr><tr><td>2023-03-01</td><td>RS</td><td>ABC20103</td><td>Produto X</td><td>SITE</td><td>REGULAR</td><td>3827.1</td><td>19</td></tr><tr><td>2023-03-01</td><td>RS</td><td>ABC20103</td><td>Produto Z</td><td>SITE</td><td>REGULAR</td><td>8239.2</td><td>11</td></tr><tr><td>2023-03-01</td><td>SC</td><td>ABC18757</td><td>Produto X</td><td>LOJA</td><td>PROMOCAO</td><td>3194.9</td><td>1</td></tr><tr><td>2023-03-01</td><td>SC</td><td>ABC18757</td><td>Produto X</td><td>LOJA</td><td>REGULAR</td><td>615.0</td><td>0</td></tr><tr><td>2023-03-01</td><td>SC</td><td>ABC18757</td><td>Produto Z</td><td>LOJA</td><td>PROMOCAO</td><td>6890.0</td><td>0</td></tr><tr><td>2023-03-01</td><td>SC</td><td>ABC18757</td><td>Produto Z</td><td>LOJA</td><td>REGULAR</td><td>1335.0</td><td>0</td></tr><tr><td>2023-03-01</td><td>SE</td><td>ABC14286</td><td>Produto X</td><td>LOJA</td><td>PROMOCAO</td><td>3194.9</td><td>1</td></tr><tr><td>2023-03-01</td><td>SE</td><td>ABC14286</td><td>Produto X</td><td>LOJA</td><td>REGULAR</td><td>610.0</td><td>0</td></tr><tr><td>2023-03-01</td><td>SE</td><td>ABC14286</td><td>Produto Z</td><td>LOJA</td><td>PROMOCAO</td><td>6539.9</td><td>1</td></tr><tr><td>2023-03-01</td><td>SE</td><td>ABC14286</td><td>Produto Z</td><td>LOJA</td><td>REGULAR</td><td>1260.0</td><td>0</td></tr><tr><td>2023-03-01</td><td>SE</td><td>ABC21279</td><td>Produto X</td><td>LOJA</td><td>REGULAR</td><td>610.0</td><td>0</td></tr><tr><td>2023-03-01</td><td>SE</td><td>ABC21279</td><td>Produto Z</td><td>LOJA</td><td>REGULAR</td><td>1260.0</td><td>0</td></tr><tr><td>2023-03-01</td><td>SP</td><td>ABC11818</td><td>Produto X</td><td>LOJA</td><td>PROMOCAO</td><td>3179.6</td><td>4</td></tr><tr><td>2023-03-01</td><td>SP</td><td>ABC11818</td><td>Produto X</td><td>LOJA</td><td>REGULAR</td><td>612.9</td><td>1</td></tr><tr><td>2023-03-01</td><td>SP</td><td>ABC11818</td><td>Produto Z</td><td>LOJA</td><td>PROMOCAO</td><td>6829.35</td><td>1</td></tr><tr><td>2023-03-01</td><td>SP</td><td>ABC11818</td><td>Produto Z</td><td>LOJA</td><td>REGULAR</td><td>1314.06</td><td>1</td></tr><tr><td>2023-03-01</td><td>SP</td><td>ABC12405</td><td>Produto X</td><td>LOJA</td><td>PROMOCAO</td><td>3080.68</td><td>3</td></tr><tr><td>2023-03-01</td><td>SP</td><td>ABC12405</td><td>Produto X</td><td>LOJA</td><td>REGULAR</td><td>610.0</td><td>0</td></tr><tr><td>2023-03-01</td><td>SP</td><td>ABC12405</td><td>Produto Z</td><td>LOJA</td><td>PROMOCAO</td><td>6718.43</td><td>2</td></tr><tr><td>2023-03-01</td><td>SP</td><td>ABC12405</td><td>Produto Z</td><td>LOJA</td><td>REGULAR</td><td>1320.0</td><td>0</td></tr><tr><td>2023-03-01</td><td>SP</td><td>ABC13388</td><td>Produto X</td><td>LOJA</td><td>PROMOCAO</td><td>3161.3</td><td>5</td></tr><tr><td>2023-03-01</td><td>SP</td><td>ABC13388</td><td>Produto X</td><td>LOJA</td><td>REGULAR</td><td>610.0</td><td>0</td></tr><tr><td>2023-03-01</td><td>SP</td><td>ABC13388</td><td>Produto Z</td><td>LOJA</td><td>PROMOCAO</td><td>6829.01</td><td>1</td></tr><tr><td>2023-03-01</td><td>SP</td><td>ABC13388</td><td>Produto Z</td><td>LOJA</td><td>REGULAR</td><td>1320.0</td><td>0</td></tr><tr><td>2023-03-01</td><td>SP</td><td>ABC13733</td><td>Produto X</td><td>LOJA</td><td>PROMOCAO</td><td>3166.23</td><td>1</td></tr><tr><td>2023-03-01</td><td>SP</td><td>ABC13733</td><td>Produto X</td><td>LOJA</td><td>REGULAR</td><td>610.0</td><td>0</td></tr><tr><td>2023-03-01</td><td>SP</td><td>ABC13733</td><td>Produto Z</td><td>LOJA</td><td>PROMOCAO</td><td>6816.11</td><td>1</td></tr><tr><td>2023-03-01</td><td>SP</td><td>ABC13733</td><td>Produto Z</td><td>LOJA</td><td>REGULAR</td><td>1320.0</td><td>0</td></tr><tr><td>2023-03-01</td><td>SP</td><td>ABC14095</td><td>Produto X</td><td>LOJA</td><td>PROMOCAO</td><td>3163.07</td><td>2</td></tr><tr><td>2023-03-01</td><td>SP</td><td>ABC14095</td><td>Produto X</td><td>LOJA</td><td>REGULAR</td><td>610.0</td><td>0</td></tr><tr><td>2023-03-01</td><td>SP</td><td>ABC14095</td><td>Produto Z</td><td>LOJA</td><td>PROMOCAO</td><td>6837.25</td><td>1</td></tr><tr><td>2023-03-01</td><td>SP</td><td>ABC14095</td><td>Produto Z</td><td>LOJA</td><td>REGULAR</td><td>1320.0</td><td>0</td></tr><tr><td>2023-03-01</td><td>SP</td><td>ABC14151</td><td>Produto X</td><td>LOJA</td><td>PROMOCAO</td><td>3118.45</td><td>3</td></tr><tr><td>2023-03-01</td><td>SP</td><td>ABC14151</td><td>Produto X</td><td>LOJA</td><td>REGULAR</td><td>610.0</td><td>0</td></tr><tr><td>2023-03-01</td><td>SP</td><td>ABC14151</td><td>Produto Z</td><td>LOJA</td><td>PROMOCAO</td><td>6833.0</td><td>0</td></tr><tr><td>2023-03-01</td><td>SP</td><td>ABC14151</td><td>Produto Z</td><td>LOJA</td><td>REGULAR</td><td>1320.0</td><td>0</td></tr><tr><td>2023-03-01</td><td>SP</td><td>ABC17631</td><td>Produto X</td><td>SITE</td><td>REGULAR</td><td>4194.3</td><td>26</td></tr><tr><td>2023-03-01</td><td>SP</td><td>ABC17631</td><td>Produto Z</td><td>SITE</td><td>REGULAR</td><td>8496.8</td><td>14</td></tr><tr><td>2023-03-01</td><td>SP</td><td>ABC19104</td><td>Produto X</td><td>LOJA</td><td>PROMOCAO</td><td>3167.0</td><td>0</td></tr><tr><td>2023-03-01</td><td>SP</td><td>ABC19104</td><td>Produto X</td><td>LOJA</td><td>REGULAR</td><td>610.0</td><td>0</td></tr><tr><td>2023-03-01</td><td>SP</td><td>ABC19104</td><td>Produto Z</td><td>LOJA</td><td>PROMOCAO</td><td>6801.21</td><td>1</td></tr><tr><td>2023-03-01</td><td>SP</td><td>ABC19104</td><td>Produto Z</td><td>LOJA</td><td>REGULAR</td><td>1320.0</td><td>0</td></tr><tr><td>2023-03-01</td><td>SP</td><td>ABC3503</td><td>Produto X</td><td>SITE</td><td>REGULAR</td><td>7234.95</td><td>215</td></tr><tr><td>2023-03-01</td><td>SP</td><td>ABC3503</td><td>Produto Z</td><td>SITE</td><td>REGULAR</td><td>10949.45</td><td>69</td></tr><tr><td>2023-03-01</td><td>SP</td><td>ABC7462</td><td>Produto X</td><td>LOJA</td><td>PROMOCAO</td><td>605.0</td><td>0</td></tr><tr><td>2023-03-01</td><td>SP</td><td>ABC7462</td><td>Produto Z</td><td>LOJA</td><td>PROMOCAO</td><td>1310.0</td><td>0</td></tr><tr><td>2023-03-01</td><td>SP</td><td>ABC7652</td><td>Produto X</td><td>LOJA</td><td>PROMOCAO</td><td>3162.64</td><td>2</td></tr><tr><td>2023-03-01</td><td>SP</td><td>ABC7652</td><td>Produto X</td><td>LOJA</td><td>REGULAR</td><td>610.0</td><td>0</td></tr><tr><td>2023-03-01</td><td>SP</td><td>ABC7652</td><td>Produto Z</td><td>LOJA</td><td>PROMOCAO</td><td>6819.28</td><td>1</td></tr><tr><td>2023-03-01</td><td>SP</td><td>ABC7652</td><td>Produto Z</td><td>LOJA</td><td>REGULAR</td><td>1320.29</td><td>1</td></tr><tr><td>2023-03-01</td><td>SP</td><td>ABC8816</td><td>Produto X</td><td>LOJA</td><td>PROMOCAO</td><td>3168.64</td><td>3</td></tr><tr><td>2023-03-01</td><td>SP</td><td>ABC8816</td><td>Produto X</td><td>LOJA</td><td>REGULAR</td><td>610.09</td><td>1</td></tr><tr><td>2023-03-01</td><td>SP</td><td>ABC8816</td><td>Produto Z</td><td>LOJA</td><td>PROMOCAO</td><td>6833.0</td><td>0</td></tr><tr><td>2023-03-01</td><td>SP</td><td>ABC8816</td><td>Produto Z</td><td>LOJA</td><td>REGULAR</td><td>1325.9</td><td>1</td></tr><tr><td>2023-04-01</td><td>BA</td><td>ABC20007</td><td>Produto X</td><td>LOJA</td><td>PROMOCAO</td><td>1665.72</td><td>1</td></tr><tr><td>2023-04-01</td><td>BA</td><td>ABC20007</td><td>Produto X</td><td>LOJA</td><td>REGULAR</td><td>1968.0</td><td>0</td></tr><tr><td>2023-04-01</td><td>BA</td><td>ABC20007</td><td>Produto Z</td><td>LOJA</td><td>REGULAR</td><td>7604.7</td><td>3</td></tr><tr><td>2023-04-01</td><td>BA</td><td>ABC21382</td><td>Produto X</td><td>LOJA</td><td>PROMOCAO</td><td>1666.0</td><td>0</td></tr><tr><td>2023-04-01</td><td>BA</td><td>ABC21382</td><td>Produto X</td><td>LOJA</td><td>REGULAR</td><td>1968.0</td><td>0</td></tr><tr><td>2023-04-01</td><td>BA</td><td>ABC21382</td><td>Produto Z</td><td>LOJA</td><td>REGULAR</td><td>7491.84</td><td>2</td></tr><tr><td>2023-04-01</td><td>BA</td><td>ABC5228</td><td>Produto X</td><td>SITE</td><td>REGULAR</td><td>3649.6</td><td>9</td></tr><tr><td>2023-04-01</td><td>BA</td><td>ABC5228</td><td>Produto Z</td><td>SITE</td><td>REGULAR</td><td>7617.6</td><td>5</td></tr><tr><td>2023-04-01</td><td>CE</td><td>ABC12953</td><td>Produto X</td><td>SITE</td><td>REGULAR</td><td>1952.0</td><td>0</td></tr><tr><td>2023-04-01</td><td>CE</td><td>ABC12953</td><td>Produto Z</td><td>SITE</td><td>REGULAR</td><td>4000.0</td><td>0</td></tr><tr><td>2023-04-01</td><td>CE</td><td>ABC14661</td><td>Produto X</td><td>SITE</td><td>REGULAR</td><td>3576.26</td><td>5</td></tr><tr><td>2023-04-01</td><td>CE</td><td>ABC14661</td><td>Produto Z</td><td>SITE</td><td>REGULAR</td><td>7513.72</td><td>3</td></tr><tr><td>2023-04-01</td><td>CE</td><td>ABC19747</td><td>Produto X</td><td>LOJA</td><td>PROMOCAO</td><td>1606.9</td><td>1</td></tr><tr><td>2023-04-01</td><td>CE</td><td>ABC19747</td><td>Produto X</td><td>LOJA</td><td>REGULAR</td><td>1933.36</td><td>1</td></tr><tr><td>2023-04-01</td><td>CE</td><td>ABC19747</td><td>Produto Z</td><td>LOJA</td><td>REGULAR</td><td>7448.59</td><td>2</td></tr><tr><td>2023-04-01</td><td>CE</td><td>ABC19755</td><td>Produto X</td><td>SITE</td><td>REGULAR</td><td>3597.14</td><td>26</td></tr><tr><td>2023-04-01</td><td>CE</td><td>ABC19755</td><td>Produto Z</td><td>SITE</td><td>REGULAR</td><td>7464.44</td><td>6</td></tr><tr><td>2023-04-01</td><td>ES</td><td>ABC14153</td><td>Produto X</td><td>SITE</td><td>REGULAR</td><td>3750.2</td><td>10</td></tr><tr><td>2023-04-01</td><td>ES</td><td>ABC14153</td><td>Produto Z</td><td>SITE</td><td>REGULAR</td><td>8253.0</td><td>11</td></tr><tr><td>2023-04-01</td><td>ES</td><td>ABC19523</td><td>Produto X</td><td>LOJA</td><td>PROMOCAO</td><td>1638.0</td><td>0</td></tr><tr><td>2023-04-01</td><td>ES</td><td>ABC19523</td><td>Produto X</td><td>LOJA</td><td>REGULAR</td><td>1968.0</td><td>0</td></tr><tr><td>2023-04-01</td><td>ES</td><td>ABC19523</td><td>Produto Z</td><td>LOJA</td><td>REGULAR</td><td>7938.9</td><td>1</td></tr><tr><td>2023-04-01</td><td>MA</td><td>ABC13186</td><td>Produto X</td><td>LOJA</td><td>PROMOCAO</td><td>1666.0</td><td>0</td></tr><tr><td>2023-04-01</td><td>MA</td><td>ABC13186</td><td>Produto X</td><td>LOJA</td><td>REGULAR</td><td>1952.0</td><td>0</td></tr><tr><td>2023-04-01</td><td>MA</td><td>ABC13186</td><td>Produto Z</td><td>LOJA</td><td>REGULAR</td><td>7632.0</td><td>0</td></tr><tr><td>2023-04-01</td><td>PB</td><td>ABC19304</td><td>Produto X</td><td>LOJA</td><td>PROMOCAO</td><td>1540.0</td><td>0</td></tr><tr><td>2023-04-01</td><td>PB</td><td>ABC19304</td><td>Produto X</td><td>LOJA</td><td>REGULAR</td><td>1963.13</td><td>1</td></tr><tr><td>2023-04-01</td><td>PB</td><td>ABC19304</td><td>Produto Z</td><td>LOJA</td><td>REGULAR</td><td>7555.35</td><td>4</td></tr><tr><td>2023-04-01</td><td>PB</td><td>ABC19709</td><td>Produto X</td><td>LOJA</td><td>PROMOCAO</td><td>1540.0</td><td>0</td></tr><tr><td>2023-04-01</td><td>PB</td><td>ABC19709</td><td>Produto X</td><td>LOJA</td><td>REGULAR</td><td>1969.9</td><td>1</td></tr><tr><td>2023-04-01</td><td>PB</td><td>ABC19709</td><td>Produto Z</td><td>LOJA</td><td>REGULAR</td><td>7572.0</td><td>0</td></tr><tr><td>2023-04-01</td><td>PB</td><td>ABC21558</td><td>Produto X</td><td>SITE</td><td>REGULAR</td><td>4538.86</td><td>40</td></tr><tr><td>2023-04-01</td><td>PB</td><td>ABC21558</td><td>Produto Z</td><td>SITE</td><td>REGULAR</td><td>8366.7</td><td>40</td></tr><tr><td>2023-04-01</td><td>PE</td><td>ABC18465</td><td>Produto X</td><td>SITE</td><td>REGULAR</td><td>3528.7</td><td>4</td></tr><tr><td>2023-04-01</td><td>PE</td><td>ABC18465</td><td>Produto Z</td><td>SITE</td><td>REGULAR</td><td>7833.12</td><td>6</td></tr><tr><td>2023-04-01</td><td>PE</td><td>ABC18611</td><td>Produto X</td><td>SITE</td><td>REGULAR</td><td>3587.4</td><td>6</td></tr><tr><td>2023-04-01</td><td>PE</td><td>ABC18611</td><td>Produto Z</td><td>SITE</td><td>REGULAR</td><td>7866.3</td><td>7</td></tr><tr><td>2023-04-01</td><td>PR</td><td>ABC18575</td><td>Produto X</td><td>LOJA</td><td>PROMOCAO</td><td>1629.8</td><td>2</td></tr><tr><td>2023-04-01</td><td>PR</td><td>ABC18575</td><td>Produto X</td><td>LOJA</td><td>REGULAR</td><td>1949.82</td><td>2</td></tr><tr><td>2023-04-01</td><td>PR</td><td>ABC18575</td><td>Produto Z</td><td>LOJA</td><td>REGULAR</td><td>7948.0</td><td>0</td></tr><tr><td>2023-04-01</td><td>RJ</td><td>ABC14683</td><td>Produto X</td><td>SITE</td><td>REGULAR</td><td>3642.24</td><td>20</td></tr><tr><td>2023-04-01</td><td>RJ</td><td>ABC14683</td><td>Produto Z</td><td>SITE</td><td>REGULAR</td><td>7993.3</td><td>7</td></tr><tr><td>2023-04-01</td><td>RN</td><td>ABC14240</td><td>Produto X</td><td>SITE</td><td>REGULAR</td><td>3867.1</td><td>20</td></tr><tr><td>2023-04-01</td><td>RN</td><td>ABC14240</td><td>Produto Z</td><td>SITE</td><td>REGULAR</td><td>7485.6</td><td>5</td></tr><tr><td>2023-04-01</td><td>RN</td><td>ABC20423</td><td>Produto X</td><td>LOJA</td><td>PROMOCAO</td><td>1512.0</td><td>0</td></tr><tr><td>2023-04-01</td><td>RN</td><td>ABC20423</td><td>Produto X</td><td>LOJA</td><td>REGULAR</td><td>1968.0</td><td>0</td></tr><tr><td>2023-04-01</td><td>RN</td><td>ABC20423</td><td>Produto Z</td><td>LOJA</td><td>REGULAR</td><td>7347.27</td><td>4</td></tr><tr><td>2023-04-01</td><td>RN</td><td>ABC20424</td><td>Produto X</td><td>LOJA</td><td>PROMOCAO</td><td>1512.0</td><td>0</td></tr><tr><td>2023-04-01</td><td>RN</td><td>ABC20424</td><td>Produto X</td><td>LOJA</td><td>REGULAR</td><td>1917.42</td><td>3</td></tr><tr><td>2023-04-01</td><td>RN</td><td>ABC20424</td><td>Produto Z</td><td>LOJA</td><td>REGULAR</td><td>7341.77</td><td>3</td></tr><tr><td>2023-04-01</td><td>RN</td><td>ABC21349</td><td>Produto X</td><td>SITE</td><td>REGULAR</td><td>3515.7</td><td>4</td></tr><tr><td>2023-04-01</td><td>RN</td><td>ABC21349</td><td>Produto Z</td><td>SITE</td><td>REGULAR</td><td>7463.74</td><td>5</td></tr><tr><td>2023-04-01</td><td>RN</td><td>ABC21352</td><td>Produto X</td><td>SITE</td><td>REGULAR</td><td>3480.0</td><td>0</td></tr><tr><td>2023-04-01</td><td>RN</td><td>ABC21352</td><td>Produto Z</td><td>SITE</td><td>REGULAR</td><td>7401.92</td><td>1</td></tr><tr><td>2023-04-01</td><td>RN</td><td>ABC22036</td><td>Produto X</td><td>LOJA</td><td>PROMOCAO</td><td>1545.8</td><td>2</td></tr><tr><td>2023-04-01</td><td>RN</td><td>ABC22036</td><td>Produto X</td><td>LOJA</td><td>REGULAR</td><td>1968.0</td><td>0</td></tr><tr><td>2023-04-01</td><td>RN</td><td>ABC22036</td><td>Produto Z</td><td>LOJA</td><td>REGULAR</td><td>7447.7</td><td>1</td></tr><tr><td>2023-04-01</td><td>RN</td><td>ABC5264</td><td>Produto X</td><td>LOJA</td><td>PROMOCAO</td><td>1524.84</td><td>1</td></tr><tr><td>2023-04-01</td><td>RN</td><td>ABC5264</td><td>Produto X</td><td>LOJA</td><td>REGULAR</td><td>1966.9</td><td>2</td></tr><tr><td>2023-04-01</td><td>RN</td><td>ABC5264</td><td>Produto Z</td><td>LOJA</td><td>REGULAR</td><td>7451.54</td><td>3</td></tr><tr><td>2023-04-01</td><td>RN</td><td>ABC7958</td><td>Produto X</td><td>LOJA</td><td>PROMOCAO</td><td>1512.0</td><td>0</td></tr><tr><td>2023-04-01</td><td>RN</td><td>ABC7958</td><td>Produto X</td><td>LOJA</td><td>REGULAR</td><td>1968.0</td><td>0</td></tr><tr><td>2023-04-01</td><td>RN</td><td>ABC7958</td><td>Produto Z</td><td>LOJA</td><td>REGULAR</td><td>7453.9</td><td>1</td></tr><tr><td>2023-04-01</td><td>RS</td><td>ABC14726</td><td>Produto X</td><td>SITE</td><td>REGULAR</td><td>4145.49</td><td>31</td></tr><tr><td>2023-04-01</td><td>RS</td><td>ABC14726</td><td>Produto Z</td><td>SITE</td><td>REGULAR</td><td>8554.2</td><td>18</td></tr><tr><td>2023-04-01</td><td>RS</td><td>ABC20103</td><td>Produto X</td><td>SITE</td><td>REGULAR</td><td>3650.51</td><td>12</td></tr><tr><td>2023-04-01</td><td>RS</td><td>ABC20103</td><td>Produto Z</td><td>SITE</td><td>REGULAR</td><td>8007.6</td><td>4</td></tr><tr><td>2023-04-01</td><td>SC</td><td>ABC18757</td><td>Produto X</td><td>LOJA</td><td>PROMOCAO</td><td>1632.9</td><td>1</td></tr><tr><td>2023-04-01</td><td>SC</td><td>ABC18757</td><td>Produto X</td><td>LOJA</td><td>REGULAR</td><td>1965.13</td><td>1</td></tr><tr><td>2023-04-01</td><td>SC</td><td>ABC18757</td><td>Produto Z</td><td>LOJA</td><td>REGULAR</td><td>8024.0</td><td>0</td></tr><tr><td>2023-04-01</td><td>SE</td><td>ABC14286</td><td>Produto X</td><td>LOJA</td><td>REGULAR</td><td>1952.0</td><td>0</td></tr><tr><td>2023-04-01</td><td>SE</td><td>ABC14286</td><td>Produto Z</td><td>LOJA</td><td>REGULAR</td><td>4032.0</td><td>0</td></tr><tr><td>2023-04-01</td><td>SE</td><td>ABC21279</td><td>Produto X</td><td>LOJA</td><td>PROMOCAO</td><td>1554.0</td><td>0</td></tr><tr><td>2023-04-01</td><td>SE</td><td>ABC21279</td><td>Produto X</td><td>LOJA</td><td>REGULAR</td><td>1952.0</td><td>0</td></tr><tr><td>2023-04-01</td><td>SE</td><td>ABC21279</td><td>Produto Z</td><td>LOJA</td><td>REGULAR</td><td>7602.0</td><td>0</td></tr><tr><td>2023-04-01</td><td>SP</td><td>ABC11818</td><td>Produto X</td><td>LOJA</td><td>PROMOCAO</td><td>1622.95</td><td>2</td></tr><tr><td>2023-04-01</td><td>SP</td><td>ABC11818</td><td>Produto X</td><td>LOJA</td><td>REGULAR</td><td>1942.46</td><td>3</td></tr><tr><td>2023-04-01</td><td>SP</td><td>ABC11818</td><td>Produto Z</td><td>LOJA</td><td>REGULAR</td><td>7939.9</td><td>1</td></tr><tr><td>2023-04-01</td><td>SP</td><td>ABC12405</td><td>Produto X</td><td>LOJA</td><td>PROMOCAO</td><td>1610.0</td><td>0</td></tr><tr><td>2023-04-01</td><td>SP</td><td>ABC12405</td><td>Produto X</td><td>LOJA</td><td>REGULAR</td><td>1952.74</td><td>1</td></tr><tr><td>2023-04-01</td><td>SP</td><td>ABC12405</td><td>Produto Z</td><td>LOJA</td><td>REGULAR</td><td>7884.72</td><td>1</td></tr><tr><td>2023-04-01</td><td>SP</td><td>ABC13388</td><td>Produto X</td><td>LOJA</td><td>PROMOCAO</td><td>1610.0</td><td>0</td></tr><tr><td>2023-04-01</td><td>SP</td><td>ABC13388</td><td>Produto X</td><td>LOJA</td><td>REGULAR</td><td>1951.77</td><td>1</td></tr><tr><td>2023-04-01</td><td>SP</td><td>ABC13388</td><td>Produto Z</td><td>LOJA</td><td>REGULAR</td><td>7933.17</td><td>1</td></tr><tr><td>2023-04-01</td><td>SP</td><td>ABC13733</td><td>Produto X</td><td>LOJA</td><td>PROMOCAO</td><td>1610.0</td><td>0</td></tr><tr><td>2023-04-01</td><td>SP</td><td>ABC13733</td><td>Produto X</td><td>LOJA</td><td>REGULAR</td><td>1920.83</td><td>1</td></tr><tr><td>2023-04-01</td><td>SP</td><td>ABC13733</td><td>Produto Z</td><td>LOJA</td><td>REGULAR</td><td>7880.95</td><td>1</td></tr><tr><td>2023-04-01</td><td>SP</td><td>ABC14095</td><td>Produto X</td><td>LOJA</td><td>PROMOCAO</td><td>1610.0</td><td>0</td></tr><tr><td>2023-04-01</td><td>SP</td><td>ABC14095</td><td>Produto X</td><td>LOJA</td><td>REGULAR</td><td>1957.8</td><td>2</td></tr><tr><td>2023-04-01</td><td>SP</td><td>ABC14095</td><td>Produto Z</td><td>LOJA</td><td>REGULAR</td><td>7934.0</td><td>0</td></tr><tr><td>2023-04-01</td><td>SP</td><td>ABC14151</td><td>Produto X</td><td>LOJA</td><td>PROMOCAO</td><td>1610.0</td><td>0</td></tr><tr><td>2023-04-01</td><td>SP</td><td>ABC14151</td><td>Produto X</td><td>LOJA</td><td>REGULAR</td><td>1817.9</td><td>1</td></tr><tr><td>2023-04-01</td><td>SP</td><td>ABC14151</td><td>Produto Z</td><td>LOJA</td><td>REGULAR</td><td>7835.27</td><td>2</td></tr><tr><td>2023-04-01</td><td>SP</td><td>ABC17631</td><td>Produto X</td><td>SITE</td><td>REGULAR</td><td>3705.5</td><td>10</td></tr><tr><td>2023-04-01</td><td>SP</td><td>ABC17631</td><td>Produto Z</td><td>SITE</td><td>REGULAR</td><td>8490.56</td><td>14</td></tr><tr><td>2023-04-01</td><td>SP</td><td>ABC19104</td><td>Produto X</td><td>LOJA</td><td>PROMOCAO</td><td>1616.03</td><td>2</td></tr><tr><td>2023-04-01</td><td>SP</td><td>ABC19104</td><td>Produto X</td><td>LOJA</td><td>REGULAR</td><td>1944.31</td><td>1</td></tr><tr><td>2023-04-01</td><td>SP</td><td>ABC19104</td><td>Produto Z</td><td>LOJA</td><td>REGULAR</td><td>7934.0</td><td>0</td></tr><tr><td>2023-04-01</td><td>SP</td><td>ABC3503</td><td>Produto X</td><td>SITE</td><td>REGULAR</td><td>5757.01</td><td>175</td></tr><tr><td>2023-04-01</td><td>SP</td><td>ABC3503</td><td>Produto Z</td><td>SITE</td><td>REGULAR</td><td>9874.29</td><td>58</td></tr><tr><td>2023-04-01</td><td>SP</td><td>ABC7652</td><td>Produto X</td><td>LOJA</td><td>PROMOCAO</td><td>1615.31</td><td>1</td></tr><tr><td>2023-04-01</td><td>SP</td><td>ABC7652</td><td>Produto X</td><td>LOJA</td><td>REGULAR</td><td>1925.05</td><td>2</td></tr><tr><td>2023-04-01</td><td>SP</td><td>ABC7652</td><td>Produto Z</td><td>LOJA</td><td>REGULAR</td><td>7934.0</td><td>0</td></tr><tr><td>2023-04-01</td><td>SP</td><td>ABC8816</td><td>Produto X</td><td>LOJA</td><td>PROMOCAO</td><td>1610.0</td><td>0</td></tr><tr><td>2023-04-01</td><td>SP</td><td>ABC8816</td><td>Produto X</td><td>LOJA</td><td>REGULAR</td><td>1957.8</td><td>2</td></tr><tr><td>2023-04-01</td><td>SP</td><td>ABC8816</td><td>Produto Z</td><td>LOJA</td><td>REGULAR</td><td>7950.7</td><td>3</td></tr><tr><td>2023-05-01</td><td>BA</td><td>ABC20007</td><td>Produto X</td><td>LOJA</td><td>PROMOCAO</td><td>3703.43</td><td>4</td></tr><tr><td>2023-05-01</td><td>BA</td><td>ABC20007</td><td>Produto Z</td><td>LOJA</td><td>PROMOCAO</td><td>3534.62</td><td>1</td></tr><tr><td>2023-05-01</td><td>BA</td><td>ABC20007</td><td>Produto Z</td><td>LOJA</td><td>REGULAR</td><td>4336.71</td><td>7</td></tr><tr><td>2023-05-01</td><td>BA</td><td>ABC21382</td><td>Produto X</td><td>LOJA</td><td>PROMOCAO</td><td>1671.9</td><td>1</td></tr><tr><td>2023-05-01</td><td>BA</td><td>ABC21382</td><td>Produto Z</td><td>LOJA</td><td>REGULAR</td><td>3570.0</td><td>0</td></tr><tr><td>2023-05-01</td><td>BA</td><td>ABC5228</td><td>Produto X</td><td>SITE</td><td>PROMOCAO</td><td>321.0</td><td>0</td></tr><tr><td>2023-05-01</td><td>BA</td><td>ABC5228</td><td>Produto X</td><td>SITE</td><td>REGULAR</td><td>3403.4</td><td>7</td></tr><tr><td>2023-05-01</td><td>BA</td><td>ABC5228</td><td>Produto Z</td><td>SITE</td><td>REGULAR</td><td>7927.5</td><td>8</td></tr><tr><td>2023-05-01</td><td>CE</td><td>ABC14661</td><td>Produto X</td><td>SITE</td><td>PROMOCAO</td><td>524.69</td><td>10</td></tr><tr><td>2023-05-01</td><td>CE</td><td>ABC14661</td><td>Produto X</td><td>SITE</td><td>REGULAR</td><td>3450.7</td><td>3</td></tr><tr><td>2023-05-01</td><td>CE</td><td>ABC14661</td><td>Produto Z</td><td>SITE</td><td>REGULAR</td><td>7701.62</td><td>4</td></tr><tr><td>2023-05-01</td><td>CE</td><td>ABC19747</td><td>Produto X</td><td>LOJA</td><td>PROMOCAO</td><td>3624.83</td><td>7</td></tr><tr><td>2023-05-01</td><td>CE</td><td>ABC19747</td><td>Produto Z</td><td>LOJA</td><td>PROMOCAO</td><td>3548.9</td><td>1</td></tr><tr><td>2023-05-01</td><td>CE</td><td>ABC19747</td><td>Produto Z</td><td>LOJA</td><td>REGULAR</td><td>4307.9</td><td>1</td></tr><tr><td>2023-05-01</td><td>CE</td><td>ABC19755</td><td>Produto X</td><td>SITE</td><td>PROMOCAO</td><td>329.7</td><td>9</td></tr><tr><td>2023-05-01</td><td>CE</td><td>ABC19755</td><td>Produto X</td><td>SITE</td><td>REGULAR</td><td>4198.47</td><td>30</td></tr><tr><td>2023-05-01</td><td>CE</td><td>ABC19755</td><td>Produto Z</td><td>SITE</td><td>REGULAR</td><td>8146.81</td><td>10</td></tr><tr><td>2023-05-01</td><td>ES</td><td>ABC14153</td><td>Produto X</td><td>SITE</td><td>PROMOCAO</td><td>549.5</td><td>23</td></tr><tr><td>2023-05-01</td><td>ES</td><td>ABC14153</td><td>Produto X</td><td>SITE</td><td>REGULAR</td><td>3782.6</td><td>24</td></tr><tr><td>2023-05-01</td><td>ES</td><td>ABC14153</td><td>Produto Z</td><td>SITE</td><td>REGULAR</td><td>8129.15</td><td>13</td></tr><tr><td>2023-05-01</td><td>ES</td><td>ABC19523</td><td>Produto X</td><td>LOJA</td><td>PROMOCAO</td><td>3664.0</td><td>0</td></tr><tr><td>2023-05-01</td><td>ES</td><td>ABC19523</td><td>Produto Z</td><td>LOJA</td><td>PROMOCAO</td><td>3682.0</td><td>0</td></tr><tr><td>2023-05-01</td><td>ES</td><td>ABC19523</td><td>Produto Z</td><td>LOJA</td><td>REGULAR</td><td>4484.71</td><td>2</td></tr><tr><td>2023-05-01</td><td>MA</td><td>ABC13186</td><td>Produto X</td><td>LOJA</td><td>PROMOCAO</td><td>3694.13</td><td>3</td></tr><tr><td>2023-05-01</td><td>MA</td><td>ABC13186</td><td>Produto Z</td><td>LOJA</td><td>PROMOCAO</td><td>3551.16</td><td>1</td></tr><tr><td>2023-05-01</td><td>MA</td><td>ABC13186</td><td>Produto Z</td><td>LOJA</td><td>REGULAR</td><td>4346.0</td><td>0</td></tr><tr><td>2023-05-01</td><td>PB</td><td>ABC19304</td><td>Produto X</td><td>LOJA</td><td>PROMOCAO</td><td>3606.6</td><td>4</td></tr><tr><td>2023-05-01</td><td>PB</td><td>ABC19304</td><td>Produto Z</td><td>LOJA</td><td>PROMOCAO</td><td>3429.79</td><td>2</td></tr><tr><td>2023-05-01</td><td>PB</td><td>ABC19304</td><td>Produto Z</td><td>LOJA</td><td>REGULAR</td><td>4323.9</td><td>2</td></tr><tr><td>2023-05-01</td><td>PB</td><td>ABC19709</td><td>Produto X</td><td>LOJA</td><td>PROMOCAO</td><td>3262.9</td><td>1</td></tr><tr><td>2023-05-01</td><td>PB</td><td>ABC19709</td><td>Produto Z</td><td>LOJA</td><td>PROMOCAO</td><td>3570.0</td><td>0</td></tr><tr><td>2023-05-01</td><td>PB</td><td>ABC19709</td><td>Produto Z</td><td>LOJA</td><td>REGULAR</td><td>3528.54</td><td>1</td></tr><tr><td>2023-05-01</td><td>PB</td><td>ABC21558</td><td>Produto X</td><td>SITE</td><td>PROMOCAO</td><td>549.5</td><td>12</td></tr><tr><td>2023-05-01</td><td>PB</td><td>ABC21558</td><td>Produto X</td><td>SITE</td><td>REGULAR</td><td>3652.58</td><td>42</td></tr><tr><td>2023-05-01</td><td>PB</td><td>ABC21558</td><td>Produto Z</td><td>SITE</td><td>REGULAR</td><td>8224.5</td><td>21</td></tr><tr><td>2023-05-01</td><td>PE</td><td>ABC18465</td><td>Produto X</td><td>SITE</td><td>PROMOCAO</td><td>219.8</td><td>2</td></tr><tr><td>2023-05-01</td><td>PE</td><td>ABC18465</td><td>Produto X</td><td>SITE</td><td>REGULAR</td><td>3420.6</td><td>11</td></tr><tr><td>2023-05-01</td><td>PE</td><td>ABC18465</td><td>Produto Z</td><td>SITE</td><td>REGULAR</td><td>7869.8</td><td>2</td></tr><tr><td>2023-05-01</td><td>PE</td><td>ABC18611</td><td>Produto X</td><td>SITE</td><td>PROMOCAO</td><td>216.9</td><td>1</td></tr><tr><td>2023-05-01</td><td>PE</td><td>ABC18611</td><td>Produto X</td><td>SITE</td><td>REGULAR</td><td>3560.22</td><td>8</td></tr><tr><td>2023-05-01</td><td>PE</td><td>ABC18611</td><td>Produto Z</td><td>SITE</td><td>REGULAR</td><td>7905.2</td><td>9</td></tr><tr><td>2023-05-01</td><td>PR</td><td>ABC18575</td><td>Produto X</td><td>LOJA</td><td>PROMOCAO</td><td>3649.8</td><td>2</td></tr><tr><td>2023-05-01</td><td>PR</td><td>ABC18575</td><td>Produto Z</td><td>LOJA</td><td>PROMOCAO</td><td>3718.62</td><td>1</td></tr><tr><td>2023-05-01</td><td>PR</td><td>ABC18575</td><td>Produto Z</td><td>LOJA</td><td>REGULAR</td><td>4522.9</td><td>1</td></tr><tr><td>2023-05-01</td><td>RJ</td><td>ABC14683</td><td>Produto X</td><td>SITE</td><td>PROMOCAO</td><td>215.9</td><td>3</td></tr><tr><td>2023-05-01</td><td>RJ</td><td>ABC14683</td><td>Produto X</td><td>SITE</td><td>REGULAR</td><td>3540.3</td><td>11</td></tr><tr><td>2023-05-01</td><td>RJ</td><td>ABC14683</td><td>Produto Z</td><td>SITE</td><td>REGULAR</td><td>8527.3</td><td>9</td></tr><tr><td>2023-05-01</td><td>RN</td><td>ABC14240</td><td>Produto X</td><td>SITE</td><td>PROMOCAO</td><td>437.7</td><td>24</td></tr><tr><td>2023-05-01</td><td>RN</td><td>ABC14240</td><td>Produto X</td><td>SITE</td><td>REGULAR</td><td>3861.4</td><td>59</td></tr><tr><td>2023-05-01</td><td>RN</td><td>ABC14240</td><td>Produto Z</td><td>SITE</td><td>REGULAR</td><td>7412.9</td><td>1</td></tr><tr><td>2023-05-01</td><td>RN</td><td>ABC20423</td><td>Produto X</td><td>LOJA</td><td>PROMOCAO</td><td>3558.0</td><td>0</td></tr><tr><td>2023-05-01</td><td>RN</td><td>ABC20423</td><td>Produto Z</td><td>LOJA</td><td>PROMOCAO</td><td>3276.0</td><td>0</td></tr><tr><td>2023-05-01</td><td>RN</td><td>ABC20423</td><td>Produto Z</td><td>LOJA</td><td>REGULAR</td><td>4128.72</td><td>2</td></tr><tr><td>2023-05-01</td><td>RN</td><td>ABC20424</td><td>Produto X</td><td>LOJA</td><td>PROMOCAO</td><td>3515.59</td><td>4</td></tr><tr><td>2023-05-01</td><td>RN</td><td>ABC20424</td><td>Produto Z</td><td>LOJA</td><td>PROMOCAO</td><td>3288.15</td><td>1</td></tr><tr><td>2023-05-01</td><td>RN</td><td>ABC20424</td><td>Produto Z</td><td>LOJA</td><td>REGULAR</td><td>4017.12</td><td>7</td></tr><tr><td>2023-05-01</td><td>RN</td><td>ABC21349</td><td>Produto X</td><td>SITE</td><td>PROMOCAO</td><td>325.9</td><td>1</td></tr><tr><td>2023-05-01</td><td>RN</td><td>ABC21349</td><td>Produto X</td><td>SITE</td><td>REGULAR</td><td>3532.48</td><td>14</td></tr><tr><td>2023-05-01</td><td>RN</td><td>ABC21349</td><td>Produto Z</td><td>SITE</td><td>REGULAR</td><td>7519.73</td><td>10</td></tr><tr><td>2023-05-01</td><td>RN</td><td>ABC21352</td><td>Produto X</td><td>LOJA</td><td>PROMOCAO</td><td>1722.0</td><td>0</td></tr><tr><td>2023-05-01</td><td>RN</td><td>ABC21352</td><td>Produto X</td><td>SITE</td><td>REGULAR</td><td>1512.0</td><td>0</td></tr><tr><td>2023-05-01</td><td>RN</td><td>ABC21352</td><td>Produto Z</td><td>LOJA</td><td>PROMOCAO</td><td>3276.0</td><td>0</td></tr><tr><td>2023-05-01</td><td>RN</td><td>ABC21352</td><td>Produto Z</td><td>SITE</td><td>REGULAR</td><td>3385.09</td><td>2</td></tr><tr><td>2023-05-01</td><td>RN</td><td>ABC22036</td><td>Produto X</td><td>LOJA</td><td>PROMOCAO</td><td>3608.7</td><td>3</td></tr><tr><td>2023-05-01</td><td>RN</td><td>ABC22036</td><td>Produto Z</td><td>LOJA</td><td>PROMOCAO</td><td>3301.9</td><td>1</td></tr><tr><td>2023-05-01</td><td>RN</td><td>ABC22036</td><td>Produto Z</td><td>LOJA</td><td>REGULAR</td><td>4123.9</td><td>1</td></tr><tr><td>2023-05-01</td><td>RN</td><td>ABC5264</td><td>Produto X</td><td>LOJA</td><td>PROMOCAO</td><td>3623.21</td><td>13</td></tr><tr><td>2023-05-01</td><td>RN</td><td>ABC5264</td><td>Produto Z</td><td>LOJA</td><td>PROMOCAO</td><td>3276.0</td><td>0</td></tr><tr><td>2023-05-01</td><td>RN</td><td>ABC5264</td><td>Produto Z</td><td>LOJA</td><td>REGULAR</td><td>4143.71</td><td>3</td></tr><tr><td>2023-05-01</td><td>RN</td><td>ABC7958</td><td>Produto X</td><td>LOJA</td><td>PROMOCAO</td><td>3560.3</td><td>1</td></tr><tr><td>2023-05-01</td><td>RN</td><td>ABC7958</td><td>Produto Z</td><td>LOJA</td><td>PROMOCAO</td><td>3301.9</td><td>1</td></tr><tr><td>2023-05-01</td><td>RN</td><td>ABC7958</td><td>Produto Z</td><td>LOJA</td><td>REGULAR</td><td>4111.0</td><td>0</td></tr><tr><td>2023-05-01</td><td>RS</td><td>ABC14726</td><td>Produto X</td><td>SITE</td><td>PROMOCAO</td><td>109.9</td><td>1</td></tr><tr><td>2023-05-01</td><td>RS</td><td>ABC14726</td><td>Produto X</td><td>SITE</td><td>REGULAR</td><td>4182.3</td><td>57</td></tr><tr><td>2023-05-01</td><td>RS</td><td>ABC14726</td><td>Produto Z</td><td>SITE</td><td>REGULAR</td><td>8561.9</td><td>18</td></tr><tr><td>2023-05-01</td><td>RS</td><td>ABC20103</td><td>Produto X</td><td>SITE</td><td>PROMOCAO</td><td>422.65</td><td>10</td></tr><tr><td>2023-05-01</td><td>RS</td><td>ABC20103</td><td>Produto X</td><td>SITE</td><td>REGULAR</td><td>3422.21</td><td>17</td></tr><tr><td>2023-05-01</td><td>RS</td><td>ABC20103</td><td>Produto Z</td><td>SITE</td><td>REGULAR</td><td>8272.5</td><td>7</td></tr><tr><td>2023-05-01</td><td>SC</td><td>ABC18757</td><td>Produto X</td><td>LOJA</td><td>PROMOCAO</td><td>3685.6</td><td>7</td></tr><tr><td>2023-05-01</td><td>SC</td><td>ABC18757</td><td>Produto Z</td><td>LOJA</td><td>PROMOCAO</td><td>3724.0</td><td>0</td></tr><tr><td>2023-05-01</td><td>SC</td><td>ABC18757</td><td>Produto Z</td><td>LOJA</td><td>REGULAR</td><td>4547.0</td><td>0</td></tr><tr><td>2023-05-01</td><td>SE</td><td>ABC21279</td><td>Produto X</td><td>LOJA</td><td>PROMOCAO</td><td>1554.0</td><td>0</td></tr><tr><td>2023-05-01</td><td>SE</td><td>ABC21279</td><td>Produto Z</td><td>LOJA</td><td>REGULAR</td><td>3570.0</td><td>0</td></tr><tr><td>2023-05-01</td><td>SP</td><td>ABC11818</td><td>Produto X</td><td>LOJA</td><td>PROMOCAO</td><td>3628.27</td><td>6</td></tr><tr><td>2023-05-01</td><td>SP</td><td>ABC11818</td><td>Produto Z</td><td>LOJA</td><td>PROMOCAO</td><td>3696.0</td><td>0</td></tr><tr><td>2023-05-01</td><td>SP</td><td>ABC11818</td><td>Produto Z</td><td>LOJA</td><td>REGULAR</td><td>4499.0</td><td>0</td></tr><tr><td>2023-05-01</td><td>SP</td><td>ABC12405</td><td>Produto X</td><td>LOJA</td><td>PROMOCAO</td><td>3478.43</td><td>3</td></tr><tr><td>2023-05-01</td><td>SP</td><td>ABC12405</td><td>Produto Z</td><td>LOJA</td><td>PROMOCAO</td><td>3696.0</td><td>0</td></tr><tr><td>2023-05-01</td><td>SP</td><td>ABC12405</td><td>Produto Z</td><td>LOJA</td><td>REGULAR</td><td>4469.38</td><td>1</td></tr><tr><td>2023-05-01</td><td>SP</td><td>ABC13388</td><td>Produto X</td><td>LOJA</td><td>PROMOCAO</td><td>3625.8</td><td>4</td></tr><tr><td>2023-05-01</td><td>SP</td><td>ABC13388</td><td>Produto Z</td><td>LOJA</td><td>PROMOCAO</td><td>3696.0</td><td>0</td></tr><tr><td>2023-05-01</td><td>SP</td><td>ABC13388</td><td>Produto Z</td><td>LOJA</td><td>REGULAR</td><td>4513.7</td><td>3</td></tr><tr><td>2023-05-01</td><td>SP</td><td>ABC13733</td><td>Produto X</td><td>LOJA</td><td>PROMOCAO</td><td>3614.5</td><td>1</td></tr><tr><td>2023-05-01</td><td>SP</td><td>ABC13733</td><td>Produto Z</td><td>LOJA</td><td>PROMOCAO</td><td>3696.0</td><td>0</td></tr><tr><td>2023-05-01</td><td>SP</td><td>ABC13733</td><td>Produto Z</td><td>LOJA</td><td>REGULAR</td><td>4424.99</td><td>2</td></tr><tr><td>2023-05-01</td><td>SP</td><td>ABC14095</td><td>Produto X</td><td>LOJA</td><td>PROMOCAO</td><td>1610.0</td><td>0</td></tr><tr><td>2023-05-01</td><td>SP</td><td>ABC14095</td><td>Produto Z</td><td>LOJA</td><td>REGULAR</td><td>3710.0</td><td>0</td></tr><tr><td>2023-05-01</td><td>SP</td><td>ABC14151</td><td>Produto X</td><td>LOJA</td><td>PROMOCAO</td><td>3628.86</td><td>5</td></tr><tr><td>2023-05-01</td><td>SP</td><td>ABC14151</td><td>Produto Z</td><td>LOJA</td><td>PROMOCAO</td><td>3660.24</td><td>1</td></tr><tr><td>2023-05-01</td><td>SP</td><td>ABC14151</td><td>Produto Z</td><td>LOJA</td><td>REGULAR</td><td>4409.49</td><td>4</td></tr><tr><td>2023-05-01</td><td>SP</td><td>ABC17631</td><td>Produto X</td><td>SITE</td><td>REGULAR</td><td>1610.0</td><td>0</td></tr><tr><td>2023-05-01</td><td>SP</td><td>ABC17631</td><td>Produto Z</td><td>SITE</td><td>REGULAR</td><td>3710.0</td><td>0</td></tr><tr><td>2023-05-01</td><td>SP</td><td>ABC19104</td><td>Produto X</td><td>LOJA</td><td>PROMOCAO</td><td>3624.61</td><td>4</td></tr><tr><td>2023-05-01</td><td>SP</td><td>ABC19104</td><td>Produto Z</td><td>LOJA</td><td>PROMOCAO</td><td>3696.0</td><td>0</td></tr><tr><td>2023-05-01</td><td>SP</td><td>ABC19104</td><td>Produto Z</td><td>LOJA</td><td>REGULAR</td><td>4503.9</td><td>1</td></tr><tr><td>2023-05-01</td><td>SP</td><td>ABC3503</td><td>Produto X</td><td>SITE</td><td>PROMOCAO</td><td>422.65</td><td>18</td></tr><tr><td>2023-05-01</td><td>SP</td><td>ABC3503</td><td>Produto X</td><td>SITE</td><td>REGULAR</td><td>7148.98</td><td>230</td></tr><tr><td>2023-05-01</td><td>SP</td><td>ABC3503</td><td>Produto Z</td><td>SITE</td><td>REGULAR</td><td>12338.31</td><td>87</td></tr><tr><td>2023-05-01</td><td>SP</td><td>ABC7652</td><td>Produto X</td><td>LOJA</td><td>PROMOCAO</td><td>3652.8</td><td>3</td></tr><tr><td>2023-05-01</td><td>SP</td><td>ABC7652</td><td>Produto Z</td><td>LOJA</td><td>PROMOCAO</td><td>3650.44</td><td>2</td></tr><tr><td>2023-05-01</td><td>SP</td><td>ABC7652</td><td>Produto Z</td><td>LOJA</td><td>REGULAR</td><td>4497.4</td><td>5</td></tr><tr><td>2023-05-01</td><td>SP</td><td>ABC8816</td><td>Produto X</td><td>LOJA</td><td>PROMOCAO</td><td>3633.0</td><td>0</td></tr><tr><td>2023-05-01</td><td>SP</td><td>ABC8816</td><td>Produto Z</td><td>LOJA</td><td>PROMOCAO</td><td>3696.0</td><td>0</td></tr><tr><td>2023-05-01</td><td>SP</td><td>ABC8816</td><td>Produto Z</td><td>LOJA</td><td>REGULAR</td><td>4499.0</td><td>0</td></tr><tr><td>2023-06-01</td><td>BA</td><td>ABC20007</td><td>Produto X</td><td>LOJA</td><td>PROMOCAO</td><td>3362.0</td><td>7</td></tr><tr><td>2023-06-01</td><td>BA</td><td>ABC20007</td><td>Produto Z</td><td>LOJA</td><td>PROMOCAO</td><td>4538.99</td><td>1</td></tr><tr><td>2023-06-01</td><td>BA</td><td>ABC20007</td><td>Produto Z</td><td>LOJA</td><td>REGULAR</td><td>3052.9</td><td>6</td></tr><tr><td>2023-06-01</td><td>BA</td><td>ABC5228</td><td>Produto X</td><td>SITE</td><td>PROMOCAO</td><td>1405.5</td><td>23</td></tr><tr><td>2023-06-01</td><td>BA</td><td>ABC5228</td><td>Produto X</td><td>SITE</td><td>REGULAR</td><td>2185.96</td><td>3</td></tr><tr><td>2023-06-01</td><td>BA</td><td>ABC5228</td><td>Produto Z</td><td>SITE</td><td>REGULAR</td><td>7785.91</td><td>4</td></tr><tr><td>2023-06-01</td><td>CE</td><td>ABC14661</td><td>Produto X</td><td>LOJA</td><td>PROMOCAO</td><td>2140.2</td><td>2</td></tr><tr><td>2023-06-01</td><td>CE</td><td>ABC14661</td><td>Produto X</td><td>SITE</td><td>PROMOCAO</td><td>1299.8</td><td>2</td></tr><tr><td>2023-06-01</td><td>CE</td><td>ABC14661</td><td>Produto Z</td><td>LOJA</td><td>PROMOCAO</td><td>4469.76</td><td>2</td></tr><tr><td>2023-06-01</td><td>CE</td><td>ABC14661</td><td>Produto Z</td><td>SITE</td><td>REGULAR</td><td>3019.8</td><td>2</td></tr><tr><td>2023-06-01</td><td>CE</td><td>ABC19747</td><td>Produto X</td><td>LOJA</td><td>PROMOCAO</td><td>3422.09</td><td>5</td></tr><tr><td>2023-06-01</td><td>CE</td><td>ABC19747</td><td>Produto Z</td><td>LOJA</td><td>PROMOCAO</td><td>4449.49</td><td>2</td></tr><tr><td>2023-06-01</td><td>CE</td><td>ABC19747</td><td>Produto Z</td><td>LOJA</td><td>REGULAR</td><td>3036.0</td><td>0</td></tr><tr><td>2023-06-01</td><td>CE</td><td>ABC19755</td><td>Produto X</td><td>SITE</td><td>PROMOCAO</td><td>1754.6</td><td>34</td></tr><tr><td>2023-06-01</td><td>CE</td><td>ABC19755</td><td>Produto X</td><td>SITE</td><td>REGULAR</td><td>1936.0</td><td>0</td></tr><tr><td>2023-06-01</td><td>CE</td><td>ABC19755</td><td>Produto Z</td><td>SITE</td><td>REGULAR</td><td>7341.81</td><td>15</td></tr><tr><td>2023-06-01</td><td>ES</td><td>ABC14153</td><td>Produto X</td><td>SITE</td><td>PROMOCAO</td><td>1519.1</td><td>32</td></tr><tr><td>2023-06-01</td><td>ES</td><td>ABC14153</td><td>Produto X</td><td>SITE</td><td>REGULAR</td><td>2091.0</td><td>0</td></tr><tr><td>2023-06-01</td><td>ES</td><td>ABC14153</td><td>Produto Z</td><td>SITE</td><td>REGULAR</td><td>7891.6</td><td>4</td></tr><tr><td>2023-06-01</td><td>ES</td><td>ABC19523</td><td>Produto X</td><td>LOJA</td><td>PROMOCAO</td><td>1272.0</td><td>0</td></tr><tr><td>2023-06-01</td><td>ES</td><td>ABC19523</td><td>Produto Z</td><td>LOJA</td><td>REGULAR</td><td>3144.0</td><td>0</td></tr><tr><td>2023-06-01</td><td>MA</td><td>ABC13186</td><td>Produto X</td><td>LOJA</td><td>PROMOCAO</td><td>3435.79</td><td>6</td></tr><tr><td>2023-06-01</td><td>MA</td><td>ABC13186</td><td>Produto Z</td><td>LOJA</td><td>PROMOCAO</td><td>4572.0</td><td>0</td></tr><tr><td>2023-06-01</td><td>MA</td><td>ABC13186</td><td>Produto Z</td><td>LOJA</td><td>REGULAR</td><td>3040.12</td><td>1</td></tr><tr><td>2023-06-01</td><td>PB</td><td>ABC19304</td><td>Produto X</td><td>LOJA</td><td>PROMOCAO</td><td>3467.88</td><td>4</td></tr><tr><td>2023-06-01</td><td>PB</td><td>ABC19304</td><td>Produto Z</td><td>LOJA</td><td>PROMOCAO</td><td>4410.0</td><td>0</td></tr><tr><td>2023-06-01</td><td>PB</td><td>ABC19304</td><td>Produto Z</td><td>LOJA</td><td>REGULAR</td><td>3015.9</td><td>3</td></tr><tr><td>2023-06-01</td><td>PB</td><td>ABC21558</td><td>Produto X</td><td>SITE</td><td>PROMOCAO</td><td>2302.2</td><td>107</td></tr><tr><td>2023-06-01</td><td>PB</td><td>ABC21558</td><td>Produto X</td><td>SITE</td><td>REGULAR</td><td>2318.8</td><td>28</td></tr><tr><td>2023-06-01</td><td>PB</td><td>ABC21558</td><td>Produto Z</td><td>SITE</td><td>REGULAR</td><td>7854.8</td><td>16</td></tr><tr><td>2023-06-01</td><td>PB</td><td>ABC22248</td><td>Produto X</td><td>LOJA</td><td>PROMOCAO</td><td>2186.64</td><td>5</td></tr><tr><td>2023-06-01</td><td>PB</td><td>ABC22248</td><td>Produto Z</td><td>LOJA</td><td>PROMOCAO</td><td>4141.53</td><td>8</td></tr><tr><td>2023-06-01</td><td>PE</td><td>ABC18465</td><td>Produto X</td><td>SITE</td><td>PROMOCAO</td><td>1959.82</td><td>44</td></tr><tr><td>2023-06-01</td><td>PE</td><td>ABC18465</td><td>Produto X</td><td>SITE</td><td>REGULAR</td><td>2210.01</td><td>2</td></tr><tr><td>2023-06-01</td><td>PE</td><td>ABC18465</td><td>Produto Z</td><td>SITE</td><td>REGULAR</td><td>8156.9</td><td>16</td></tr><tr><td>2023-06-01</td><td>PE</td><td>ABC18611</td><td>Produto X</td><td>SITE</td><td>PROMOCAO</td><td>1399.7</td><td>5</td></tr><tr><td>2023-06-01</td><td>PE</td><td>ABC18611</td><td>Produto X</td><td>SITE</td><td>REGULAR</td><td>1973.7</td><td>3</td></tr><tr><td>2023-06-01</td><td>PE</td><td>ABC18611</td><td>Produto Z</td><td>SITE</td><td>REGULAR</td><td>7573.81</td><td>11</td></tr><tr><td>2023-06-01</td><td>PR</td><td>ABC18575</td><td>Produto X</td><td>LOJA</td><td>PROMOCAO</td><td>3452.8</td><td>2</td></tr><tr><td>2023-06-01</td><td>PR</td><td>ABC18575</td><td>Produto Z</td><td>LOJA</td><td>PROMOCAO</td><td>4770.0</td><td>0</td></tr><tr><td>2023-06-01</td><td>PR</td><td>ABC18575</td><td>Produto Z</td><td>LOJA</td><td>REGULAR</td><td>3180.0</td><td>0</td></tr><tr><td>2023-06-01</td><td>RJ</td><td>ABC14683</td><td>Produto X</td><td>SITE</td><td>PROMOCAO</td><td>1837.1</td><td>18</td></tr><tr><td>2023-06-01</td><td>RJ</td><td>ABC14683</td><td>Produto X</td><td>SITE</td><td>REGULAR</td><td>2079.8</td><td>2</td></tr><tr><td>2023-06-01</td><td>RJ</td><td>ABC14683</td><td>Produto Z</td><td>SITE</td><td>REGULAR</td><td>7977.0</td><td>14</td></tr><tr><td>2023-06-01</td><td>RN</td><td>ABC14240</td><td>Produto X</td><td>SITE</td><td>PROMOCAO</td><td>2075.94</td><td>49</td></tr><tr><td>2023-06-01</td><td>RN</td><td>ABC14240</td><td>Produto X</td><td>SITE</td><td>REGULAR</td><td>2337.82</td><td>13</td></tr><tr><td>2023-06-01</td><td>RN</td><td>ABC14240</td><td>Produto Z</td><td>SITE</td><td>REGULAR</td><td>7181.15</td><td>7</td></tr><tr><td>2023-06-01</td><td>RN</td><td>ABC20423</td><td>Produto X</td><td>LOJA</td><td>PROMOCAO</td><td>3462.92</td><td>4</td></tr><tr><td>2023-06-01</td><td>RN</td><td>ABC20423</td><td>Produto Z</td><td>LOJA</td><td>PROMOCAO</td><td>4216.84</td><td>3</td></tr><tr><td>2023-06-01</td><td>RN</td><td>ABC20423</td><td>Produto Z</td><td>LOJA</td><td>REGULAR</td><td>2897.49</td><td>2</td></tr><tr><td>2023-06-01</td><td>RN</td><td>ABC20424</td><td>Produto X</td><td>LOJA</td><td>PROMOCAO</td><td>3467.75</td><td>1</td></tr><tr><td>2023-06-01</td><td>RN</td><td>ABC20424</td><td>Produto Z</td><td>LOJA</td><td>PROMOCAO</td><td>4158.0</td><td>0</td></tr><tr><td>2023-06-01</td><td>RN</td><td>ABC20424</td><td>Produto Z</td><td>LOJA</td><td>REGULAR</td><td>2846.9</td><td>4</td></tr><tr><td>2023-06-01</td><td>RN</td><td>ABC21349</td><td>Produto X</td><td>SITE</td><td>PROMOCAO</td><td>1926.04</td><td>20</td></tr><tr><td>2023-06-01</td><td>RN</td><td>ABC21349</td><td>Produto X</td><td>SITE</td><td>REGULAR</td><td>1971.8</td><td>2</td></tr><tr><td>2023-06-01</td><td>RN</td><td>ABC21349</td><td>Produto Z</td><td>SITE</td><td>REGULAR</td><td>7183.29</td><td>7</td></tr><tr><td>2023-06-01</td><td>RN</td><td>ABC22036</td><td>Produto X</td><td>LOJA</td><td>PROMOCAO</td><td>3477.68</td><td>3</td></tr><tr><td>2023-06-01</td><td>RN</td><td>ABC22036</td><td>Produto Z</td><td>LOJA</td><td>PROMOCAO</td><td>4186.9</td><td>1</td></tr><tr><td>2023-06-01</td><td>RN</td><td>ABC22036</td><td>Produto Z</td><td>LOJA</td><td>REGULAR</td><td>2892.0</td><td>0</td></tr><tr><td>2023-06-01</td><td>RN</td><td>ABC5264</td><td>Produto X</td><td>LOJA</td><td>PROMOCAO</td><td>3407.7</td><td>5</td></tr><tr><td>2023-06-01</td><td>RN</td><td>ABC5264</td><td>Produto Z</td><td>LOJA</td><td>PROMOCAO</td><td>4183.4</td><td>1</td></tr><tr><td>2023-06-01</td><td>RN</td><td>ABC5264</td><td>Produto Z</td><td>LOJA</td><td>REGULAR</td><td>2892.0</td><td>0</td></tr><tr><td>2023-06-01</td><td>RN</td><td>ABC7958</td><td>Produto X</td><td>LOJA</td><td>PROMOCAO</td><td>3509.6</td><td>2</td></tr><tr><td>2023-06-01</td><td>RN</td><td>ABC7958</td><td>Produto Z</td><td>LOJA</td><td>PROMOCAO</td><td>4186.9</td><td>1</td></tr><tr><td>2023-06-01</td><td>RN</td><td>ABC7958</td><td>Produto Z</td><td>LOJA</td><td>REGULAR</td><td>2903.0</td><td>1</td></tr><tr><td>2023-06-01</td><td>RS</td><td>ABC14726</td><td>Produto X</td><td>SITE</td><td>PROMOCAO</td><td>1612.17</td><td>34</td></tr><tr><td>2023-06-01</td><td>RS</td><td>ABC14726</td><td>Produto X</td><td>SITE</td><td>REGULAR</td><td>2223.5</td><td>16</td></tr><tr><td>2023-06-01</td><td>RS</td><td>ABC14726</td><td>Produto Z</td><td>SITE</td><td>REGULAR</td><td>9033.0</td><td>24</td></tr><tr><td>2023-06-01</td><td>RS</td><td>ABC20103</td><td>Produto X</td><td>SITE</td><td>PROMOCAO</td><td>863.6</td><td>48</td></tr><tr><td>2023-06-01</td><td>RS</td><td>ABC20103</td><td>Produto X</td><td>SITE</td><td>REGULAR</td><td>2233.0</td><td>21</td></tr><tr><td>2023-06-01</td><td>RS</td><td>ABC20103</td><td>Produto Z</td><td>SITE</td><td>REGULAR</td><td>7973.0</td><td>16</td></tr><tr><td>2023-06-01</td><td>SC</td><td>ABC18757</td><td>Produto X</td><td>LOJA</td><td>PROMOCAO</td><td>3465.3</td><td>12</td></tr><tr><td>2023-06-01</td><td>SC</td><td>ABC18757</td><td>Produto Z</td><td>LOJA</td><td>PROMOCAO</td><td>4806.0</td><td>0</td></tr><tr><td>2023-06-01</td><td>SC</td><td>ABC18757</td><td>Produto Z</td><td>LOJA</td><td>REGULAR</td><td>3180.0</td><td>0</td></tr><tr><td>2023-06-01</td><td>SP</td><td>ABC11818</td><td>Produto X</td><td>LOJA</td><td>PROMOCAO</td><td>3424.65</td><td>2</td></tr><tr><td>2023-06-01</td><td>SP</td><td>ABC11818</td><td>Produto Z</td><td>LOJA</td><td>PROMOCAO</td><td>4734.0</td><td>0</td></tr><tr><td>2023-06-01</td><td>SP</td><td>ABC11818</td><td>Produto Z</td><td>LOJA</td><td>REGULAR</td><td>3162.9</td><td>1</td></tr><tr><td>2023-06-01</td><td>SP</td><td>ABC12405</td><td>Produto X</td><td>LOJA</td><td>PROMOCAO</td><td>1260.0</td><td>0</td></tr><tr><td>2023-06-01</td><td>SP</td><td>ABC12405</td><td>Produto Z</td><td>LOJA</td><td>REGULAR</td><td>3077.14</td><td>2</td></tr><tr><td>2023-06-01</td><td>SP</td><td>ABC13388</td><td>Produto X</td><td>LOJA</td><td>PROMOCAO</td><td>3380.68</td><td>7</td></tr><tr><td>2023-06-01</td><td>SP</td><td>ABC13388</td><td>Produto Z</td><td>LOJA</td><td>PROMOCAO</td><td>4734.0</td><td>0</td></tr><tr><td>2023-06-01</td><td>SP</td><td>ABC13388</td><td>Produto Z</td><td>LOJA</td><td>REGULAR</td><td>3156.0</td><td>0</td></tr><tr><td>2023-06-01</td><td>SP</td><td>ABC13733</td><td>Produto X</td><td>LOJA</td><td>PROMOCAO</td><td>1146.23</td><td>4</td></tr><tr><td>2023-06-01</td><td>SP</td><td>ABC13733</td><td>Produto Z</td><td>LOJA</td><td>REGULAR</td><td>3152.32</td><td>1</td></tr><tr><td>2023-06-01</td><td>SP</td><td>ABC14151</td><td>Produto X</td><td>LOJA</td><td>PROMOCAO</td><td>3410.76</td><td>6</td></tr><tr><td>2023-06-01</td><td>SP</td><td>ABC14151</td><td>Produto Z</td><td>LOJA</td><td>PROMOCAO</td><td>4706.44</td><td>1</td></tr><tr><td>2023-06-01</td><td>SP</td><td>ABC14151</td><td>Produto Z</td><td>LOJA</td><td>REGULAR</td><td>2797.12</td><td>2</td></tr><tr><td>2023-06-01</td><td>SP</td><td>ABC19104</td><td>Produto X</td><td>LOJA</td><td>PROMOCAO</td><td>1183.3</td><td>4</td></tr><tr><td>2023-06-01</td><td>SP</td><td>ABC19104</td><td>Produto Z</td><td>LOJA</td><td>REGULAR</td><td>3139.1</td><td>2</td></tr><tr><td>2023-06-01</td><td>SP</td><td>ABC3503</td><td>Produto X</td><td>SITE</td><td>PROMOCAO</td><td>1836.63</td><td>138</td></tr><tr><td>2023-06-01</td><td>SP</td><td>ABC3503</td><td>Produto X</td><td>SITE</td><td>REGULAR</td><td>3688.31</td><td>127</td></tr><tr><td>2023-06-01</td><td>SP</td><td>ABC3503</td><td>Produto Z</td><td>SITE</td><td>REGULAR</td><td>10429.03</td><td>64</td></tr><tr><td>2023-06-01</td><td>SP</td><td>ABC7652</td><td>Produto X</td><td>LOJA</td><td>PROMOCAO</td><td>3406.63</td><td>3</td></tr><tr><td>2023-06-01</td><td>SP</td><td>ABC7652</td><td>Produto Z</td><td>LOJA</td><td>PROMOCAO</td><td>4735.97</td><td>1</td></tr><tr><td>2023-06-01</td><td>SP</td><td>ABC7652</td><td>Produto Z</td><td>LOJA</td><td>REGULAR</td><td>3101.79</td><td>5</td></tr><tr><td>2023-06-01</td><td>SP</td><td>ABC8816</td><td>Produto X</td><td>LOJA</td><td>PROMOCAO</td><td>3391.35</td><td>5</td></tr><tr><td>2023-06-01</td><td>SP</td><td>ABC8816</td><td>Produto Z</td><td>LOJA</td><td>PROMOCAO</td><td>4734.0</td><td>0</td></tr><tr><td>2023-06-01</td><td>SP</td><td>ABC8816</td><td>Produto Z</td><td>LOJA</td><td>REGULAR</td><td>3134.88</td><td>2</td></tr><tr><td>2023-07-01</td><td>BA</td><td>ABC20007</td><td>Produto X</td><td>LOJA</td><td>PROMOCAO</td><td>244.0</td><td>0</td></tr><tr><td>2023-07-01</td><td>BA</td><td>ABC20007</td><td>Produto Z</td><td>LOJA</td><td>PROMOCAO</td><td>504.0</td><td>0</td></tr><tr><td>2023-07-01</td><td>BA</td><td>ABC5228</td><td>Produto X</td><td>SITE</td><td>REGULAR</td><td>244.0</td><td>0</td></tr><tr><td>2023-07-01</td><td>BA</td><td>ABC5228</td><td>Produto Z</td><td>SITE</td><td>REGULAR</td><td>504.0</td><td>0</td></tr><tr><td>2023-07-01</td><td>CE</td><td>ABC14661</td><td>Produto X</td><td>LOJA</td><td>PROMOCAO</td><td>2650.88</td><td>3</td></tr><tr><td>2023-07-01</td><td>CE</td><td>ABC14661</td><td>Produto X</td><td>LOJA</td><td>REGULAR</td><td>991.04</td><td>3</td></tr><tr><td>2023-07-01</td><td>CE</td><td>ABC14661</td><td>Produto Z</td><td>LOJA</td><td>PROMOCAO</td><td>5141.0</td><td>0</td></tr><tr><td>2023-07-01</td><td>CE</td><td>ABC14661</td><td>Produto Z</td><td>LOJA</td><td>REGULAR</td><td>2096.0</td><td>0</td></tr><tr><td>2023-07-01</td><td>CE</td><td>ABC19747</td><td>Produto X</td><td>LOJA</td><td>PROMOCAO</td><td>2668.21</td><td>3</td></tr><tr><td>2023-07-01</td><td>CE</td><td>ABC19747</td><td>Produto X</td><td>LOJA</td><td>REGULAR</td><td>1000.0</td><td>0</td></tr><tr><td>2023-07-01</td><td>CE</td><td>ABC19747</td><td>Produto Z</td><td>LOJA</td><td>PROMOCAO</td><td>5146.45</td><td>1</td></tr><tr><td>2023-07-01</td><td>CE</td><td>ABC19747</td><td>Produto Z</td><td>LOJA</td><td>REGULAR</td><td>2096.0</td><td>0</td></tr><tr><td>2023-07-01</td><td>CE</td><td>ABC19755</td><td>Produto X</td><td>SITE</td><td>PROMOCAO</td><td>3264.94</td><td>46</td></tr><tr><td>2023-07-01</td><td>CE</td><td>ABC19755</td><td>Produto X</td><td>SITE</td><td>REGULAR</td><td>1231.67</td><td>7</td></tr><tr><td>2023-07-01</td><td>CE</td><td>ABC19755</td><td>Produto Z</td><td>SITE</td><td>REGULAR</td><td>7869.86</td><td>41</td></tr><tr><td>2023-07-01</td><td>ES</td><td>ABC14153</td><td>Produto X</td><td>SITE</td><td>REGULAR</td><td>246.0</td><td>0</td></tr><tr><td>2023-07-01</td><td>ES</td><td>ABC14153</td><td>Produto Z</td><td>SITE</td><td>REGULAR</td><td>524.0</td><td>0</td></tr><tr><td>2023-07-01</td><td>MA</td><td>ABC13186</td><td>Produto X</td><td>LOJA</td><td>PROMOCAO</td><td>2701.0</td><td>0</td></tr><tr><td>2023-07-01</td><td>MA</td><td>ABC13186</td><td>Produto X</td><td>LOJA</td><td>REGULAR</td><td>1016.0</td><td>0</td></tr><tr><td>2023-07-01</td><td>MA</td><td>ABC13186</td><td>Produto Z</td><td>LOJA</td><td>PROMOCAO</td><td>5926.0</td><td>0</td></tr><tr><td>2023-07-01</td><td>MA</td><td>ABC13186</td><td>Produto Z</td><td>LOJA</td><td>REGULAR</td><td>2119.79</td><td>1</td></tr><tr><td>2023-07-01</td><td>PB</td><td>ABC19304</td><td>Produto X</td><td>LOJA</td><td>PROMOCAO</td><td>2699.0</td><td>0</td></tr><tr><td>2023-07-01</td><td>PB</td><td>ABC19304</td><td>Produto X</td><td>LOJA</td><td>REGULAR</td><td>997.9</td><td>1</td></tr><tr><td>2023-07-01</td><td>PB</td><td>ABC19304</td><td>Produto Z</td><td>LOJA</td><td>PROMOCAO</td><td>5275.8</td><td>2</td></tr><tr><td>2023-07-01</td><td>PB</td><td>ABC19304</td><td>Produto Z</td><td>LOJA</td><td>REGULAR</td><td>2104.0</td><td>0</td></tr><tr><td>2023-07-01</td><td>PB</td><td>ABC21558</td><td>Produto X</td><td>SITE</td><td>PROMOCAO</td><td>4477.5</td><td>168</td></tr><tr><td>2023-07-01</td><td>PB</td><td>ABC21558</td><td>Produto X</td><td>SITE</td><td>REGULAR</td><td>1758.0</td><td>18</td></tr><tr><td>2023-07-01</td><td>PB</td><td>ABC21558</td><td>Produto Z</td><td>SITE</td><td>REGULAR</td><td>7904.09</td><td>17</td></tr><tr><td>2023-07-01</td><td>PB</td><td>ABC22248</td><td>Produto X</td><td>LOJA</td><td>PROMOCAO</td><td>2619.64</td><td>14</td></tr><tr><td>2023-07-01</td><td>PB</td><td>ABC22248</td><td>Produto X</td><td>LOJA</td><td>REGULAR</td><td>1003.8</td><td>2</td></tr><tr><td>2023-07-01</td><td>PB</td><td>ABC22248</td><td>Produto Z</td><td>LOJA</td><td>PROMOCAO</td><td>5245.86</td><td>7</td></tr><tr><td>2023-07-01</td><td>PB</td><td>ABC22248</td><td>Produto Z</td><td>LOJA</td><td>REGULAR</td><td>2104.0</td><td>0</td></tr><tr><td>2023-07-01</td><td>PE</td><td>ABC18465</td><td>Produto X</td><td>SITE</td><td>PROMOCAO</td><td>2934.9</td><td>34</td></tr><tr><td>2023-07-01</td><td>PE</td><td>ABC18465</td><td>Produto X</td><td>SITE</td><td>REGULAR</td><td>1135.8</td><td>2</td></tr><tr><td>2023-07-01</td><td>PE</td><td>ABC18465</td><td>Produto Z</td><td>SITE</td><td>REGULAR</td><td>7520.4</td><td>7</td></tr><tr><td>2023-07-01</td><td>PE</td><td>ABC18611</td><td>Produto X</td><td>SITE</td><td>PROMOCAO</td><td>2791.97</td><td>24</td></tr><tr><td>2023-07-01</td><td>PE</td><td>ABC18611</td><td>Produto X</td><td>SITE</td><td>REGULAR</td><td>1252.9</td><td>2</td></tr><tr><td>2023-07-01</td><td>PE</td><td>ABC18611</td><td>Produto Z</td><td>SITE</td><td>REGULAR</td><td>7359.9</td><td>1</td></tr><tr><td>2023-07-01</td><td>PR</td><td>ABC18575</td><td>Produto X</td><td>LOJA</td><td>PROMOCAO</td><td>2701.0</td><td>0</td></tr><tr><td>2023-07-01</td><td>PR</td><td>ABC18575</td><td>Produto Z</td><td>LOJA</td><td>PROMOCAO</td><td>5843.0</td><td>0</td></tr><tr><td>2023-07-01</td><td>RJ</td><td>ABC14683</td><td>Produto X</td><td>SITE</td><td>PROMOCAO</td><td>2822.4</td><td>62</td></tr><tr><td>2023-07-01</td><td>RJ</td><td>ABC14683</td><td>Produto X</td><td>SITE</td><td>REGULAR</td><td>497.7</td><td>5</td></tr><tr><td>2023-07-01</td><td>RJ</td><td>ABC14683</td><td>Produto Z</td><td>SITE</td><td>REGULAR</td><td>6251.7</td><td>5</td></tr><tr><td>2023-07-01</td><td>RN</td><td>ABC14240</td><td>Produto X</td><td>SITE</td><td>PROMOCAO</td><td>2940.3</td><td>41</td></tr><tr><td>2023-07-01</td><td>RN</td><td>ABC14240</td><td>Produto X</td><td>SITE</td><td>REGULAR</td><td>1331.29</td><td>16</td></tr><tr><td>2023-07-01</td><td>RN</td><td>ABC14240</td><td>Produto Z</td><td>SITE</td><td>REGULAR</td><td>7276.4</td><td>6</td></tr><tr><td>2023-07-01</td><td>RN</td><td>ABC20423</td><td>Produto X</td><td>LOJA</td><td>PROMOCAO</td><td>2703.0</td><td>0</td></tr><tr><td>2023-07-01</td><td>RN</td><td>ABC20423</td><td>Produto X</td><td>LOJA</td><td>REGULAR</td><td>983.9</td><td>1</td></tr><tr><td>2023-07-01</td><td>RN</td><td>ABC20423</td><td>Produto Z</td><td>LOJA</td><td>PROMOCAO</td><td>5006.65</td><td>1</td></tr><tr><td>2023-07-01</td><td>RN</td><td>ABC20423</td><td>Produto Z</td><td>LOJA</td><td>REGULAR</td><td>2082.8</td><td>1</td></tr><tr><td>2023-07-01</td><td>RN</td><td>ABC20424</td><td>Produto X</td><td>LOJA</td><td>PROMOCAO</td><td>2697.94</td><td>2</td></tr><tr><td>2023-07-01</td><td>RN</td><td>ABC20424</td><td>Produto X</td><td>LOJA</td><td>REGULAR</td><td>991.8</td><td>2</td></tr><tr><td>2023-07-01</td><td>RN</td><td>ABC20424</td><td>Produto Z</td><td>LOJA</td><td>PROMOCAO</td><td>5059.01</td><td>4</td></tr><tr><td>2023-07-01</td><td>RN</td><td>ABC20424</td><td>Produto Z</td><td>LOJA</td><td>REGULAR</td><td>2090.72</td><td>1</td></tr><tr><td>2023-07-01</td><td>RN</td><td>ABC21349</td><td>Produto X</td><td>SITE</td><td>PROMOCAO</td><td>2699.1</td><td>12</td></tr><tr><td>2023-07-01</td><td>RN</td><td>ABC21349</td><td>Produto X</td><td>SITE</td><td>REGULAR</td><td>1109.8</td><td>2</td></tr><tr><td>2023-07-01</td><td>RN</td><td>ABC21349</td><td>Produto Z</td><td>SITE</td><td>REGULAR</td><td>7432.64</td><td>8</td></tr><tr><td>2023-07-01</td><td>RN</td><td>ABC22036</td><td>Produto X</td><td>LOJA</td><td>PROMOCAO</td><td>2682.62</td><td>2</td></tr><tr><td>2023-07-01</td><td>RN</td><td>ABC22036</td><td>Produto X</td><td>LOJA</td><td>REGULAR</td><td>983.9</td><td>1</td></tr><tr><td>2023-07-01</td><td>RN</td><td>ABC22036</td><td>Produto Z</td><td>LOJA</td><td>PROMOCAO</td><td>4956.0</td><td>0</td></tr><tr><td>2023-07-01</td><td>RN</td><td>ABC22036</td><td>Produto Z</td><td>LOJA</td><td>REGULAR</td><td>2108.79</td><td>1</td></tr><tr><td>2023-07-01</td><td>RN</td><td>ABC5264</td><td>Produto X</td><td>LOJA</td><td>PROMOCAO</td><td>2677.94</td><td>9</td></tr><tr><td>2023-07-01</td><td>RN</td><td>ABC5264</td><td>Produto X</td><td>LOJA</td><td>REGULAR</td><td>983.9</td><td>1</td></tr><tr><td>2023-07-01</td><td>RN</td><td>ABC5264</td><td>Produto Z</td><td>LOJA</td><td>PROMOCAO</td><td>4980.67</td><td>1</td></tr><tr><td>2023-07-01</td><td>RN</td><td>ABC5264</td><td>Produto Z</td><td>LOJA</td><td>REGULAR</td><td>2112.0</td><td>0</td></tr><tr><td>2023-07-01</td><td>RN</td><td>ABC7958</td><td>Produto X</td><td>LOJA</td><td>PROMOCAO</td><td>2703.9</td><td>1</td></tr><tr><td>2023-07-01</td><td>RN</td><td>ABC7958</td><td>Produto X</td><td>LOJA</td><td>REGULAR</td><td>976.0</td><td>0</td></tr><tr><td>2023-07-01</td><td>RN</td><td>ABC7958</td><td>Produto Z</td><td>LOJA</td><td>PROMOCAO</td><td>4956.0</td><td>0</td></tr><tr><td>2023-07-01</td><td>RN</td><td>ABC7958</td><td>Produto Z</td><td>LOJA</td><td>REGULAR</td><td>2112.0</td><td>0</td></tr><tr><td>2023-07-01</td><td>RS</td><td>ABC14726</td><td>Produto X</td><td>SITE</td><td>PROMOCAO</td><td>3292.15</td><td>70</td></tr><tr><td>2023-07-01</td><td>RS</td><td>ABC14726</td><td>Produto X</td><td>SITE</td><td>REGULAR</td><td>1401.4</td><td>7</td></tr><tr><td>2023-07-01</td><td>RS</td><td>ABC14726</td><td>Produto Z</td><td>SITE</td><td>REGULAR</td><td>8533.6</td><td>8</td></tr><tr><td>2023-07-01</td><td>RS</td><td>ABC20103</td><td>Produto X</td><td>SITE</td><td>PROMOCAO</td><td>2471.4</td><td>53</td></tr><tr><td>2023-07-01</td><td>RS</td><td>ABC20103</td><td>Produto X</td><td>SITE</td><td>REGULAR</td><td>1391.7</td><td>7</td></tr><tr><td>2023-07-01</td><td>RS</td><td>ABC20103</td><td>Produto Z</td><td>SITE</td><td>REGULAR</td><td>8573.0</td><td>12</td></tr><tr><td>2023-07-01</td><td>SC</td><td>ABC18757</td><td>Produto X</td><td>LOJA</td><td>PROMOCAO</td><td>2694.46</td><td>1</td></tr><tr><td>2023-07-01</td><td>SC</td><td>ABC18757</td><td>Produto X</td><td>LOJA</td><td>REGULAR</td><td>1008.0</td><td>0</td></tr><tr><td>2023-07-01</td><td>SC</td><td>ABC18757</td><td>Produto Z</td><td>LOJA</td><td>PROMOCAO</td><td>6162.0</td><td>0</td></tr><tr><td>2023-07-01</td><td>SC</td><td>ABC18757</td><td>Produto Z</td><td>LOJA</td><td>REGULAR</td><td>2216.0</td><td>0</td></tr><tr><td>2023-07-01</td><td>SP</td><td>ABC11818</td><td>Produto X</td><td>LOJA</td><td>PROMOCAO</td><td>242.0</td><td>0</td></tr><tr><td>2023-07-01</td><td>SP</td><td>ABC11818</td><td>Produto Z</td><td>LOJA</td><td>PROMOCAO</td><td>526.0</td><td>0</td></tr><tr><td>2023-07-01</td><td>SP</td><td>ABC13388</td><td>Produto X</td><td>LOJA</td><td>PROMOCAO</td><td>2668.18</td><td>5</td></tr><tr><td>2023-07-01</td><td>SP</td><td>ABC13388</td><td>Produto X</td><td>LOJA</td><td>REGULAR</td><td>1004.9</td><td>1</td></tr><tr><td>2023-07-01</td><td>SP</td><td>ABC13388</td><td>Produto Z</td><td>LOJA</td><td>PROMOCAO</td><td>6207.53</td><td>1</td></tr><tr><td>2023-07-01</td><td>SP</td><td>ABC13388</td><td>Produto Z</td><td>LOJA</td><td>REGULAR</td><td>2200.0</td><td>0</td></tr><tr><td>2023-07-01</td><td>SP</td><td>ABC14151</td><td>Produto X</td><td>LOJA</td><td>PROMOCAO</td><td>2701.7</td><td>3</td></tr><tr><td>2023-07-01</td><td>SP</td><td>ABC14151</td><td>Produto X</td><td>LOJA</td><td>REGULAR</td><td>1000.0</td><td>0</td></tr><tr><td>2023-07-01</td><td>SP</td><td>ABC14151</td><td>Produto Z</td><td>LOJA</td><td>PROMOCAO</td><td>6252.09</td><td>2</td></tr><tr><td>2023-07-01</td><td>SP</td><td>ABC14151</td><td>Produto Z</td><td>LOJA</td><td>REGULAR</td><td>2173.87</td><td>1</td></tr><tr><td>2023-07-01</td><td>SP</td><td>ABC3503</td><td>Produto X</td><td>SITE</td><td>PROMOCAO</td><td>5634.35</td><td>421</td></tr><tr><td>2023-07-01</td><td>SP</td><td>ABC3503</td><td>Produto X</td><td>SITE</td><td>REGULAR</td><td>1481.4</td><td>18</td></tr><tr><td>2023-07-01</td><td>SP</td><td>ABC3503</td><td>Produto Z</td><td>SITE</td><td>REGULAR</td><td>10525.0</td><td>52</td></tr><tr><td>2023-07-01</td><td>SP</td><td>ABC7652</td><td>Produto X</td><td>LOJA</td><td>PROMOCAO</td><td>2699.31</td><td>3</td></tr><tr><td>2023-07-01</td><td>SP</td><td>ABC7652</td><td>Produto X</td><td>LOJA</td><td>REGULAR</td><td>1000.0</td><td>0</td></tr><tr><td>2023-07-01</td><td>SP</td><td>ABC7652</td><td>Produto Z</td><td>LOJA</td><td>PROMOCAO</td><td>6258.9</td><td>1</td></tr><tr><td>2023-07-01</td><td>SP</td><td>ABC7652</td><td>Produto Z</td><td>LOJA</td><td>REGULAR</td><td>2200.0</td><td>0</td></tr><tr><td>2023-07-01</td><td>SP</td><td>ABC8816</td><td>Produto X</td><td>LOJA</td><td>PROMOCAO</td><td>2699.0</td><td>0</td></tr><tr><td>2023-07-01</td><td>SP</td><td>ABC8816</td><td>Produto X</td><td>LOJA</td><td>REGULAR</td><td>1000.0</td><td>0</td></tr><tr><td>2023-07-01</td><td>SP</td><td>ABC8816</td><td>Produto Z</td><td>LOJA</td><td>PROMOCAO</td><td>6279.7</td><td>3</td></tr><tr><td>2023-07-01</td><td>SP</td><td>ABC8816</td><td>Produto Z</td><td>LOJA</td><td>REGULAR</td><td>2200.0</td><td>0</td></tr><tr><td>2023-08-01</td><td>CE</td><td>ABC14661</td><td>Produto X</td><td>LOJA</td><td>REGULAR</td><td>3857.04</td><td>2</td></tr><tr><td>2023-08-01</td><td>CE</td><td>ABC14661</td><td>Produto Z</td><td>LOJA</td><td>REGULAR</td><td>7501.18</td><td>2</td></tr><tr><td>2023-08-01</td><td>CE</td><td>ABC19747</td><td>Produto X</td><td>LOJA</td><td>REGULAR</td><td>3842.8</td><td>1</td></tr><tr><td>2023-08-01</td><td>CE</td><td>ABC19747</td><td>Produto Z</td><td>LOJA</td><td>REGULAR</td><td>7546.0</td><td>0</td></tr><tr><td>2023-08-01</td><td>CE</td><td>ABC19755</td><td>Produto X</td><td>SITE</td><td>REGULAR</td><td>3937.1</td><td>11</td></tr><tr><td>2023-08-01</td><td>CE</td><td>ABC19755</td><td>Produto Z</td><td>SITE</td><td>REGULAR</td><td>7919.4</td><td>10</td></tr><tr><td>2023-08-01</td><td>MA</td><td>ABC13186</td><td>Produto X</td><td>LOJA</td><td>REGULAR</td><td>3922.8</td><td>2</td></tr><tr><td>2023-08-01</td><td>MA</td><td>ABC13186</td><td>Produto Z</td><td>LOJA</td><td>REGULAR</td><td>8048.0</td><td>0</td></tr><tr><td>2023-08-01</td><td>PB</td><td>ABC19304</td><td>Produto X</td><td>LOJA</td><td>REGULAR</td><td>1612.0</td><td>0</td></tr><tr><td>2023-08-01</td><td>PB</td><td>ABC19304</td><td>Produto Z</td><td>LOJA</td><td>REGULAR</td><td>3419.0</td><td>0</td></tr><tr><td>2023-08-01</td><td>PB</td><td>ABC21558</td><td>Produto X</td><td>SITE</td><td>REGULAR</td><td>4224.29</td><td>24</td></tr><tr><td>2023-08-01</td><td>PB</td><td>ABC21558</td><td>Produto Z</td><td>SITE</td><td>REGULAR</td><td>7752.58</td><td>16</td></tr><tr><td>2023-08-01</td><td>PB</td><td>ABC22248</td><td>Produto X</td><td>LOJA</td><td>REGULAR</td><td>3840.42</td><td>8</td></tr><tr><td>2023-08-01</td><td>PB</td><td>ABC22248</td><td>Produto Z</td><td>LOJA</td><td>REGULAR</td><td>7519.2</td><td>12</td></tr><tr><td>2023-08-01</td><td>PE</td><td>ABC18465</td><td>Produto X</td><td>SITE</td><td>REGULAR</td><td>3963.8</td><td>17</td></tr><tr><td>2023-08-01</td><td>PE</td><td>ABC18465</td><td>Produto Z</td><td>SITE</td><td>REGULAR</td><td>8087.5</td><td>7</td></tr><tr><td>2023-08-01</td><td>PE</td><td>ABC18611</td><td>Produto X</td><td>SITE</td><td>REGULAR</td><td>3924.0</td><td>0</td></tr><tr><td>2023-08-01</td><td>PE</td><td>ABC18611</td><td>Produto Z</td><td>SITE</td><td>REGULAR</td><td>7730.38</td><td>9</td></tr><tr><td>2023-08-01</td><td>RN</td><td>ABC14240</td><td>Produto X</td><td>SITE</td><td>REGULAR</td><td>3941.7</td><td>20</td></tr><tr><td>2023-08-01</td><td>RN</td><td>ABC14240</td><td>Produto Z</td><td>SITE</td><td>REGULAR</td><td>8022.9</td><td>14</td></tr><tr><td>2023-08-01</td><td>RN</td><td>ABC20423</td><td>Produto X</td><td>LOJA</td><td>REGULAR</td><td>3890.0</td><td>0</td></tr><tr><td>2023-08-01</td><td>RN</td><td>ABC20423</td><td>Produto Z</td><td>LOJA</td><td>REGULAR</td><td>7545.08</td><td>1</td></tr><tr><td>2023-08-01</td><td>RN</td><td>ABC20424</td><td>Produto X</td><td>LOJA</td><td>REGULAR</td><td>3885.2</td><td>1</td></tr><tr><td>2023-08-01</td><td>RN</td><td>ABC20424</td><td>Produto Z</td><td>LOJA</td><td>REGULAR</td><td>7554.0</td><td>0</td></tr><tr><td>2023-08-01</td><td>RN</td><td>ABC21349</td><td>Produto X</td><td>SITE</td><td>REGULAR</td><td>3933.3</td><td>8</td></tr><tr><td>2023-08-01</td><td>RN</td><td>ABC21349</td><td>Produto Z</td><td>SITE</td><td>REGULAR</td><td>7621.1</td><td>6</td></tr><tr><td>2023-08-01</td><td>RN</td><td>ABC22036</td><td>Produto X</td><td>LOJA</td><td>REGULAR</td><td>1586.0</td><td>0</td></tr><tr><td>2023-08-01</td><td>RN</td><td>ABC22036</td><td>Produto Z</td><td>LOJA</td><td>REGULAR</td><td>3432.0</td><td>0</td></tr><tr><td>2023-08-01</td><td>RN</td><td>ABC5264</td><td>Produto X</td><td>LOJA</td><td>REGULAR</td><td>3854.94</td><td>5</td></tr><tr><td>2023-08-01</td><td>RN</td><td>ABC5264</td><td>Produto Z</td><td>LOJA</td><td>REGULAR</td><td>7559.9</td><td>1</td></tr><tr><td>2023-08-01</td><td>RN</td><td>ABC7958</td><td>Produto X</td><td>LOJA</td><td>REGULAR</td><td>3891.9</td><td>1</td></tr><tr><td>2023-08-01</td><td>RN</td><td>ABC7958</td><td>Produto Z</td><td>LOJA</td><td>REGULAR</td><td>7557.28</td><td>1</td></tr><tr><td>2023-08-01</td><td>RS</td><td>ABC14726</td><td>Produto X</td><td>SITE</td><td>REGULAR</td><td>3967.4</td><td>13</td></tr><tr><td>2023-08-01</td><td>RS</td><td>ABC14726</td><td>Produto Z</td><td>SITE</td><td>REGULAR</td><td>9360.1</td><td>23</td></tr><tr><td>2023-08-01</td><td>RS</td><td>ABC20103</td><td>Produto X</td><td>SITE</td><td>REGULAR</td><td>4105.71</td><td>33</td></tr><tr><td>2023-08-01</td><td>RS</td><td>ABC20103</td><td>Produto Z</td><td>SITE</td><td>REGULAR</td><td>8529.3</td><td>9</td></tr><tr><td>2023-08-01</td><td>SC</td><td>ABC18757</td><td>Produto X</td><td>LOJA</td><td>REGULAR</td><td>1638.0</td><td>0</td></tr><tr><td>2023-08-01</td><td>SC</td><td>ABC18757</td><td>Produto Z</td><td>LOJA</td><td>REGULAR</td><td>3601.0</td><td>0</td></tr><tr><td>2023-08-01</td><td>SP</td><td>ABC13388</td><td>Produto X</td><td>LOJA</td><td>REGULAR</td><td>1625.0</td><td>0</td></tr><tr><td>2023-08-01</td><td>SP</td><td>ABC13388</td><td>Produto Z</td><td>LOJA</td><td>REGULAR</td><td>3575.0</td><td>0</td></tr><tr><td>2023-08-01</td><td>SP</td><td>ABC14151</td><td>Produto X</td><td>LOJA</td><td>REGULAR</td><td>1629.9</td><td>1</td></tr><tr><td>2023-08-01</td><td>SP</td><td>ABC14151</td><td>Produto Z</td><td>LOJA</td><td>REGULAR</td><td>3557.0</td><td>1</td></tr><tr><td>2023-08-01</td><td>SP</td><td>ABC3503</td><td>Produto X</td><td>SITE</td><td>REGULAR</td><td>5229.9</td><td>72</td></tr><tr><td>2023-08-01</td><td>SP</td><td>ABC3503</td><td>Produto Z</td><td>SITE</td><td>REGULAR</td><td>11385.21</td><td>75</td></tr><tr><td>2023-08-01</td><td>SP</td><td>ABC7652</td><td>Produto X</td><td>LOJA</td><td>REGULAR</td><td>1625.0</td><td>0</td></tr><tr><td>2023-08-01</td><td>SP</td><td>ABC7652</td><td>Produto Z</td><td>LOJA</td><td>REGULAR</td><td>3575.0</td><td>0</td></tr><tr><td>2023-08-01</td><td>SP</td><td>ABC8816</td><td>Produto X</td><td>LOJA</td><td>REGULAR</td><td>3906.69</td><td>1</td></tr><tr><td>2023-08-01</td><td>SP</td><td>ABC8816</td><td>Produto Z</td><td>LOJA</td><td>REGULAR</td><td>8489.0</td><td>0</td></tr><tr><td>2023-09-01</td><td>CE</td><td>ABC14661</td><td>Produto X</td><td>LOJA</td><td>REGULAR</td><td>378.0</td><td>0</td></tr><tr><td>2023-09-01</td><td>CE</td><td>ABC14661</td><td>Produto Z</td><td>LOJA</td><td>REGULAR</td><td>690.0</td><td>0</td></tr><tr><td>2023-09-01</td><td>CE</td><td>ABC19747</td><td>Produto X</td><td>LOJA</td><td>REGULAR</td><td>378.0</td><td>0</td></tr><tr><td>2023-09-01</td><td>CE</td><td>ABC19747</td><td>Produto Z</td><td>LOJA</td><td>REGULAR</td><td>690.0</td><td>0</td></tr><tr><td>2023-09-01</td><td>CE</td><td>ABC19755</td><td>Produto X</td><td>SITE</td><td>REGULAR</td><td>378.0</td><td>0</td></tr><tr><td>2023-09-01</td><td>CE</td><td>ABC19755</td><td>Produto Z</td><td>SITE</td><td>REGULAR</td><td>690.0</td><td>0</td></tr><tr><td>2023-09-01</td><td>MA</td><td>ABC13186</td><td>Produto X</td><td>LOJA</td><td>REGULAR</td><td>381.0</td><td>0</td></tr><tr><td>2023-09-01</td><td>MA</td><td>ABC13186</td><td>Produto Z</td><td>LOJA</td><td>REGULAR</td><td>765.0</td><td>0</td></tr><tr><td>2023-09-01</td><td>PB</td><td>ABC21558</td><td>Produto X</td><td>SITE</td><td>REGULAR</td><td>3205.7</td><td>3</td></tr><tr><td>2023-09-01</td><td>PB</td><td>ABC21558</td><td>Produto Z</td><td>SITE</td><td>REGULAR</td><td>6446.09</td><td>5</td></tr><tr><td>2023-09-01</td><td>PB</td><td>ABC22248</td><td>Produto X</td><td>LOJA</td><td>REGULAR</td><td>3589.46</td><td>10</td></tr><tr><td>2023-09-01</td><td>PB</td><td>ABC22248</td><td>Produto Z</td><td>LOJA</td><td>REGULAR</td><td>7682.32</td><td>11</td></tr><tr><td>2023-09-01</td><td>PE</td><td>ABC18465</td><td>Produto X</td><td>SITE</td><td>REGULAR</td><td>3080.4</td><td>6</td></tr><tr><td>2023-09-01</td><td>PE</td><td>ABC18465</td><td>Produto Z</td><td>SITE</td><td>REGULAR</td><td>6263.4</td><td>9</td></tr><tr><td>2023-09-01</td><td>PE</td><td>ABC18611</td><td>Produto X</td><td>SITE</td><td>REGULAR</td><td>381.0</td><td>0</td></tr><tr><td>2023-09-01</td><td>PE</td><td>ABC18611</td><td>Produto Z</td><td>SITE</td><td>REGULAR</td><td>714.0</td><td>0</td></tr><tr><td>2023-09-01</td><td>RN</td><td>ABC14240</td><td>Produto X</td><td>SITE</td><td>REGULAR</td><td>4043.73</td><td>42</td></tr><tr><td>2023-09-01</td><td>RN</td><td>ABC14240</td><td>Produto Z</td><td>SITE</td><td>REGULAR</td><td>7808.7</td><td>3</td></tr><tr><td>2023-09-01</td><td>RN</td><td>ABC20423</td><td>Produto X</td><td>LOJA</td><td>REGULAR</td><td>384.0</td><td>0</td></tr><tr><td>2023-09-01</td><td>RN</td><td>ABC20423</td><td>Produto Z</td><td>LOJA</td><td>REGULAR</td><td>687.0</td><td>0</td></tr><tr><td>2023-09-01</td><td>RN</td><td>ABC20424</td><td>Produto X</td><td>LOJA</td><td>REGULAR</td><td>384.0</td><td>0</td></tr><tr><td>2023-09-01</td><td>RN</td><td>ABC20424</td><td>Produto Z</td><td>LOJA</td><td>REGULAR</td><td>687.0</td><td>0</td></tr><tr><td>2023-09-01</td><td>RN</td><td>ABC21349</td><td>Produto X</td><td>SITE</td><td>REGULAR</td><td>384.0</td><td>0</td></tr><tr><td>2023-09-01</td><td>RN</td><td>ABC21349</td><td>Produto Z</td><td>SITE</td><td>REGULAR</td><td>687.0</td><td>0</td></tr><tr><td>2023-09-01</td><td>RN</td><td>ABC5264</td><td>Produto X</td><td>LOJA</td><td>REGULAR</td><td>3644.89</td><td>5</td></tr><tr><td>2023-09-01</td><td>RN</td><td>ABC5264</td><td>Produto Z</td><td>LOJA</td><td>REGULAR</td><td>7791.21</td><td>3</td></tr><tr><td>2023-09-01</td><td>RN</td><td>ABC7958</td><td>Produto X</td><td>LOJA</td><td>REGULAR</td><td>3652.8</td><td>2</td></tr><tr><td>2023-09-01</td><td>RN</td><td>ABC7958</td><td>Produto Z</td><td>LOJA</td><td>REGULAR</td><td>7809.9</td><td>2</td></tr><tr><td>2023-09-01</td><td>RS</td><td>ABC14726</td><td>Produto X</td><td>SITE</td><td>REGULAR</td><td>3986.99</td><td>45</td></tr><tr><td>2023-09-01</td><td>RS</td><td>ABC14726</td><td>Produto Z</td><td>SITE</td><td>REGULAR</td><td>8566.9</td><td>19</td></tr><tr><td>2023-09-01</td><td>RS</td><td>ABC20103</td><td>Produto X</td><td>SITE</td><td>REGULAR</td><td>3398.99</td><td>52</td></tr><tr><td>2023-09-01</td><td>RS</td><td>ABC20103</td><td>Produto Z</td><td>SITE</td><td>REGULAR</td><td>8280.3</td><td>10</td></tr><tr><td>2023-09-01</td><td>SP</td><td>ABC3503</td><td>Produto X</td><td>SITE</td><td>REGULAR</td><td>3579.2</td><td>86</td></tr><tr><td>2023-09-01</td><td>SP</td><td>ABC3503</td><td>Produto Z</td><td>SITE</td><td>REGULAR</td><td>7719.2</td><td>17</td></tr><tr><td>2023-09-01</td><td>SP</td><td>ABC8816</td><td>Produto X</td><td>LOJA</td><td>REGULAR</td><td>381.0</td><td>0</td></tr><tr><td>2023-09-01</td><td>SP</td><td>ABC8816</td><td>Produto Z</td><td>LOJA</td><td>REGULAR</td><td>819.0</td><td>0</td></tr><tr><td>2023-10-01</td><td>PB</td><td>ABC22248</td><td>Produto X</td><td>LOJA</td><td>REGULAR</td><td>3013.85</td><td>4</td></tr><tr><td>2023-10-01</td><td>PB</td><td>ABC22248</td><td>Produto Z</td><td>LOJA</td><td>REGULAR</td><td>8080.73</td><td>7</td></tr><tr><td>2023-10-01</td><td>RN</td><td>ABC14240</td><td>Produto X</td><td>SITE</td><td>REGULAR</td><td>1924.38</td><td>37</td></tr><tr><td>2023-10-01</td><td>RN</td><td>ABC14240</td><td>Produto Z</td><td>SITE</td><td>REGULAR</td><td>3965.7</td><td>3</td></tr><tr><td>2023-10-01</td><td>RN</td><td>ABC5264</td><td>Produto X</td><td>LOJA</td><td>REGULAR</td><td>1251.06</td><td>11</td></tr><tr><td>2023-10-01</td><td>RN</td><td>ABC5264</td><td>Produto Z</td><td>LOJA</td><td>REGULAR</td><td>3945.0</td><td>0</td></tr><tr><td>2023-10-01</td><td>RN</td><td>ABC7958</td><td>Produto X</td><td>LOJA</td><td>REGULAR</td><td>1420.78</td><td>3</td></tr><tr><td>2023-10-01</td><td>RN</td><td>ABC7958</td><td>Produto Z</td><td>LOJA</td><td>REGULAR</td><td>3945.0</td><td>0</td></tr><tr><td>2023-10-01</td><td>RS</td><td>ABC14726</td><td>Produto X</td><td>SITE</td><td>REGULAR</td><td>1655.02</td><td>10</td></tr><tr><td>2023-10-01</td><td>RS</td><td>ABC14726</td><td>Produto Z</td><td>SITE</td><td>REGULAR</td><td>4129.9</td><td>1</td></tr><tr><td>2023-10-01</td><td>RS</td><td>ABC20103</td><td>Produto X</td><td>SITE</td><td>REGULAR</td><td>3396.08</td><td>79</td></tr><tr><td>2023-10-01</td><td>RS</td><td>ABC20103</td><td>Produto Z</td><td>SITE</td><td>REGULAR</td><td>8559.6</td><td>4</td></tr><tr><td>2023-10-01</td><td>SP</td><td>ABC8816</td><td>Produto X</td><td>LOJA</td><td>REGULAR</td><td>254.0</td><td>0</td></tr><tr><td>2023-10-01</td><td>SP</td><td>ABC8816</td><td>Produto Z</td><td>LOJA</td><td>REGULAR</td><td>550.0</td><td>0</td></tr><tr><td>2023-11-01</td><td>PB</td><td>ABC22248</td><td>Produto X</td><td>LOJA</td><td>REGULAR</td><td>3837.9</td><td>1</td></tr><tr><td>2023-11-01</td><td>PB</td><td>ABC22248</td><td>Produto Z</td><td>LOJA</td><td>REGULAR</td><td>7808.75</td><td>14</td></tr><tr><td>2023-11-01</td><td>RS</td><td>ABC20103</td><td>Produto X</td><td>SITE</td><td>REGULAR</td><td>3341.3</td><td>37</td></tr><tr><td>2023-11-01</td><td>RS</td><td>ABC20103</td><td>Produto Z</td><td>SITE</td><td>REGULAR</td><td>7179.9</td><td>1</td></tr><tr><td>2023-11-01</td><td>SP</td><td>ABC8816</td><td>Produto X</td><td>LOJA</td><td>REGULAR</td><td>3814.0</td><td>0</td></tr><tr><td>2023-11-01</td><td>SP</td><td>ABC8816</td><td>Produto Z</td><td>LOJA</td><td>REGULAR</td><td>8250.0</td><td>0</td></tr><tr><td>2023-12-01</td><td>PB</td><td>ABC22248</td><td>Produto X</td><td>LOJA</td><td>REGULAR</td><td>3168.19</td><td>6</td></tr><tr><td>2023-12-01</td><td>PB</td><td>ABC22248</td><td>Produto Z</td><td>LOJA</td><td>REGULAR</td><td>6279.59</td><td>14</td></tr><tr><td>2023-12-01</td><td>SP</td><td>ABC8816</td><td>Produto X</td><td>LOJA</td><td>REGULAR</td><td>3200.0</td><td>0</td></tr><tr><td>2023-12-01</td><td>SP</td><td>ABC8816</td><td>Produto Z</td><td>LOJA</td><td>REGULAR</td><td>6875.0</td><td>0</td></tr></tbody></table></div>"
      ]
     },
     "metadata": {
      "application/vnd.databricks.v1+output": {
       "addedWidgets": {},
       "aggData": [],
       "aggError": "",
       "aggOverflow": false,
       "aggSchema": [],
       "aggSeriesLimitReached": false,
       "aggType": "",
       "arguments": {},
       "columnCustomDisplayInfos": {},
       "data": [
        [
         "2023-01-01",
         "BA",
         "ABC20007",
         "Produto X",
         "LOJA",
         "PROMOCAO",
         3715.79,
         2
        ],
        [
         "2023-01-01",
         "BA",
         "ABC20007",
         "Produto Z",
         "LOJA",
         "PROMOCAO",
         6563.63,
         4
        ],
        [
         "2023-01-01",
         "BA",
         "ABC21382",
         "Produto X",
         "LOJA",
         "PROMOCAO",
         3702.02,
         2
        ],
        [
         "2023-01-01",
         "BA",
         "ABC21382",
         "Produto Z",
         "LOJA",
         "PROMOCAO",
         6340.96,
         4
        ],
        [
         "2023-01-01",
         "BA",
         "ABC5228",
         "Produto X",
         "SITE",
         "PROMOCAO",
         904.0,
         0
        ],
        [
         "2023-01-01",
         "BA",
         "ABC5228",
         "Produto X",
         "SITE",
         "REGULAR",
         2833.05,
         4
        ],
        [
         "2023-01-01",
         "BA",
         "ABC5228",
         "Produto Z",
         "SITE",
         "REGULAR",
         6355.0,
         0
        ],
        [
         "2023-01-01",
         "BA",
         "ABC9048",
         "Produto X",
         "SITE",
         "REGULAR",
         2709.8,
         3
        ],
        [
         "2023-01-01",
         "BA",
         "ABC9048",
         "Produto Z",
         "SITE",
         "REGULAR",
         4325.82,
         3
        ],
        [
         "2023-01-01",
         "CE",
         "ABC12953",
         "Produto X",
         "SITE",
         "PROMOCAO",
         1365.0,
         37
        ],
        [
         "2023-01-01",
         "CE",
         "ABC12953",
         "Produto X",
         "SITE",
         "REGULAR",
         2659.0,
         12
        ],
        [
         "2023-01-01",
         "CE",
         "ABC12953",
         "Produto Z",
         "SITE",
         "REGULAR",
         6777.42,
         71
        ],
        [
         "2023-01-01",
         "CE",
         "ABC14661",
         "Produto X",
         "SITE",
         "PROMOCAO",
         1135.4,
         22
        ],
        [
         "2023-01-01",
         "CE",
         "ABC14661",
         "Produto X",
         "SITE",
         "REGULAR",
         2676.8,
         2
        ],
        [
         "2023-01-01",
         "CE",
         "ABC14661",
         "Produto Z",
         "SITE",
         "REGULAR",
         6287.26,
         6
        ],
        [
         "2023-01-01",
         "CE",
         "ABC19747",
         "Produto X",
         "LOJA",
         "PROMOCAO",
         3691.49,
         1
        ],
        [
         "2023-01-01",
         "CE",
         "ABC19747",
         "Produto Z",
         "LOJA",
         "PROMOCAO",
         6240.0,
         0
        ],
        [
         "2023-01-01",
         "CE",
         "ABC19755",
         "Produto X",
         "SITE",
         "PROMOCAO",
         1137.2,
         35
        ],
        [
         "2023-01-01",
         "CE",
         "ABC19755",
         "Produto X",
         "SITE",
         "REGULAR",
         2948.3,
         10
        ],
        [
         "2023-01-01",
         "CE",
         "ABC19755",
         "Produto Z",
         "SITE",
         "REGULAR",
         6458.17,
         43
        ],
        [
         "2023-01-01",
         "ES",
         "ABC14153",
         "Produto X",
         "SITE",
         "PROMOCAO",
         1593.7,
         35
        ],
        [
         "2023-01-01",
         "ES",
         "ABC14153",
         "Produto X",
         "SITE",
         "REGULAR",
         2957.0,
         12
        ],
        [
         "2023-01-01",
         "ES",
         "ABC14153",
         "Produto Z",
         "SITE",
         "REGULAR",
         7174.55,
         15
        ],
        [
         "2023-01-01",
         "ES",
         "ABC19523",
         "Produto X",
         "LOJA",
         "PROMOCAO",
         3692.56,
         1
        ],
        [
         "2023-01-01",
         "ES",
         "ABC19523",
         "Produto Z",
         "LOJA",
         "PROMOCAO",
         7083.0,
         0
        ],
        [
         "2023-01-01",
         "MA",
         "ABC13186",
         "Produto X",
         "LOJA",
         "PROMOCAO",
         3653.73,
         3
        ],
        [
         "2023-01-01",
         "MA",
         "ABC13186",
         "Produto Z",
         "LOJA",
         "PROMOCAO",
         6275.0,
         0
        ],
        [
         "2023-01-01",
         "MG",
         "ABC18630",
         "Produto X",
         "LOJA",
         "PROMOCAO",
         2706.0,
         0
        ],
        [
         "2023-01-01",
         "MG",
         "ABC18630",
         "Produto Z",
         "LOJA",
         "PROMOCAO",
         4620.0,
         0
        ],
        [
         "2023-01-01",
         "MG",
         "ABC18631",
         "Produto X",
         "LOJA",
         "PROMOCAO",
         2706.0,
         0
        ],
        [
         "2023-01-01",
         "MG",
         "ABC18631",
         "Produto Z",
         "LOJA",
         "PROMOCAO",
         4620.0,
         0
        ],
        [
         "2023-01-01",
         "PB",
         "ABC19304",
         "Produto X",
         "LOJA",
         "PROMOCAO",
         3712.04,
         1
        ],
        [
         "2023-01-01",
         "PB",
         "ABC19304",
         "Produto Z",
         "LOJA",
         "PROMOCAO",
         6075.82,
         2
        ],
        [
         "2023-01-01",
         "PB",
         "ABC19709",
         "Produto X",
         "LOJA",
         "PROMOCAO",
         3712.8,
         2
        ],
        [
         "2023-01-01",
         "PB",
         "ABC19709",
         "Produto Z",
         "LOJA",
         "PROMOCAO",
         6038.04,
         9
        ],
        [
         "2023-01-01",
         "PB",
         "ABC21558",
         "Produto X",
         "SITE",
         "PROMOCAO",
         1707.6,
         68
        ],
        [
         "2023-01-01",
         "PB",
         "ABC21558",
         "Produto X",
         "SITE",
         "REGULAR",
         2709.8,
         5
        ],
        [
         "2023-01-01",
         "PB",
         "ABC21558",
         "Produto Z",
         "SITE",
         "REGULAR",
         6531.04,
         103
        ],
        [
         "2023-01-01",
         "PE",
         "ABC18465",
         "Produto X",
         "SITE",
         "PROMOCAO",
         909.4,
         10
        ],
        [
         "2023-01-01",
         "PE",
         "ABC18465",
         "Produto X",
         "SITE",
         "REGULAR",
         2948.3,
         11
        ],
        [
         "2023-01-01",
         "PE",
         "ABC18465",
         "Produto Z",
         "SITE",
         "REGULAR",
         6731.86,
         26
        ],
        [
         "2023-01-01",
         "PE",
         "ABC18611",
         "Produto X",
         "SITE",
         "PROMOCAO",
         1018.8,
         5
        ],
        [
         "2023-01-01",
         "PE",
         "ABC18611",
         "Produto X",
         "SITE",
         "REGULAR",
         2811.54,
         4
        ],
        [
         "2023-01-01",
         "PE",
         "ABC18611",
         "Produto Z",
         "SITE",
         "REGULAR",
         7221.66,
         62
        ],
        [
         "2023-01-01",
         "PR",
         "ABC18575",
         "Produto X",
         "LOJA",
         "PROMOCAO",
         3699.08,
         3
        ],
        [
         "2023-01-01",
         "PR",
         "ABC18575",
         "Produto Z",
         "LOJA",
         "PROMOCAO",
         6863.0,
         0
        ],
        [
         "2023-01-01",
         "RJ",
         "ABC14683",
         "Produto X",
         "SITE",
         "PROMOCAO",
         1023.3,
         29
        ],
        [
         "2023-01-01",
         "RJ",
         "ABC14683",
         "Produto X",
         "SITE",
         "REGULAR",
         2968.6,
         25
        ],
        [
         "2023-01-01",
         "RJ",
         "ABC14683",
         "Produto Z",
         "SITE",
         "REGULAR",
         7273.39,
         6
        ],
        [
         "2023-01-01",
         "RJ",
         "ABC17539",
         "Produto X",
         "LOJA",
         "PROMOCAO",
         2684.0,
         0
        ],
        [
         "2023-01-01",
         "RJ",
         "ABC17539",
         "Produto Z",
         "LOJA",
         "PROMOCAO",
         4862.0,
         0
        ],
        [
         "2023-01-01",
         "RN",
         "ABC14240",
         "Produto X",
         "SITE",
         "PROMOCAO",
         1588.47,
         28
        ],
        [
         "2023-01-01",
         "RN",
         "ABC14240",
         "Produto X",
         "SITE",
         "REGULAR",
         2826.3,
         10
        ],
        [
         "2023-01-01",
         "RN",
         "ABC14240",
         "Produto Z",
         "SITE",
         "REGULAR",
         7139.86,
         111
        ],
        [
         "2023-01-01",
         "RN",
         "ABC20423",
         "Produto X",
         "LOJA",
         "PROMOCAO",
         3701.0,
         0
        ],
        [
         "2023-01-01",
         "RN",
         "ABC20423",
         "Produto Z",
         "LOJA",
         "PROMOCAO",
         6339.32,
         4
        ],
        [
         "2023-01-01",
         "RN",
         "ABC20424",
         "Produto X",
         "LOJA",
         "PROMOCAO",
         3622.08,
         5
        ],
        [
         "2023-01-01",
         "RN",
         "ABC20424",
         "Produto Z",
         "LOJA",
         "PROMOCAO",
         6125.71,
         6
        ],
        [
         "2023-01-01",
         "RN",
         "ABC21349",
         "Produto X",
         "SITE",
         "PROMOCAO",
         1017.9,
         6
        ],
        [
         "2023-01-01",
         "RN",
         "ABC21349",
         "Produto X",
         "SITE",
         "REGULAR",
         2686.08,
         3
        ],
        [
         "2023-01-01",
         "RN",
         "ABC21349",
         "Produto Z",
         "SITE",
         "REGULAR",
         6189.18,
         4
        ],
        [
         "2023-01-01",
         "RN",
         "ABC21352",
         "Produto X",
         "SITE",
         "PROMOCAO",
         996.02,
         8
        ],
        [
         "2023-01-01",
         "RN",
         "ABC21352",
         "Produto X",
         "SITE",
         "REGULAR",
         2686.9,
         1
        ],
        [
         "2023-01-01",
         "RN",
         "ABC21352",
         "Produto Z",
         "SITE",
         "REGULAR",
         6419.44,
         8
        ],
        [
         "2023-01-01",
         "RN",
         "ABC5264",
         "Produto X",
         "LOJA",
         "PROMOCAO",
         3699.88,
         4
        ],
        [
         "2023-01-01",
         "RN",
         "ABC5264",
         "Produto Z",
         "LOJA",
         "PROMOCAO",
         6152.9,
         1
        ],
        [
         "2023-01-01",
         "RN",
         "ABC7958",
         "Produto X",
         "LOJA",
         "PROMOCAO",
         3693.84,
         7
        ],
        [
         "2023-01-01",
         "RN",
         "ABC7958",
         "Produto Z",
         "LOJA",
         "PROMOCAO",
         6193.53,
         1
        ],
        [
         "2023-01-01",
         "RS",
         "ABC14726",
         "Produto X",
         "SITE",
         "PROMOCAO",
         1021.5,
         12
        ],
        [
         "2023-01-01",
         "RS",
         "ABC14726",
         "Produto X",
         "SITE",
         "REGULAR",
         3345.7,
         29
        ],
        [
         "2023-01-01",
         "RS",
         "ABC14726",
         "Produto Z",
         "SITE",
         "REGULAR",
         7538.0,
         15
        ],
        [
         "2023-01-01",
         "RS",
         "ABC20103",
         "Produto X",
         "SITE",
         "PROMOCAO",
         1022.4,
         12
        ],
        [
         "2023-01-01",
         "RS",
         "ABC20103",
         "Produto X",
         "SITE",
         "REGULAR",
         2717.4,
         12
        ],
        [
         "2023-01-01",
         "RS",
         "ABC20103",
         "Produto Z",
         "SITE",
         "REGULAR",
         7353.4,
         9
        ],
        [
         "2023-01-01",
         "SC",
         "ABC18757",
         "Produto X",
         "LOJA",
         "PROMOCAO",
         3723.9,
         1
        ],
        [
         "2023-01-01",
         "SC",
         "ABC18757",
         "Produto Z",
         "LOJA",
         "PROMOCAO",
         7000.0,
         0
        ],
        [
         "2023-01-01",
         "SE",
         "ABC14286",
         "Produto X",
         "LOJA",
         "PROMOCAO",
         3691.41,
         1
        ],
        [
         "2023-01-01",
         "SE",
         "ABC14286",
         "Produto Z",
         "LOJA",
         "PROMOCAO",
         6402.1,
         3
        ],
        [
         "2023-01-01",
         "SP",
         "ABC11818",
         "Produto X",
         "LOJA",
         "PROMOCAO",
         3689.76,
         2
        ],
        [
         "2023-01-01",
         "SP",
         "ABC11818",
         "Produto Z",
         "LOJA",
         "PROMOCAO",
         7144.44,
         3
        ],
        [
         "2023-01-01",
         "SP",
         "ABC12405",
         "Produto X",
         "LOJA",
         "PROMOCAO",
         3679.39,
         1
        ],
        [
         "2023-01-01",
         "SP",
         "ABC12405",
         "Produto Z",
         "LOJA",
         "PROMOCAO",
         7026.0,
         0
        ],
        [
         "2023-01-01",
         "SP",
         "ABC12684",
         "Produto X",
         "LOJA",
         "PROMOCAO",
         3691.57,
         2
        ],
        [
         "2023-01-01",
         "SP",
         "ABC12684",
         "Produto Z",
         "LOJA",
         "PROMOCAO",
         7015.17,
         1
        ],
        [
         "2023-01-01",
         "SP",
         "ABC13387",
         "Produto X",
         "LOJA",
         "PROMOCAO",
         2684.0,
         0
        ],
        [
         "2023-01-01",
         "SP",
         "ABC13387",
         "Produto Z",
         "LOJA",
         "PROMOCAO",
         4686.0,
         0
        ],
        [
         "2023-01-01",
         "SP",
         "ABC13388",
         "Produto X",
         "LOJA",
         "PROMOCAO",
         3654.68,
         4
        ],
        [
         "2023-01-01",
         "SP",
         "ABC13388",
         "Produto Z",
         "LOJA",
         "PROMOCAO",
         7026.0,
         0
        ],
        [
         "2023-01-01",
         "SP",
         "ABC13733",
         "Produto X",
         "LOJA",
         "PROMOCAO",
         3701.0,
         0
        ],
        [
         "2023-01-01",
         "SP",
         "ABC13733",
         "Produto Z",
         "LOJA",
         "PROMOCAO",
         7026.0,
         0
        ],
        [
         "2023-01-01",
         "SP",
         "ABC14095",
         "Produto X",
         "LOJA",
         "PROMOCAO",
         3688.06,
         2
        ],
        [
         "2023-01-01",
         "SP",
         "ABC14095",
         "Produto Z",
         "LOJA",
         "PROMOCAO",
         7076.0,
         1
        ],
        [
         "2023-01-01",
         "SP",
         "ABC14151",
         "Produto X",
         "LOJA",
         "PROMOCAO",
         3659.93,
         2
        ],
        [
         "2023-01-01",
         "SP",
         "ABC14151",
         "Produto Z",
         "LOJA",
         "PROMOCAO",
         7084.77,
         2
        ],
        [
         "2023-01-01",
         "SP",
         "ABC17631",
         "Produto X",
         "SITE",
         "PROMOCAO",
         1590.8,
         36
        ],
        [
         "2023-01-01",
         "SP",
         "ABC17631",
         "Produto X",
         "SITE",
         "REGULAR",
         3324.56,
         37
        ],
        [
         "2023-01-01",
         "SP",
         "ABC17631",
         "Produto Z",
         "SITE",
         "REGULAR",
         7519.57,
         36
        ],
        [
         "2023-01-01",
         "SP",
         "ABC19104",
         "Produto X",
         "LOJA",
         "PROMOCAO",
         3701.0,
         0
        ],
        [
         "2023-01-01",
         "SP",
         "ABC19104",
         "Produto Z",
         "LOJA",
         "PROMOCAO",
         7108.76,
         3
        ],
        [
         "2023-01-01",
         "SP",
         "ABC3503",
         "Produto X",
         "SITE",
         "PROMOCAO",
         2286.9,
         181
        ],
        [
         "2023-01-01",
         "SP",
         "ABC3503",
         "Produto X",
         "SITE",
         "REGULAR",
         4603.9,
         115
        ],
        [
         "2023-01-01",
         "SP",
         "ABC3503",
         "Produto Z",
         "SITE",
         "REGULAR",
         9429.2,
         118
        ],
        [
         "2023-01-01",
         "SP",
         "ABC7462",
         "Produto X",
         "LOJA",
         "PROMOCAO",
         3672.6,
         7
        ],
        [
         "2023-01-01",
         "SP",
         "ABC7462",
         "Produto Z",
         "LOJA",
         "PROMOCAO",
         7035.9,
         1
        ],
        [
         "2023-01-01",
         "SP",
         "ABC7652",
         "Produto X",
         "LOJA",
         "PROMOCAO",
         3699.9,
         1
        ],
        [
         "2023-01-01",
         "SP",
         "ABC7652",
         "Produto Z",
         "LOJA",
         "PROMOCAO",
         7077.96,
         1
        ],
        [
         "2023-01-01",
         "SP",
         "ABC8816",
         "Produto X",
         "LOJA",
         "PROMOCAO",
         3691.97,
         2
        ],
        [
         "2023-01-01",
         "SP",
         "ABC8816",
         "Produto Z",
         "LOJA",
         "PROMOCAO",
         7076.32,
         1
        ],
        [
         "2023-02-01",
         "BA",
         "ABC20007",
         "Produto X",
         "LOJA",
         "PROMOCAO",
         3308.9,
         2
        ],
        [
         "2023-02-01",
         "BA",
         "ABC20007",
         "Produto Z",
         "LOJA",
         "PROMOCAO",
         7063.97,
         2
        ],
        [
         "2023-02-01",
         "BA",
         "ABC21382",
         "Produto X",
         "LOJA",
         "PROMOCAO",
         3254.66,
         4
        ],
        [
         "2023-02-01",
         "BA",
         "ABC21382",
         "Produto Z",
         "LOJA",
         "PROMOCAO",
         7069.13,
         1
        ],
        [
         "2023-02-01",
         "BA",
         "ABC5228",
         "Produto X",
         "SITE",
         "PROMOCAO",
         1588.3,
         27
        ],
        [
         "2023-02-01",
         "BA",
         "ABC5228",
         "Produto X",
         "SITE",
         "REGULAR",
         1833.36,
         2
        ],
        [
         "2023-02-01",
         "BA",
         "ABC5228",
         "Produto Z",
         "SITE",
         "REGULAR",
         7088.7,
         3
        ],
        [
         "2023-02-01",
         "CE",
         "ABC12953",
         "Produto X",
         "SITE",
         "PROMOCAO",
         2039.5,
         41
        ],
        [
         "2023-02-01",
         "CE",
         "ABC12953",
         "Produto X",
         "SITE",
         "REGULAR",
         1826.7,
         3
        ],
        [
         "2023-02-01",
         "CE",
         "ABC12953",
         "Produto Z",
         "SITE",
         "REGULAR",
         6952.0,
         0
        ],
        [
         "2023-02-01",
         "CE",
         "ABC14661",
         "Produto X",
         "SITE",
         "PROMOCAO",
         1572.89,
         15
        ],
        [
         "2023-02-01",
         "CE",
         "ABC14661",
         "Produto X",
         "SITE",
         "REGULAR",
         1656.71,
         2
        ],
        [
         "2023-02-01",
         "CE",
         "ABC14661",
         "Produto Z",
         "SITE",
         "REGULAR",
         6952.0,
         0
        ],
        [
         "2023-02-01",
         "CE",
         "ABC19747",
         "Produto X",
         "LOJA",
         "PROMOCAO",
         3213.73,
         2
        ],
        [
         "2023-02-01",
         "CE",
         "ABC19747",
         "Produto Z",
         "LOJA",
         "PROMOCAO",
         6952.0,
         0
        ],
        [
         "2023-02-01",
         "CE",
         "ABC19755",
         "Produto X",
         "SITE",
         "PROMOCAO",
         1706.7,
         29
        ],
        [
         "2023-02-01",
         "CE",
         "ABC19755",
         "Produto X",
         "SITE",
         "REGULAR",
         1834.5,
         8
        ],
        [
         "2023-02-01",
         "CE",
         "ABC19755",
         "Produto Z",
         "SITE",
         "REGULAR",
         6962.7,
         3
        ],
        [
         "2023-02-01",
         "ES",
         "ABC14153",
         "Produto X",
         "SITE",
         "PROMOCAO",
         1475.3,
         22
        ],
        [
         "2023-02-01",
         "ES",
         "ABC14153",
         "Produto X",
         "SITE",
         "REGULAR",
         1936.0,
         0
        ],
        [
         "2023-02-01",
         "ES",
         "ABC14153",
         "Produto Z",
         "SITE",
         "REGULAR",
         7595.5,
         6
        ],
        [
         "2023-02-01",
         "ES",
         "ABC19523",
         "Produto X",
         "LOJA",
         "PROMOCAO",
         3276.6,
         1
        ],
        [
         "2023-02-01",
         "ES",
         "ABC19523",
         "Produto Z",
         "LOJA",
         "PROMOCAO",
         7284.0,
         0
        ],
        [
         "2023-02-01",
         "MA",
         "ABC13186",
         "Produto X",
         "LOJA",
         "PROMOCAO",
         3277.74,
         3
        ],
        [
         "2023-02-01",
         "MA",
         "ABC13186",
         "Produto Z",
         "LOJA",
         "PROMOCAO",
         6972.0,
         0
        ],
        [
         "2023-02-01",
         "PB",
         "ABC19304",
         "Produto X",
         "LOJA",
         "PROMOCAO",
         3308.0,
         0
        ],
        [
         "2023-02-01",
         "PB",
         "ABC19304",
         "Produto Z",
         "LOJA",
         "PROMOCAO",
         6856.39,
         3
        ],
        [
         "2023-02-01",
         "PB",
         "ABC19709",
         "Produto X",
         "LOJA",
         "PROMOCAO",
         3308.0,
         0
        ],
        [
         "2023-02-01",
         "PB",
         "ABC19709",
         "Produto Z",
         "LOJA",
         "PROMOCAO",
         6884.0,
         0
        ],
        [
         "2023-02-01",
         "PB",
         "ABC21558",
         "Produto X",
         "SITE",
         "PROMOCAO",
         1702.2,
         26
        ],
        [
         "2023-02-01",
         "PB",
         "ABC21558",
         "Produto X",
         "SITE",
         "REGULAR",
         1966.5,
         6
        ],
        [
         "2023-02-01",
         "PB",
         "ABC21558",
         "Produto Z",
         "SITE",
         "REGULAR",
         7006.1,
         12
        ],
        [
         "2023-02-01",
         "PE",
         "ABC18465",
         "Produto X",
         "SITE",
         "PROMOCAO",
         1356.0,
         0
        ],
        [
         "2023-02-01",
         "PE",
         "ABC18465",
         "Produto X",
         "SITE",
         "REGULAR",
         1952.0,
         0
        ],
        [
         "2023-02-01",
         "PE",
         "ABC18465",
         "Produto Z",
         "SITE",
         "REGULAR",
         7045.8,
         2
        ],
        [
         "2023-02-01",
         "PE",
         "ABC18611",
         "Produto X",
         "SITE",
         "PROMOCAO",
         1474.4,
         10
        ],
        [
         "2023-02-01",
         "PE",
         "ABC18611",
         "Produto X",
         "SITE",
         "REGULAR",
         2076.79,
         4
        ],
        [
         "2023-02-01",
         "PE",
         "ABC18611",
         "Produto Z",
         "SITE",
         "REGULAR",
         7039.56,
         3
        ],
        [
         "2023-02-01",
         "PR",
         "ABC18575",
         "Produto X",
         "LOJA",
         "PROMOCAO",
         3308.0,
         0
        ],
        [
         "2023-02-01",
         "PR",
         "ABC18575",
         "Produto Z",
         "LOJA",
         "PROMOCAO",
         7326.9,
         1
        ],
        [
         "2023-02-01",
         "RJ",
         "ABC14683",
         "Produto X",
         "SITE",
         "PROMOCAO",
         1704.9,
         37
        ],
        [
         "2023-02-01",
         "RJ",
         "ABC14683",
         "Produto X",
         "SITE",
         "REGULAR",
         1698.6,
         6
        ],
        [
         "2023-02-01",
         "RJ",
         "ABC14683",
         "Produto Z",
         "SITE",
         "REGULAR",
         7388.3,
         7
        ],
        [
         "2023-02-01",
         "RN",
         "ABC14240",
         "Produto X",
         "SITE",
         "PROMOCAO",
         2274.11,
         44
        ],
        [
         "2023-02-01",
         "RN",
         "ABC14240",
         "Produto X",
         "SITE",
         "REGULAR",
         1833.5,
         5
        ],
        [
         "2023-02-01",
         "RN",
         "ABC14240",
         "Produto Z",
         "SITE",
         "REGULAR",
         6936.0,
         0
        ],
        [
         "2023-02-01",
         "RN",
         "ABC20423",
         "Produto X",
         "LOJA",
         "PROMOCAO",
         3284.54,
         4
        ],
        [
         "2023-02-01",
         "RN",
         "ABC20423",
         "Produto Z",
         "LOJA",
         "PROMOCAO",
         6780.45,
         4
        ],
        [
         "2023-02-01",
         "RN",
         "ABC20424",
         "Produto X",
         "LOJA",
         "PROMOCAO",
         3284.62,
         1
        ],
        [
         "2023-02-01",
         "RN",
         "ABC20424",
         "Produto Z",
         "LOJA",
         "PROMOCAO",
         6869.84,
         7
        ],
        [
         "2023-02-01",
         "RN",
         "ABC21349",
         "Produto X",
         "SITE",
         "PROMOCAO",
         1565.5,
         11
        ],
        [
         "2023-02-01",
         "RN",
         "ABC21349",
         "Produto X",
         "SITE",
         "REGULAR",
         1821.53,
         2
        ],
        [
         "2023-02-01",
         "RN",
         "ABC21349",
         "Produto Z",
         "SITE",
         "REGULAR",
         6943.9,
         1
        ],
        [
         "2023-02-01",
         "RN",
         "ABC21352",
         "Produto X",
         "SITE",
         "PROMOCAO",
         1337.72,
         6
        ],
        [
         "2023-02-01",
         "RN",
         "ABC21352",
         "Produto X",
         "SITE",
         "REGULAR",
         1952.0,
         0
        ],
        [
         "2023-02-01",
         "RN",
         "ABC21352",
         "Produto Z",
         "SITE",
         "REGULAR",
         6936.0,
         0
        ],
        [
         "2023-02-01",
         "RN",
         "ABC5264",
         "Produto X",
         "LOJA",
         "PROMOCAO",
         3258.84,
         4
        ],
        [
         "2023-02-01",
         "RN",
         "ABC5264",
         "Produto Z",
         "LOJA",
         "PROMOCAO",
         6936.0,
         0
        ],
        [
         "2023-02-01",
         "RN",
         "ABC7958",
         "Produto X",
         "LOJA",
         "PROMOCAO",
         3295.14,
         3
        ],
        [
         "2023-02-01",
         "RN",
         "ABC7958",
         "Produto Z",
         "LOJA",
         "PROMOCAO",
         6936.0,
         0
        ],
        [
         "2023-02-01",
         "RS",
         "ABC14726",
         "Produto X",
         "SITE",
         "PROMOCAO",
         2044.8,
         41
        ],
        [
         "2023-02-01",
         "RS",
         "ABC14726",
         "Produto X",
         "SITE",
         "REGULAR",
         1964.2,
         25
        ],
        [
         "2023-02-01",
         "RS",
         "ABC14726",
         "Produto Z",
         "SITE",
         "REGULAR",
         7417.2,
         13
        ],
        [
         "2023-02-01",
         "RS",
         "ABC20103",
         "Produto X",
         "SITE",
         "PROMOCAO",
         1476.2,
         23
        ],
        [
         "2023-02-01",
         "RS",
         "ABC20103",
         "Produto X",
         "SITE",
         "REGULAR",
         1967.22,
         8
        ],
        [
         "2023-02-01",
         "RS",
         "ABC20103",
         "Produto Z",
         "SITE",
         "REGULAR",
         7368.0,
         0
        ],
        [
         "2023-02-01",
         "SC",
         "ABC18757",
         "Produto X",
         "LOJA",
         "PROMOCAO",
         3301.93,
         2
        ],
        [
         "2023-02-01",
         "SC",
         "ABC18757",
         "Produto Z",
         "LOJA",
         "PROMOCAO",
         7384.0,
         0
        ],
        [
         "2023-02-01",
         "SE",
         "ABC14286",
         "Produto X",
         "LOJA",
         "PROMOCAO",
         3308.0,
         0
        ],
        [
         "2023-02-01",
         "SE",
         "ABC14286",
         "Produto Z",
         "LOJA",
         "PROMOCAO",
         6868.0,
         0
        ],
        [
         "2023-02-01",
         "SP",
         "ABC11818",
         "Produto X",
         "LOJA",
         "PROMOCAO",
         3279.63,
         2
        ],
        [
         "2023-02-01",
         "SP",
         "ABC11818",
         "Produto Z",
         "LOJA",
         "PROMOCAO",
         7312.0,
         0
        ],
        [
         "2023-02-01",
         "SP",
         "ABC12405",
         "Produto X",
         "LOJA",
         "PROMOCAO",
         3260.69,
         3
        ],
        [
         "2023-02-01",
         "SP",
         "ABC12405",
         "Produto Z",
         "LOJA",
         "PROMOCAO",
         7250.55,
         2
        ],
        [
         "2023-02-01",
         "SP",
         "ABC12684",
         "Produto X",
         "LOJA",
         "PROMOCAO",
         1349.32,
         1
        ],
        [
         "2023-02-01",
         "SP",
         "ABC12684",
         "Produto Z",
         "LOJA",
         "PROMOCAO",
         3120.0,
         0
        ],
        [
         "2023-02-01",
         "SP",
         "ABC13388",
         "Produto X",
         "LOJA",
         "PROMOCAO",
         3284.57,
         2
        ],
        [
         "2023-02-01",
         "SP",
         "ABC13388",
         "Produto Z",
         "LOJA",
         "PROMOCAO",
         7305.87,
         1
        ],
        [
         "2023-02-01",
         "SP",
         "ABC13733",
         "Produto X",
         "LOJA",
         "PROMOCAO",
         3283.12,
         3
        ],
        [
         "2023-02-01",
         "SP",
         "ABC13733",
         "Produto Z",
         "LOJA",
         "PROMOCAO",
         7249.88,
         2
        ],
        [
         "2023-02-01",
         "SP",
         "ABC14095",
         "Produto X",
         "LOJA",
         "PROMOCAO",
         3289.9,
         2
        ],
        [
         "2023-02-01",
         "SP",
         "ABC14095",
         "Produto Z",
         "LOJA",
         "PROMOCAO",
         7316.9,
         1
        ],
        [
         "2023-02-01",
         "SP",
         "ABC14151",
         "Produto X",
         "LOJA",
         "PROMOCAO",
         3279.51,
         2
        ],
        [
         "2023-02-01",
         "SP",
         "ABC14151",
         "Produto Z",
         "LOJA",
         "PROMOCAO",
         7288.0,
         1
        ],
        [
         "2023-02-01",
         "SP",
         "ABC17631",
         "Produto X",
         "SITE",
         "PROMOCAO",
         2389.2,
         55
        ],
        [
         "2023-02-01",
         "SP",
         "ABC17631",
         "Produto X",
         "SITE",
         "REGULAR",
         1729.1,
         15
        ],
        [
         "2023-02-01",
         "SP",
         "ABC17631",
         "Produto Z",
         "SITE",
         "REGULAR",
         7412.9,
         11
        ],
        [
         "2023-02-01",
         "SP",
         "ABC19104",
         "Produto X",
         "LOJA",
         "PROMOCAO",
         3284.68,
         6
        ],
        [
         "2023-02-01",
         "SP",
         "ABC19104",
         "Produto Z",
         "LOJA",
         "PROMOCAO",
         7307.0,
         1
        ],
        [
         "2023-02-01",
         "SP",
         "ABC3503",
         "Produto X",
         "SITE",
         "PROMOCAO",
         3634.51,
         339
        ],
        [
         "2023-02-01",
         "SP",
         "ABC3503",
         "Produto X",
         "SITE",
         "REGULAR",
         3391.39,
         133
        ],
        [
         "2023-02-01",
         "SP",
         "ABC3503",
         "Produto Z",
         "SITE",
         "REGULAR",
         9909.2,
         56
        ],
        [
         "2023-02-01",
         "SP",
         "ABC7462",
         "Produto X",
         "LOJA",
         "PROMOCAO",
         3296.25,
         4
        ],
        [
         "2023-02-01",
         "SP",
         "ABC7462",
         "Produto Z",
         "LOJA",
         "PROMOCAO",
         7324.82,
         2
        ],
        [
         "2023-02-01",
         "SP",
         "ABC7652",
         "Produto X",
         "LOJA",
         "PROMOCAO",
         3292.0,
         0
        ],
        [
         "2023-02-01",
         "SP",
         "ABC7652",
         "Produto Z",
         "LOJA",
         "PROMOCAO",
         7312.0,
         0
        ],
        [
         "2023-02-01",
         "SP",
         "ABC8816",
         "Produto X",
         "LOJA",
         "PROMOCAO",
         3292.0,
         0
        ],
        [
         "2023-02-01",
         "SP",
         "ABC8816",
         "Produto Z",
         "LOJA",
         "PROMOCAO",
         7321.9,
         1
        ],
        [
         "2023-03-01",
         "BA",
         "ABC20007",
         "Produto X",
         "LOJA",
         "PROMOCAO",
         3192.14,
         2
        ],
        [
         "2023-03-01",
         "BA",
         "ABC20007",
         "Produto X",
         "LOJA",
         "REGULAR",
         615.0,
         0
        ],
        [
         "2023-03-01",
         "BA",
         "ABC20007",
         "Produto Z",
         "LOJA",
         "PROMOCAO",
         6643.52,
         3
        ],
        [
         "2023-03-01",
         "BA",
         "ABC20007",
         "Produto Z",
         "LOJA",
         "REGULAR",
         1263.9,
         1
        ],
        [
         "2023-03-01",
         "BA",
         "ABC21382",
         "Produto X",
         "LOJA",
         "PROMOCAO",
         3195.9,
         1
        ],
        [
         "2023-03-01",
         "BA",
         "ABC21382",
         "Produto X",
         "LOJA",
         "REGULAR",
         615.0,
         0
        ],
        [
         "2023-03-01",
         "BA",
         "ABC21382",
         "Produto Z",
         "LOJA",
         "PROMOCAO",
         6651.0,
         0
        ],
        [
         "2023-03-01",
         "BA",
         "ABC21382",
         "Produto Z",
         "LOJA",
         "REGULAR",
         1255.0,
         0
        ],
        [
         "2023-03-01",
         "BA",
         "ABC5228",
         "Produto X",
         "SITE",
         "REGULAR",
         3811.34,
         6
        ],
        [
         "2023-03-01",
         "BA",
         "ABC5228",
         "Produto Z",
         "SITE",
         "REGULAR",
         7915.54,
         6
        ],
        [
         "2023-03-01",
         "CE",
         "ABC12953",
         "Produto X",
         "SITE",
         "REGULAR",
         3791.1,
         10
        ],
        [
         "2023-03-01",
         "CE",
         "ABC12953",
         "Produto Z",
         "SITE",
         "REGULAR",
         7769.8,
         4
        ],
        [
         "2023-03-01",
         "CE",
         "ABC14661",
         "Produto X",
         "SITE",
         "REGULAR",
         3836.87,
         7
        ],
        [
         "2023-03-01",
         "CE",
         "ABC14661",
         "Produto Z",
         "SITE",
         "REGULAR",
         7741.1,
         4
        ],
        [
         "2023-03-01",
         "CE",
         "ABC19747",
         "Produto X",
         "LOJA",
         "PROMOCAO",
         3149.9,
         1
        ],
        [
         "2023-03-01",
         "CE",
         "ABC19747",
         "Produto X",
         "LOJA",
         "REGULAR",
         609.66,
         1
        ],
        [
         "2023-03-01",
         "CE",
         "ABC19747",
         "Produto Z",
         "LOJA",
         "PROMOCAO",
         6436.58,
         4
        ],
        [
         "2023-03-01",
         "CE",
         "ABC19747",
         "Produto Z",
         "LOJA",
         "REGULAR",
         1250.0,
         0
        ],
        [
         "2023-03-01",
         "CE",
         "ABC19755",
         "Produto X",
         "SITE",
         "REGULAR",
         4036.58,
         14
        ],
        [
         "2023-03-01",
         "CE",
         "ABC19755",
         "Produto Z",
         "SITE",
         "REGULAR",
         7829.2,
         11
        ],
        [
         "2023-03-01",
         "ES",
         "ABC14153",
         "Produto X",
         "SITE",
         "REGULAR",
         4325.1,
         22
        ],
        [
         "2023-03-01",
         "ES",
         "ABC14153",
         "Produto Z",
         "SITE",
         "REGULAR",
         8156.4,
         6
        ],
        [
         "2023-03-01",
         "ES",
         "ABC19523",
         "Produto X",
         "LOJA",
         "PROMOCAO",
         3167.0,
         0
        ],
        [
         "2023-03-01",
         "ES",
         "ABC19523",
         "Produto X",
         "LOJA",
         "REGULAR",
         615.0,
         0
        ],
        [
         "2023-03-01",
         "ES",
         "ABC19523",
         "Produto Z",
         "LOJA",
         "PROMOCAO",
         6769.62,
         1
        ],
        [
         "2023-03-01",
         "ES",
         "ABC19523",
         "Produto Z",
         "LOJA",
         "REGULAR",
         1320.0,
         0
        ],
        [
         "2023-03-01",
         "MA",
         "ABC13186",
         "Produto X",
         "LOJA",
         "PROMOCAO",
         3136.83,
         4
        ],
        [
         "2023-03-01",
         "MA",
         "ABC13186",
         "Produto X",
         "LOJA",
         "REGULAR",
         610.0,
         0
        ],
        [
         "2023-03-01",
         "MA",
         "ABC13186",
         "Produto Z",
         "LOJA",
         "PROMOCAO",
         6549.92,
         2
        ],
        [
         "2023-03-01",
         "MA",
         "ABC13186",
         "Produto Z",
         "LOJA",
         "REGULAR",
         1265.0,
         0
        ],
        [
         "2023-03-01",
         "PB",
         "ABC19304",
         "Produto X",
         "LOJA",
         "PROMOCAO",
         3173.66,
         1
        ],
        [
         "2023-03-01",
         "PB",
         "ABC19304",
         "Produto X",
         "LOJA",
         "REGULAR",
         615.0,
         0
        ],
        [
         "2023-03-01",
         "PB",
         "ABC19304",
         "Produto Z",
         "LOJA",
         "PROMOCAO",
         6414.2,
         3
        ],
        [
         "2023-03-01",
         "PB",
         "ABC19304",
         "Produto Z",
         "LOJA",
         "REGULAR",
         1255.0,
         0
        ],
        [
         "2023-03-01",
         "PB",
         "ABC19709",
         "Produto X",
         "LOJA",
         "PROMOCAO",
         3149.01,
         5
        ],
        [
         "2023-03-01",
         "PB",
         "ABC19709",
         "Produto X",
         "LOJA",
         "REGULAR",
         615.0,
         0
        ],
        [
         "2023-03-01",
         "PB",
         "ABC19709",
         "Produto Z",
         "LOJA",
         "PROMOCAO",
         6427.0,
         0
        ],
        [
         "2023-03-01",
         "PB",
         "ABC19709",
         "Produto Z",
         "LOJA",
         "REGULAR",
         1255.0,
         0
        ],
        [
         "2023-03-01",
         "PB",
         "ABC21558",
         "Produto X",
         "SITE",
         "REGULAR",
         4223.7,
         31
        ],
        [
         "2023-03-01",
         "PB",
         "ABC21558",
         "Produto Z",
         "SITE",
         "REGULAR",
         7775.2,
         10
        ],
        [
         "2023-03-01",
         "PE",
         "ABC18465",
         "Produto X",
         "SITE",
         "REGULAR",
         3924.18,
         12
        ],
        [
         "2023-03-01",
         "PE",
         "ABC18465",
         "Produto Z",
         "SITE",
         "REGULAR",
         7855.76,
         8
        ],
        [
         "2023-03-01",
         "PE",
         "ABC18611",
         "Produto X",
         "SITE",
         "REGULAR",
         3789.81,
         5
        ],
        [
         "2023-03-01",
         "PE",
         "ABC18611",
         "Produto Z",
         "SITE",
         "REGULAR",
         7826.84,
         4
        ],
        [
         "2023-03-01",
         "PR",
         "ABC18575",
         "Produto X",
         "LOJA",
         "PROMOCAO",
         3172.0,
         0
        ],
        [
         "2023-03-01",
         "PR",
         "ABC18575",
         "Produto X",
         "LOJA",
         "REGULAR",
         612.9,
         1
        ],
        [
         "2023-03-01",
         "PR",
         "ABC18575",
         "Produto Z",
         "LOJA",
         "PROMOCAO",
         6859.0,
         0
        ],
        [
         "2023-03-01",
         "PR",
         "ABC18575",
         "Produto Z",
         "LOJA",
         "REGULAR",
         1320.0,
         0
        ],
        [
         "2023-03-01",
         "RJ",
         "ABC14683",
         "Produto X",
         "SITE",
         "REGULAR",
         4062.7,
         29
        ],
        [
         "2023-03-01",
         "RJ",
         "ABC14683",
         "Produto Z",
         "SITE",
         "REGULAR",
         8241.8,
         13
        ],
        [
         "2023-03-01",
         "RN",
         "ABC14240",
         "Produto X",
         "SITE",
         "REGULAR",
         4083.5,
         19
        ],
        [
         "2023-03-01",
         "RN",
         "ABC14240",
         "Produto Z",
         "SITE",
         "REGULAR",
         7658.98,
         4
        ],
        [
         "2023-03-01",
         "RN",
         "ABC20423",
         "Produto X",
         "LOJA",
         "PROMOCAO",
         3193.0,
         0
        ],
        [
         "2023-03-01",
         "RN",
         "ABC20423",
         "Produto X",
         "LOJA",
         "REGULAR",
         615.0,
         0
        ],
        [
         "2023-03-01",
         "RN",
         "ABC20423",
         "Produto Z",
         "LOJA",
         "PROMOCAO",
         6396.78,
         2
        ],
        [
         "2023-03-01",
         "RN",
         "ABC20423",
         "Produto Z",
         "LOJA",
         "REGULAR",
         1217.34,
         1
        ],
        [
         "2023-03-01",
         "RN",
         "ABC20424",
         "Produto X",
         "LOJA",
         "PROMOCAO",
         3162.19,
         1
        ],
        [
         "2023-03-01",
         "RN",
         "ABC20424",
         "Produto X",
         "LOJA",
         "REGULAR",
         615.0,
         0
        ],
        [
         "2023-03-01",
         "RN",
         "ABC20424",
         "Produto Z",
         "LOJA",
         "PROMOCAO",
         6356.85,
         2
        ],
        [
         "2023-03-01",
         "RN",
         "ABC20424",
         "Produto Z",
         "LOJA",
         "REGULAR",
         1164.5,
         2
        ],
        [
         "2023-03-01",
         "RN",
         "ABC21349",
         "Produto X",
         "SITE",
         "REGULAR",
         3799.64,
         7
        ],
        [
         "2023-03-01",
         "RN",
         "ABC21349",
         "Produto Z",
         "SITE",
         "REGULAR",
         7705.22,
         5
        ],
        [
         "2023-03-01",
         "RN",
         "ABC21352",
         "Produto X",
         "SITE",
         "REGULAR",
         3790.72,
         3
        ],
        [
         "2023-03-01",
         "RN",
         "ABC21352",
         "Produto Z",
         "SITE",
         "REGULAR",
         7672.92,
         1
        ],
        [
         "2023-03-01",
         "RN",
         "ABC22036",
         "Produto X",
         "LOJA",
         "REGULAR",
         615.0,
         0
        ],
        [
         "2023-03-01",
         "RN",
         "ABC22036",
         "Produto Z",
         "LOJA",
         "REGULAR",
         1265.0,
         0
        ],
        [
         "2023-03-01",
         "RN",
         "ABC5264",
         "Produto X",
         "LOJA",
         "PROMOCAO",
         3165.22,
         2
        ],
        [
         "2023-03-01",
         "RN",
         "ABC5264",
         "Produto X",
         "LOJA",
         "REGULAR",
         615.0,
         0
        ],
        [
         "2023-03-01",
         "RN",
         "ABC5264",
         "Produto Z",
         "LOJA",
         "PROMOCAO",
         6421.41,
         2
        ],
        [
         "2023-03-01",
         "RN",
         "ABC5264",
         "Produto Z",
         "LOJA",
         "REGULAR",
         1215.19,
         1
        ],
        [
         "2023-03-01",
         "RN",
         "ABC7958",
         "Produto X",
         "LOJA",
         "PROMOCAO",
         3180.5,
         4
        ],
        [
         "2023-03-01",
         "RN",
         "ABC7958",
         "Produto X",
         "LOJA",
         "REGULAR",
         615.0,
         0
        ],
        [
         "2023-03-01",
         "RN",
         "ABC7958",
         "Produto Z",
         "LOJA",
         "PROMOCAO",
         6459.9,
         1
        ],
        [
         "2023-03-01",
         "RN",
         "ABC7958",
         "Produto Z",
         "LOJA",
         "REGULAR",
         1265.0,
         0
        ],
        [
         "2023-03-01",
         "RS",
         "ABC14726",
         "Produto X",
         "SITE",
         "REGULAR",
         4329.5,
         30
        ],
        [
         "2023-03-01",
         "RS",
         "ABC14726",
         "Produto Z",
         "SITE",
         "REGULAR",
         8231.3,
         8
        ],
        [
         "2023-03-01",
         "RS",
         "ABC20103",
         "Produto X",
         "SITE",
         "REGULAR",
         3827.1,
         19
        ],
        [
         "2023-03-01",
         "RS",
         "ABC20103",
         "Produto Z",
         "SITE",
         "REGULAR",
         8239.2,
         11
        ],
        [
         "2023-03-01",
         "SC",
         "ABC18757",
         "Produto X",
         "LOJA",
         "PROMOCAO",
         3194.9,
         1
        ],
        [
         "2023-03-01",
         "SC",
         "ABC18757",
         "Produto X",
         "LOJA",
         "REGULAR",
         615.0,
         0
        ],
        [
         "2023-03-01",
         "SC",
         "ABC18757",
         "Produto Z",
         "LOJA",
         "PROMOCAO",
         6890.0,
         0
        ],
        [
         "2023-03-01",
         "SC",
         "ABC18757",
         "Produto Z",
         "LOJA",
         "REGULAR",
         1335.0,
         0
        ],
        [
         "2023-03-01",
         "SE",
         "ABC14286",
         "Produto X",
         "LOJA",
         "PROMOCAO",
         3194.9,
         1
        ],
        [
         "2023-03-01",
         "SE",
         "ABC14286",
         "Produto X",
         "LOJA",
         "REGULAR",
         610.0,
         0
        ],
        [
         "2023-03-01",
         "SE",
         "ABC14286",
         "Produto Z",
         "LOJA",
         "PROMOCAO",
         6539.9,
         1
        ],
        [
         "2023-03-01",
         "SE",
         "ABC14286",
         "Produto Z",
         "LOJA",
         "REGULAR",
         1260.0,
         0
        ],
        [
         "2023-03-01",
         "SE",
         "ABC21279",
         "Produto X",
         "LOJA",
         "REGULAR",
         610.0,
         0
        ],
        [
         "2023-03-01",
         "SE",
         "ABC21279",
         "Produto Z",
         "LOJA",
         "REGULAR",
         1260.0,
         0
        ],
        [
         "2023-03-01",
         "SP",
         "ABC11818",
         "Produto X",
         "LOJA",
         "PROMOCAO",
         3179.6,
         4
        ],
        [
         "2023-03-01",
         "SP",
         "ABC11818",
         "Produto X",
         "LOJA",
         "REGULAR",
         612.9,
         1
        ],
        [
         "2023-03-01",
         "SP",
         "ABC11818",
         "Produto Z",
         "LOJA",
         "PROMOCAO",
         6829.35,
         1
        ],
        [
         "2023-03-01",
         "SP",
         "ABC11818",
         "Produto Z",
         "LOJA",
         "REGULAR",
         1314.06,
         1
        ],
        [
         "2023-03-01",
         "SP",
         "ABC12405",
         "Produto X",
         "LOJA",
         "PROMOCAO",
         3080.68,
         3
        ],
        [
         "2023-03-01",
         "SP",
         "ABC12405",
         "Produto X",
         "LOJA",
         "REGULAR",
         610.0,
         0
        ],
        [
         "2023-03-01",
         "SP",
         "ABC12405",
         "Produto Z",
         "LOJA",
         "PROMOCAO",
         6718.43,
         2
        ],
        [
         "2023-03-01",
         "SP",
         "ABC12405",
         "Produto Z",
         "LOJA",
         "REGULAR",
         1320.0,
         0
        ],
        [
         "2023-03-01",
         "SP",
         "ABC13388",
         "Produto X",
         "LOJA",
         "PROMOCAO",
         3161.3,
         5
        ],
        [
         "2023-03-01",
         "SP",
         "ABC13388",
         "Produto X",
         "LOJA",
         "REGULAR",
         610.0,
         0
        ],
        [
         "2023-03-01",
         "SP",
         "ABC13388",
         "Produto Z",
         "LOJA",
         "PROMOCAO",
         6829.01,
         1
        ],
        [
         "2023-03-01",
         "SP",
         "ABC13388",
         "Produto Z",
         "LOJA",
         "REGULAR",
         1320.0,
         0
        ],
        [
         "2023-03-01",
         "SP",
         "ABC13733",
         "Produto X",
         "LOJA",
         "PROMOCAO",
         3166.23,
         1
        ],
        [
         "2023-03-01",
         "SP",
         "ABC13733",
         "Produto X",
         "LOJA",
         "REGULAR",
         610.0,
         0
        ],
        [
         "2023-03-01",
         "SP",
         "ABC13733",
         "Produto Z",
         "LOJA",
         "PROMOCAO",
         6816.11,
         1
        ],
        [
         "2023-03-01",
         "SP",
         "ABC13733",
         "Produto Z",
         "LOJA",
         "REGULAR",
         1320.0,
         0
        ],
        [
         "2023-03-01",
         "SP",
         "ABC14095",
         "Produto X",
         "LOJA",
         "PROMOCAO",
         3163.07,
         2
        ],
        [
         "2023-03-01",
         "SP",
         "ABC14095",
         "Produto X",
         "LOJA",
         "REGULAR",
         610.0,
         0
        ],
        [
         "2023-03-01",
         "SP",
         "ABC14095",
         "Produto Z",
         "LOJA",
         "PROMOCAO",
         6837.25,
         1
        ],
        [
         "2023-03-01",
         "SP",
         "ABC14095",
         "Produto Z",
         "LOJA",
         "REGULAR",
         1320.0,
         0
        ],
        [
         "2023-03-01",
         "SP",
         "ABC14151",
         "Produto X",
         "LOJA",
         "PROMOCAO",
         3118.45,
         3
        ],
        [
         "2023-03-01",
         "SP",
         "ABC14151",
         "Produto X",
         "LOJA",
         "REGULAR",
         610.0,
         0
        ],
        [
         "2023-03-01",
         "SP",
         "ABC14151",
         "Produto Z",
         "LOJA",
         "PROMOCAO",
         6833.0,
         0
        ],
        [
         "2023-03-01",
         "SP",
         "ABC14151",
         "Produto Z",
         "LOJA",
         "REGULAR",
         1320.0,
         0
        ],
        [
         "2023-03-01",
         "SP",
         "ABC17631",
         "Produto X",
         "SITE",
         "REGULAR",
         4194.3,
         26
        ],
        [
         "2023-03-01",
         "SP",
         "ABC17631",
         "Produto Z",
         "SITE",
         "REGULAR",
         8496.8,
         14
        ],
        [
         "2023-03-01",
         "SP",
         "ABC19104",
         "Produto X",
         "LOJA",
         "PROMOCAO",
         3167.0,
         0
        ],
        [
         "2023-03-01",
         "SP",
         "ABC19104",
         "Produto X",
         "LOJA",
         "REGULAR",
         610.0,
         0
        ],
        [
         "2023-03-01",
         "SP",
         "ABC19104",
         "Produto Z",
         "LOJA",
         "PROMOCAO",
         6801.21,
         1
        ],
        [
         "2023-03-01",
         "SP",
         "ABC19104",
         "Produto Z",
         "LOJA",
         "REGULAR",
         1320.0,
         0
        ],
        [
         "2023-03-01",
         "SP",
         "ABC3503",
         "Produto X",
         "SITE",
         "REGULAR",
         7234.95,
         215
        ],
        [
         "2023-03-01",
         "SP",
         "ABC3503",
         "Produto Z",
         "SITE",
         "REGULAR",
         10949.45,
         69
        ],
        [
         "2023-03-01",
         "SP",
         "ABC7462",
         "Produto X",
         "LOJA",
         "PROMOCAO",
         605.0,
         0
        ],
        [
         "2023-03-01",
         "SP",
         "ABC7462",
         "Produto Z",
         "LOJA",
         "PROMOCAO",
         1310.0,
         0
        ],
        [
         "2023-03-01",
         "SP",
         "ABC7652",
         "Produto X",
         "LOJA",
         "PROMOCAO",
         3162.64,
         2
        ],
        [
         "2023-03-01",
         "SP",
         "ABC7652",
         "Produto X",
         "LOJA",
         "REGULAR",
         610.0,
         0
        ],
        [
         "2023-03-01",
         "SP",
         "ABC7652",
         "Produto Z",
         "LOJA",
         "PROMOCAO",
         6819.28,
         1
        ],
        [
         "2023-03-01",
         "SP",
         "ABC7652",
         "Produto Z",
         "LOJA",
         "REGULAR",
         1320.29,
         1
        ],
        [
         "2023-03-01",
         "SP",
         "ABC8816",
         "Produto X",
         "LOJA",
         "PROMOCAO",
         3168.64,
         3
        ],
        [
         "2023-03-01",
         "SP",
         "ABC8816",
         "Produto X",
         "LOJA",
         "REGULAR",
         610.09,
         1
        ],
        [
         "2023-03-01",
         "SP",
         "ABC8816",
         "Produto Z",
         "LOJA",
         "PROMOCAO",
         6833.0,
         0
        ],
        [
         "2023-03-01",
         "SP",
         "ABC8816",
         "Produto Z",
         "LOJA",
         "REGULAR",
         1325.9,
         1
        ],
        [
         "2023-04-01",
         "BA",
         "ABC20007",
         "Produto X",
         "LOJA",
         "PROMOCAO",
         1665.72,
         1
        ],
        [
         "2023-04-01",
         "BA",
         "ABC20007",
         "Produto X",
         "LOJA",
         "REGULAR",
         1968.0,
         0
        ],
        [
         "2023-04-01",
         "BA",
         "ABC20007",
         "Produto Z",
         "LOJA",
         "REGULAR",
         7604.7,
         3
        ],
        [
         "2023-04-01",
         "BA",
         "ABC21382",
         "Produto X",
         "LOJA",
         "PROMOCAO",
         1666.0,
         0
        ],
        [
         "2023-04-01",
         "BA",
         "ABC21382",
         "Produto X",
         "LOJA",
         "REGULAR",
         1968.0,
         0
        ],
        [
         "2023-04-01",
         "BA",
         "ABC21382",
         "Produto Z",
         "LOJA",
         "REGULAR",
         7491.84,
         2
        ],
        [
         "2023-04-01",
         "BA",
         "ABC5228",
         "Produto X",
         "SITE",
         "REGULAR",
         3649.6,
         9
        ],
        [
         "2023-04-01",
         "BA",
         "ABC5228",
         "Produto Z",
         "SITE",
         "REGULAR",
         7617.6,
         5
        ],
        [
         "2023-04-01",
         "CE",
         "ABC12953",
         "Produto X",
         "SITE",
         "REGULAR",
         1952.0,
         0
        ],
        [
         "2023-04-01",
         "CE",
         "ABC12953",
         "Produto Z",
         "SITE",
         "REGULAR",
         4000.0,
         0
        ],
        [
         "2023-04-01",
         "CE",
         "ABC14661",
         "Produto X",
         "SITE",
         "REGULAR",
         3576.26,
         5
        ],
        [
         "2023-04-01",
         "CE",
         "ABC14661",
         "Produto Z",
         "SITE",
         "REGULAR",
         7513.72,
         3
        ],
        [
         "2023-04-01",
         "CE",
         "ABC19747",
         "Produto X",
         "LOJA",
         "PROMOCAO",
         1606.9,
         1
        ],
        [
         "2023-04-01",
         "CE",
         "ABC19747",
         "Produto X",
         "LOJA",
         "REGULAR",
         1933.36,
         1
        ],
        [
         "2023-04-01",
         "CE",
         "ABC19747",
         "Produto Z",
         "LOJA",
         "REGULAR",
         7448.59,
         2
        ],
        [
         "2023-04-01",
         "CE",
         "ABC19755",
         "Produto X",
         "SITE",
         "REGULAR",
         3597.14,
         26
        ],
        [
         "2023-04-01",
         "CE",
         "ABC19755",
         "Produto Z",
         "SITE",
         "REGULAR",
         7464.44,
         6
        ],
        [
         "2023-04-01",
         "ES",
         "ABC14153",
         "Produto X",
         "SITE",
         "REGULAR",
         3750.2,
         10
        ],
        [
         "2023-04-01",
         "ES",
         "ABC14153",
         "Produto Z",
         "SITE",
         "REGULAR",
         8253.0,
         11
        ],
        [
         "2023-04-01",
         "ES",
         "ABC19523",
         "Produto X",
         "LOJA",
         "PROMOCAO",
         1638.0,
         0
        ],
        [
         "2023-04-01",
         "ES",
         "ABC19523",
         "Produto X",
         "LOJA",
         "REGULAR",
         1968.0,
         0
        ],
        [
         "2023-04-01",
         "ES",
         "ABC19523",
         "Produto Z",
         "LOJA",
         "REGULAR",
         7938.9,
         1
        ],
        [
         "2023-04-01",
         "MA",
         "ABC13186",
         "Produto X",
         "LOJA",
         "PROMOCAO",
         1666.0,
         0
        ],
        [
         "2023-04-01",
         "MA",
         "ABC13186",
         "Produto X",
         "LOJA",
         "REGULAR",
         1952.0,
         0
        ],
        [
         "2023-04-01",
         "MA",
         "ABC13186",
         "Produto Z",
         "LOJA",
         "REGULAR",
         7632.0,
         0
        ],
        [
         "2023-04-01",
         "PB",
         "ABC19304",
         "Produto X",
         "LOJA",
         "PROMOCAO",
         1540.0,
         0
        ],
        [
         "2023-04-01",
         "PB",
         "ABC19304",
         "Produto X",
         "LOJA",
         "REGULAR",
         1963.13,
         1
        ],
        [
         "2023-04-01",
         "PB",
         "ABC19304",
         "Produto Z",
         "LOJA",
         "REGULAR",
         7555.35,
         4
        ],
        [
         "2023-04-01",
         "PB",
         "ABC19709",
         "Produto X",
         "LOJA",
         "PROMOCAO",
         1540.0,
         0
        ],
        [
         "2023-04-01",
         "PB",
         "ABC19709",
         "Produto X",
         "LOJA",
         "REGULAR",
         1969.9,
         1
        ],
        [
         "2023-04-01",
         "PB",
         "ABC19709",
         "Produto Z",
         "LOJA",
         "REGULAR",
         7572.0,
         0
        ],
        [
         "2023-04-01",
         "PB",
         "ABC21558",
         "Produto X",
         "SITE",
         "REGULAR",
         4538.86,
         40
        ],
        [
         "2023-04-01",
         "PB",
         "ABC21558",
         "Produto Z",
         "SITE",
         "REGULAR",
         8366.7,
         40
        ],
        [
         "2023-04-01",
         "PE",
         "ABC18465",
         "Produto X",
         "SITE",
         "REGULAR",
         3528.7,
         4
        ],
        [
         "2023-04-01",
         "PE",
         "ABC18465",
         "Produto Z",
         "SITE",
         "REGULAR",
         7833.12,
         6
        ],
        [
         "2023-04-01",
         "PE",
         "ABC18611",
         "Produto X",
         "SITE",
         "REGULAR",
         3587.4,
         6
        ],
        [
         "2023-04-01",
         "PE",
         "ABC18611",
         "Produto Z",
         "SITE",
         "REGULAR",
         7866.3,
         7
        ],
        [
         "2023-04-01",
         "PR",
         "ABC18575",
         "Produto X",
         "LOJA",
         "PROMOCAO",
         1629.8,
         2
        ],
        [
         "2023-04-01",
         "PR",
         "ABC18575",
         "Produto X",
         "LOJA",
         "REGULAR",
         1949.82,
         2
        ],
        [
         "2023-04-01",
         "PR",
         "ABC18575",
         "Produto Z",
         "LOJA",
         "REGULAR",
         7948.0,
         0
        ],
        [
         "2023-04-01",
         "RJ",
         "ABC14683",
         "Produto X",
         "SITE",
         "REGULAR",
         3642.24,
         20
        ],
        [
         "2023-04-01",
         "RJ",
         "ABC14683",
         "Produto Z",
         "SITE",
         "REGULAR",
         7993.3,
         7
        ],
        [
         "2023-04-01",
         "RN",
         "ABC14240",
         "Produto X",
         "SITE",
         "REGULAR",
         3867.1,
         20
        ],
        [
         "2023-04-01",
         "RN",
         "ABC14240",
         "Produto Z",
         "SITE",
         "REGULAR",
         7485.6,
         5
        ],
        [
         "2023-04-01",
         "RN",
         "ABC20423",
         "Produto X",
         "LOJA",
         "PROMOCAO",
         1512.0,
         0
        ],
        [
         "2023-04-01",
         "RN",
         "ABC20423",
         "Produto X",
         "LOJA",
         "REGULAR",
         1968.0,
         0
        ],
        [
         "2023-04-01",
         "RN",
         "ABC20423",
         "Produto Z",
         "LOJA",
         "REGULAR",
         7347.27,
         4
        ],
        [
         "2023-04-01",
         "RN",
         "ABC20424",
         "Produto X",
         "LOJA",
         "PROMOCAO",
         1512.0,
         0
        ],
        [
         "2023-04-01",
         "RN",
         "ABC20424",
         "Produto X",
         "LOJA",
         "REGULAR",
         1917.42,
         3
        ],
        [
         "2023-04-01",
         "RN",
         "ABC20424",
         "Produto Z",
         "LOJA",
         "REGULAR",
         7341.77,
         3
        ],
        [
         "2023-04-01",
         "RN",
         "ABC21349",
         "Produto X",
         "SITE",
         "REGULAR",
         3515.7,
         4
        ],
        [
         "2023-04-01",
         "RN",
         "ABC21349",
         "Produto Z",
         "SITE",
         "REGULAR",
         7463.74,
         5
        ],
        [
         "2023-04-01",
         "RN",
         "ABC21352",
         "Produto X",
         "SITE",
         "REGULAR",
         3480.0,
         0
        ],
        [
         "2023-04-01",
         "RN",
         "ABC21352",
         "Produto Z",
         "SITE",
         "REGULAR",
         7401.92,
         1
        ],
        [
         "2023-04-01",
         "RN",
         "ABC22036",
         "Produto X",
         "LOJA",
         "PROMOCAO",
         1545.8,
         2
        ],
        [
         "2023-04-01",
         "RN",
         "ABC22036",
         "Produto X",
         "LOJA",
         "REGULAR",
         1968.0,
         0
        ],
        [
         "2023-04-01",
         "RN",
         "ABC22036",
         "Produto Z",
         "LOJA",
         "REGULAR",
         7447.7,
         1
        ],
        [
         "2023-04-01",
         "RN",
         "ABC5264",
         "Produto X",
         "LOJA",
         "PROMOCAO",
         1524.84,
         1
        ],
        [
         "2023-04-01",
         "RN",
         "ABC5264",
         "Produto X",
         "LOJA",
         "REGULAR",
         1966.9,
         2
        ],
        [
         "2023-04-01",
         "RN",
         "ABC5264",
         "Produto Z",
         "LOJA",
         "REGULAR",
         7451.54,
         3
        ],
        [
         "2023-04-01",
         "RN",
         "ABC7958",
         "Produto X",
         "LOJA",
         "PROMOCAO",
         1512.0,
         0
        ],
        [
         "2023-04-01",
         "RN",
         "ABC7958",
         "Produto X",
         "LOJA",
         "REGULAR",
         1968.0,
         0
        ],
        [
         "2023-04-01",
         "RN",
         "ABC7958",
         "Produto Z",
         "LOJA",
         "REGULAR",
         7453.9,
         1
        ],
        [
         "2023-04-01",
         "RS",
         "ABC14726",
         "Produto X",
         "SITE",
         "REGULAR",
         4145.49,
         31
        ],
        [
         "2023-04-01",
         "RS",
         "ABC14726",
         "Produto Z",
         "SITE",
         "REGULAR",
         8554.2,
         18
        ],
        [
         "2023-04-01",
         "RS",
         "ABC20103",
         "Produto X",
         "SITE",
         "REGULAR",
         3650.51,
         12
        ],
        [
         "2023-04-01",
         "RS",
         "ABC20103",
         "Produto Z",
         "SITE",
         "REGULAR",
         8007.6,
         4
        ],
        [
         "2023-04-01",
         "SC",
         "ABC18757",
         "Produto X",
         "LOJA",
         "PROMOCAO",
         1632.9,
         1
        ],
        [
         "2023-04-01",
         "SC",
         "ABC18757",
         "Produto X",
         "LOJA",
         "REGULAR",
         1965.13,
         1
        ],
        [
         "2023-04-01",
         "SC",
         "ABC18757",
         "Produto Z",
         "LOJA",
         "REGULAR",
         8024.0,
         0
        ],
        [
         "2023-04-01",
         "SE",
         "ABC14286",
         "Produto X",
         "LOJA",
         "REGULAR",
         1952.0,
         0
        ],
        [
         "2023-04-01",
         "SE",
         "ABC14286",
         "Produto Z",
         "LOJA",
         "REGULAR",
         4032.0,
         0
        ],
        [
         "2023-04-01",
         "SE",
         "ABC21279",
         "Produto X",
         "LOJA",
         "PROMOCAO",
         1554.0,
         0
        ],
        [
         "2023-04-01",
         "SE",
         "ABC21279",
         "Produto X",
         "LOJA",
         "REGULAR",
         1952.0,
         0
        ],
        [
         "2023-04-01",
         "SE",
         "ABC21279",
         "Produto Z",
         "LOJA",
         "REGULAR",
         7602.0,
         0
        ],
        [
         "2023-04-01",
         "SP",
         "ABC11818",
         "Produto X",
         "LOJA",
         "PROMOCAO",
         1622.95,
         2
        ],
        [
         "2023-04-01",
         "SP",
         "ABC11818",
         "Produto X",
         "LOJA",
         "REGULAR",
         1942.46,
         3
        ],
        [
         "2023-04-01",
         "SP",
         "ABC11818",
         "Produto Z",
         "LOJA",
         "REGULAR",
         7939.9,
         1
        ],
        [
         "2023-04-01",
         "SP",
         "ABC12405",
         "Produto X",
         "LOJA",
         "PROMOCAO",
         1610.0,
         0
        ],
        [
         "2023-04-01",
         "SP",
         "ABC12405",
         "Produto X",
         "LOJA",
         "REGULAR",
         1952.74,
         1
        ],
        [
         "2023-04-01",
         "SP",
         "ABC12405",
         "Produto Z",
         "LOJA",
         "REGULAR",
         7884.72,
         1
        ],
        [
         "2023-04-01",
         "SP",
         "ABC13388",
         "Produto X",
         "LOJA",
         "PROMOCAO",
         1610.0,
         0
        ],
        [
         "2023-04-01",
         "SP",
         "ABC13388",
         "Produto X",
         "LOJA",
         "REGULAR",
         1951.77,
         1
        ],
        [
         "2023-04-01",
         "SP",
         "ABC13388",
         "Produto Z",
         "LOJA",
         "REGULAR",
         7933.17,
         1
        ],
        [
         "2023-04-01",
         "SP",
         "ABC13733",
         "Produto X",
         "LOJA",
         "PROMOCAO",
         1610.0,
         0
        ],
        [
         "2023-04-01",
         "SP",
         "ABC13733",
         "Produto X",
         "LOJA",
         "REGULAR",
         1920.83,
         1
        ],
        [
         "2023-04-01",
         "SP",
         "ABC13733",
         "Produto Z",
         "LOJA",
         "REGULAR",
         7880.95,
         1
        ],
        [
         "2023-04-01",
         "SP",
         "ABC14095",
         "Produto X",
         "LOJA",
         "PROMOCAO",
         1610.0,
         0
        ],
        [
         "2023-04-01",
         "SP",
         "ABC14095",
         "Produto X",
         "LOJA",
         "REGULAR",
         1957.8,
         2
        ],
        [
         "2023-04-01",
         "SP",
         "ABC14095",
         "Produto Z",
         "LOJA",
         "REGULAR",
         7934.0,
         0
        ],
        [
         "2023-04-01",
         "SP",
         "ABC14151",
         "Produto X",
         "LOJA",
         "PROMOCAO",
         1610.0,
         0
        ],
        [
         "2023-04-01",
         "SP",
         "ABC14151",
         "Produto X",
         "LOJA",
         "REGULAR",
         1817.9,
         1
        ],
        [
         "2023-04-01",
         "SP",
         "ABC14151",
         "Produto Z",
         "LOJA",
         "REGULAR",
         7835.27,
         2
        ],
        [
         "2023-04-01",
         "SP",
         "ABC17631",
         "Produto X",
         "SITE",
         "REGULAR",
         3705.5,
         10
        ],
        [
         "2023-04-01",
         "SP",
         "ABC17631",
         "Produto Z",
         "SITE",
         "REGULAR",
         8490.56,
         14
        ],
        [
         "2023-04-01",
         "SP",
         "ABC19104",
         "Produto X",
         "LOJA",
         "PROMOCAO",
         1616.03,
         2
        ],
        [
         "2023-04-01",
         "SP",
         "ABC19104",
         "Produto X",
         "LOJA",
         "REGULAR",
         1944.31,
         1
        ],
        [
         "2023-04-01",
         "SP",
         "ABC19104",
         "Produto Z",
         "LOJA",
         "REGULAR",
         7934.0,
         0
        ],
        [
         "2023-04-01",
         "SP",
         "ABC3503",
         "Produto X",
         "SITE",
         "REGULAR",
         5757.01,
         175
        ],
        [
         "2023-04-01",
         "SP",
         "ABC3503",
         "Produto Z",
         "SITE",
         "REGULAR",
         9874.29,
         58
        ],
        [
         "2023-04-01",
         "SP",
         "ABC7652",
         "Produto X",
         "LOJA",
         "PROMOCAO",
         1615.31,
         1
        ],
        [
         "2023-04-01",
         "SP",
         "ABC7652",
         "Produto X",
         "LOJA",
         "REGULAR",
         1925.05,
         2
        ],
        [
         "2023-04-01",
         "SP",
         "ABC7652",
         "Produto Z",
         "LOJA",
         "REGULAR",
         7934.0,
         0
        ],
        [
         "2023-04-01",
         "SP",
         "ABC8816",
         "Produto X",
         "LOJA",
         "PROMOCAO",
         1610.0,
         0
        ],
        [
         "2023-04-01",
         "SP",
         "ABC8816",
         "Produto X",
         "LOJA",
         "REGULAR",
         1957.8,
         2
        ],
        [
         "2023-04-01",
         "SP",
         "ABC8816",
         "Produto Z",
         "LOJA",
         "REGULAR",
         7950.7,
         3
        ],
        [
         "2023-05-01",
         "BA",
         "ABC20007",
         "Produto X",
         "LOJA",
         "PROMOCAO",
         3703.43,
         4
        ],
        [
         "2023-05-01",
         "BA",
         "ABC20007",
         "Produto Z",
         "LOJA",
         "PROMOCAO",
         3534.62,
         1
        ],
        [
         "2023-05-01",
         "BA",
         "ABC20007",
         "Produto Z",
         "LOJA",
         "REGULAR",
         4336.71,
         7
        ],
        [
         "2023-05-01",
         "BA",
         "ABC21382",
         "Produto X",
         "LOJA",
         "PROMOCAO",
         1671.9,
         1
        ],
        [
         "2023-05-01",
         "BA",
         "ABC21382",
         "Produto Z",
         "LOJA",
         "REGULAR",
         3570.0,
         0
        ],
        [
         "2023-05-01",
         "BA",
         "ABC5228",
         "Produto X",
         "SITE",
         "PROMOCAO",
         321.0,
         0
        ],
        [
         "2023-05-01",
         "BA",
         "ABC5228",
         "Produto X",
         "SITE",
         "REGULAR",
         3403.4,
         7
        ],
        [
         "2023-05-01",
         "BA",
         "ABC5228",
         "Produto Z",
         "SITE",
         "REGULAR",
         7927.5,
         8
        ],
        [
         "2023-05-01",
         "CE",
         "ABC14661",
         "Produto X",
         "SITE",
         "PROMOCAO",
         524.69,
         10
        ],
        [
         "2023-05-01",
         "CE",
         "ABC14661",
         "Produto X",
         "SITE",
         "REGULAR",
         3450.7,
         3
        ],
        [
         "2023-05-01",
         "CE",
         "ABC14661",
         "Produto Z",
         "SITE",
         "REGULAR",
         7701.62,
         4
        ],
        [
         "2023-05-01",
         "CE",
         "ABC19747",
         "Produto X",
         "LOJA",
         "PROMOCAO",
         3624.83,
         7
        ],
        [
         "2023-05-01",
         "CE",
         "ABC19747",
         "Produto Z",
         "LOJA",
         "PROMOCAO",
         3548.9,
         1
        ],
        [
         "2023-05-01",
         "CE",
         "ABC19747",
         "Produto Z",
         "LOJA",
         "REGULAR",
         4307.9,
         1
        ],
        [
         "2023-05-01",
         "CE",
         "ABC19755",
         "Produto X",
         "SITE",
         "PROMOCAO",
         329.7,
         9
        ],
        [
         "2023-05-01",
         "CE",
         "ABC19755",
         "Produto X",
         "SITE",
         "REGULAR",
         4198.47,
         30
        ],
        [
         "2023-05-01",
         "CE",
         "ABC19755",
         "Produto Z",
         "SITE",
         "REGULAR",
         8146.81,
         10
        ],
        [
         "2023-05-01",
         "ES",
         "ABC14153",
         "Produto X",
         "SITE",
         "PROMOCAO",
         549.5,
         23
        ],
        [
         "2023-05-01",
         "ES",
         "ABC14153",
         "Produto X",
         "SITE",
         "REGULAR",
         3782.6,
         24
        ],
        [
         "2023-05-01",
         "ES",
         "ABC14153",
         "Produto Z",
         "SITE",
         "REGULAR",
         8129.15,
         13
        ],
        [
         "2023-05-01",
         "ES",
         "ABC19523",
         "Produto X",
         "LOJA",
         "PROMOCAO",
         3664.0,
         0
        ],
        [
         "2023-05-01",
         "ES",
         "ABC19523",
         "Produto Z",
         "LOJA",
         "PROMOCAO",
         3682.0,
         0
        ],
        [
         "2023-05-01",
         "ES",
         "ABC19523",
         "Produto Z",
         "LOJA",
         "REGULAR",
         4484.71,
         2
        ],
        [
         "2023-05-01",
         "MA",
         "ABC13186",
         "Produto X",
         "LOJA",
         "PROMOCAO",
         3694.13,
         3
        ],
        [
         "2023-05-01",
         "MA",
         "ABC13186",
         "Produto Z",
         "LOJA",
         "PROMOCAO",
         3551.16,
         1
        ],
        [
         "2023-05-01",
         "MA",
         "ABC13186",
         "Produto Z",
         "LOJA",
         "REGULAR",
         4346.0,
         0
        ],
        [
         "2023-05-01",
         "PB",
         "ABC19304",
         "Produto X",
         "LOJA",
         "PROMOCAO",
         3606.6,
         4
        ],
        [
         "2023-05-01",
         "PB",
         "ABC19304",
         "Produto Z",
         "LOJA",
         "PROMOCAO",
         3429.79,
         2
        ],
        [
         "2023-05-01",
         "PB",
         "ABC19304",
         "Produto Z",
         "LOJA",
         "REGULAR",
         4323.9,
         2
        ],
        [
         "2023-05-01",
         "PB",
         "ABC19709",
         "Produto X",
         "LOJA",
         "PROMOCAO",
         3262.9,
         1
        ],
        [
         "2023-05-01",
         "PB",
         "ABC19709",
         "Produto Z",
         "LOJA",
         "PROMOCAO",
         3570.0,
         0
        ],
        [
         "2023-05-01",
         "PB",
         "ABC19709",
         "Produto Z",
         "LOJA",
         "REGULAR",
         3528.54,
         1
        ],
        [
         "2023-05-01",
         "PB",
         "ABC21558",
         "Produto X",
         "SITE",
         "PROMOCAO",
         549.5,
         12
        ],
        [
         "2023-05-01",
         "PB",
         "ABC21558",
         "Produto X",
         "SITE",
         "REGULAR",
         3652.58,
         42
        ],
        [
         "2023-05-01",
         "PB",
         "ABC21558",
         "Produto Z",
         "SITE",
         "REGULAR",
         8224.5,
         21
        ],
        [
         "2023-05-01",
         "PE",
         "ABC18465",
         "Produto X",
         "SITE",
         "PROMOCAO",
         219.8,
         2
        ],
        [
         "2023-05-01",
         "PE",
         "ABC18465",
         "Produto X",
         "SITE",
         "REGULAR",
         3420.6,
         11
        ],
        [
         "2023-05-01",
         "PE",
         "ABC18465",
         "Produto Z",
         "SITE",
         "REGULAR",
         7869.8,
         2
        ],
        [
         "2023-05-01",
         "PE",
         "ABC18611",
         "Produto X",
         "SITE",
         "PROMOCAO",
         216.9,
         1
        ],
        [
         "2023-05-01",
         "PE",
         "ABC18611",
         "Produto X",
         "SITE",
         "REGULAR",
         3560.22,
         8
        ],
        [
         "2023-05-01",
         "PE",
         "ABC18611",
         "Produto Z",
         "SITE",
         "REGULAR",
         7905.2,
         9
        ],
        [
         "2023-05-01",
         "PR",
         "ABC18575",
         "Produto X",
         "LOJA",
         "PROMOCAO",
         3649.8,
         2
        ],
        [
         "2023-05-01",
         "PR",
         "ABC18575",
         "Produto Z",
         "LOJA",
         "PROMOCAO",
         3718.62,
         1
        ],
        [
         "2023-05-01",
         "PR",
         "ABC18575",
         "Produto Z",
         "LOJA",
         "REGULAR",
         4522.9,
         1
        ],
        [
         "2023-05-01",
         "RJ",
         "ABC14683",
         "Produto X",
         "SITE",
         "PROMOCAO",
         215.9,
         3
        ],
        [
         "2023-05-01",
         "RJ",
         "ABC14683",
         "Produto X",
         "SITE",
         "REGULAR",
         3540.3,
         11
        ],
        [
         "2023-05-01",
         "RJ",
         "ABC14683",
         "Produto Z",
         "SITE",
         "REGULAR",
         8527.3,
         9
        ],
        [
         "2023-05-01",
         "RN",
         "ABC14240",
         "Produto X",
         "SITE",
         "PROMOCAO",
         437.7,
         24
        ],
        [
         "2023-05-01",
         "RN",
         "ABC14240",
         "Produto X",
         "SITE",
         "REGULAR",
         3861.4,
         59
        ],
        [
         "2023-05-01",
         "RN",
         "ABC14240",
         "Produto Z",
         "SITE",
         "REGULAR",
         7412.9,
         1
        ],
        [
         "2023-05-01",
         "RN",
         "ABC20423",
         "Produto X",
         "LOJA",
         "PROMOCAO",
         3558.0,
         0
        ],
        [
         "2023-05-01",
         "RN",
         "ABC20423",
         "Produto Z",
         "LOJA",
         "PROMOCAO",
         3276.0,
         0
        ],
        [
         "2023-05-01",
         "RN",
         "ABC20423",
         "Produto Z",
         "LOJA",
         "REGULAR",
         4128.72,
         2
        ],
        [
         "2023-05-01",
         "RN",
         "ABC20424",
         "Produto X",
         "LOJA",
         "PROMOCAO",
         3515.59,
         4
        ],
        [
         "2023-05-01",
         "RN",
         "ABC20424",
         "Produto Z",
         "LOJA",
         "PROMOCAO",
         3288.15,
         1
        ],
        [
         "2023-05-01",
         "RN",
         "ABC20424",
         "Produto Z",
         "LOJA",
         "REGULAR",
         4017.12,
         7
        ],
        [
         "2023-05-01",
         "RN",
         "ABC21349",
         "Produto X",
         "SITE",
         "PROMOCAO",
         325.9,
         1
        ],
        [
         "2023-05-01",
         "RN",
         "ABC21349",
         "Produto X",
         "SITE",
         "REGULAR",
         3532.48,
         14
        ],
        [
         "2023-05-01",
         "RN",
         "ABC21349",
         "Produto Z",
         "SITE",
         "REGULAR",
         7519.73,
         10
        ],
        [
         "2023-05-01",
         "RN",
         "ABC21352",
         "Produto X",
         "LOJA",
         "PROMOCAO",
         1722.0,
         0
        ],
        [
         "2023-05-01",
         "RN",
         "ABC21352",
         "Produto X",
         "SITE",
         "REGULAR",
         1512.0,
         0
        ],
        [
         "2023-05-01",
         "RN",
         "ABC21352",
         "Produto Z",
         "LOJA",
         "PROMOCAO",
         3276.0,
         0
        ],
        [
         "2023-05-01",
         "RN",
         "ABC21352",
         "Produto Z",
         "SITE",
         "REGULAR",
         3385.09,
         2
        ],
        [
         "2023-05-01",
         "RN",
         "ABC22036",
         "Produto X",
         "LOJA",
         "PROMOCAO",
         3608.7,
         3
        ],
        [
         "2023-05-01",
         "RN",
         "ABC22036",
         "Produto Z",
         "LOJA",
         "PROMOCAO",
         3301.9,
         1
        ],
        [
         "2023-05-01",
         "RN",
         "ABC22036",
         "Produto Z",
         "LOJA",
         "REGULAR",
         4123.9,
         1
        ],
        [
         "2023-05-01",
         "RN",
         "ABC5264",
         "Produto X",
         "LOJA",
         "PROMOCAO",
         3623.21,
         13
        ],
        [
         "2023-05-01",
         "RN",
         "ABC5264",
         "Produto Z",
         "LOJA",
         "PROMOCAO",
         3276.0,
         0
        ],
        [
         "2023-05-01",
         "RN",
         "ABC5264",
         "Produto Z",
         "LOJA",
         "REGULAR",
         4143.71,
         3
        ],
        [
         "2023-05-01",
         "RN",
         "ABC7958",
         "Produto X",
         "LOJA",
         "PROMOCAO",
         3560.3,
         1
        ],
        [
         "2023-05-01",
         "RN",
         "ABC7958",
         "Produto Z",
         "LOJA",
         "PROMOCAO",
         3301.9,
         1
        ],
        [
         "2023-05-01",
         "RN",
         "ABC7958",
         "Produto Z",
         "LOJA",
         "REGULAR",
         4111.0,
         0
        ],
        [
         "2023-05-01",
         "RS",
         "ABC14726",
         "Produto X",
         "SITE",
         "PROMOCAO",
         109.9,
         1
        ],
        [
         "2023-05-01",
         "RS",
         "ABC14726",
         "Produto X",
         "SITE",
         "REGULAR",
         4182.3,
         57
        ],
        [
         "2023-05-01",
         "RS",
         "ABC14726",
         "Produto Z",
         "SITE",
         "REGULAR",
         8561.9,
         18
        ],
        [
         "2023-05-01",
         "RS",
         "ABC20103",
         "Produto X",
         "SITE",
         "PROMOCAO",
         422.65,
         10
        ],
        [
         "2023-05-01",
         "RS",
         "ABC20103",
         "Produto X",
         "SITE",
         "REGULAR",
         3422.21,
         17
        ],
        [
         "2023-05-01",
         "RS",
         "ABC20103",
         "Produto Z",
         "SITE",
         "REGULAR",
         8272.5,
         7
        ],
        [
         "2023-05-01",
         "SC",
         "ABC18757",
         "Produto X",
         "LOJA",
         "PROMOCAO",
         3685.6,
         7
        ],
        [
         "2023-05-01",
         "SC",
         "ABC18757",
         "Produto Z",
         "LOJA",
         "PROMOCAO",
         3724.0,
         0
        ],
        [
         "2023-05-01",
         "SC",
         "ABC18757",
         "Produto Z",
         "LOJA",
         "REGULAR",
         4547.0,
         0
        ],
        [
         "2023-05-01",
         "SE",
         "ABC21279",
         "Produto X",
         "LOJA",
         "PROMOCAO",
         1554.0,
         0
        ],
        [
         "2023-05-01",
         "SE",
         "ABC21279",
         "Produto Z",
         "LOJA",
         "REGULAR",
         3570.0,
         0
        ],
        [
         "2023-05-01",
         "SP",
         "ABC11818",
         "Produto X",
         "LOJA",
         "PROMOCAO",
         3628.27,
         6
        ],
        [
         "2023-05-01",
         "SP",
         "ABC11818",
         "Produto Z",
         "LOJA",
         "PROMOCAO",
         3696.0,
         0
        ],
        [
         "2023-05-01",
         "SP",
         "ABC11818",
         "Produto Z",
         "LOJA",
         "REGULAR",
         4499.0,
         0
        ],
        [
         "2023-05-01",
         "SP",
         "ABC12405",
         "Produto X",
         "LOJA",
         "PROMOCAO",
         3478.43,
         3
        ],
        [
         "2023-05-01",
         "SP",
         "ABC12405",
         "Produto Z",
         "LOJA",
         "PROMOCAO",
         3696.0,
         0
        ],
        [
         "2023-05-01",
         "SP",
         "ABC12405",
         "Produto Z",
         "LOJA",
         "REGULAR",
         4469.38,
         1
        ],
        [
         "2023-05-01",
         "SP",
         "ABC13388",
         "Produto X",
         "LOJA",
         "PROMOCAO",
         3625.8,
         4
        ],
        [
         "2023-05-01",
         "SP",
         "ABC13388",
         "Produto Z",
         "LOJA",
         "PROMOCAO",
         3696.0,
         0
        ],
        [
         "2023-05-01",
         "SP",
         "ABC13388",
         "Produto Z",
         "LOJA",
         "REGULAR",
         4513.7,
         3
        ],
        [
         "2023-05-01",
         "SP",
         "ABC13733",
         "Produto X",
         "LOJA",
         "PROMOCAO",
         3614.5,
         1
        ],
        [
         "2023-05-01",
         "SP",
         "ABC13733",
         "Produto Z",
         "LOJA",
         "PROMOCAO",
         3696.0,
         0
        ],
        [
         "2023-05-01",
         "SP",
         "ABC13733",
         "Produto Z",
         "LOJA",
         "REGULAR",
         4424.99,
         2
        ],
        [
         "2023-05-01",
         "SP",
         "ABC14095",
         "Produto X",
         "LOJA",
         "PROMOCAO",
         1610.0,
         0
        ],
        [
         "2023-05-01",
         "SP",
         "ABC14095",
         "Produto Z",
         "LOJA",
         "REGULAR",
         3710.0,
         0
        ],
        [
         "2023-05-01",
         "SP",
         "ABC14151",
         "Produto X",
         "LOJA",
         "PROMOCAO",
         3628.86,
         5
        ],
        [
         "2023-05-01",
         "SP",
         "ABC14151",
         "Produto Z",
         "LOJA",
         "PROMOCAO",
         3660.24,
         1
        ],
        [
         "2023-05-01",
         "SP",
         "ABC14151",
         "Produto Z",
         "LOJA",
         "REGULAR",
         4409.49,
         4
        ],
        [
         "2023-05-01",
         "SP",
         "ABC17631",
         "Produto X",
         "SITE",
         "REGULAR",
         1610.0,
         0
        ],
        [
         "2023-05-01",
         "SP",
         "ABC17631",
         "Produto Z",
         "SITE",
         "REGULAR",
         3710.0,
         0
        ],
        [
         "2023-05-01",
         "SP",
         "ABC19104",
         "Produto X",
         "LOJA",
         "PROMOCAO",
         3624.61,
         4
        ],
        [
         "2023-05-01",
         "SP",
         "ABC19104",
         "Produto Z",
         "LOJA",
         "PROMOCAO",
         3696.0,
         0
        ],
        [
         "2023-05-01",
         "SP",
         "ABC19104",
         "Produto Z",
         "LOJA",
         "REGULAR",
         4503.9,
         1
        ],
        [
         "2023-05-01",
         "SP",
         "ABC3503",
         "Produto X",
         "SITE",
         "PROMOCAO",
         422.65,
         18
        ],
        [
         "2023-05-01",
         "SP",
         "ABC3503",
         "Produto X",
         "SITE",
         "REGULAR",
         7148.98,
         230
        ],
        [
         "2023-05-01",
         "SP",
         "ABC3503",
         "Produto Z",
         "SITE",
         "REGULAR",
         12338.31,
         87
        ],
        [
         "2023-05-01",
         "SP",
         "ABC7652",
         "Produto X",
         "LOJA",
         "PROMOCAO",
         3652.8,
         3
        ],
        [
         "2023-05-01",
         "SP",
         "ABC7652",
         "Produto Z",
         "LOJA",
         "PROMOCAO",
         3650.44,
         2
        ],
        [
         "2023-05-01",
         "SP",
         "ABC7652",
         "Produto Z",
         "LOJA",
         "REGULAR",
         4497.4,
         5
        ],
        [
         "2023-05-01",
         "SP",
         "ABC8816",
         "Produto X",
         "LOJA",
         "PROMOCAO",
         3633.0,
         0
        ],
        [
         "2023-05-01",
         "SP",
         "ABC8816",
         "Produto Z",
         "LOJA",
         "PROMOCAO",
         3696.0,
         0
        ],
        [
         "2023-05-01",
         "SP",
         "ABC8816",
         "Produto Z",
         "LOJA",
         "REGULAR",
         4499.0,
         0
        ],
        [
         "2023-06-01",
         "BA",
         "ABC20007",
         "Produto X",
         "LOJA",
         "PROMOCAO",
         3362.0,
         7
        ],
        [
         "2023-06-01",
         "BA",
         "ABC20007",
         "Produto Z",
         "LOJA",
         "PROMOCAO",
         4538.99,
         1
        ],
        [
         "2023-06-01",
         "BA",
         "ABC20007",
         "Produto Z",
         "LOJA",
         "REGULAR",
         3052.9,
         6
        ],
        [
         "2023-06-01",
         "BA",
         "ABC5228",
         "Produto X",
         "SITE",
         "PROMOCAO",
         1405.5,
         23
        ],
        [
         "2023-06-01",
         "BA",
         "ABC5228",
         "Produto X",
         "SITE",
         "REGULAR",
         2185.96,
         3
        ],
        [
         "2023-06-01",
         "BA",
         "ABC5228",
         "Produto Z",
         "SITE",
         "REGULAR",
         7785.91,
         4
        ],
        [
         "2023-06-01",
         "CE",
         "ABC14661",
         "Produto X",
         "LOJA",
         "PROMOCAO",
         2140.2,
         2
        ],
        [
         "2023-06-01",
         "CE",
         "ABC14661",
         "Produto X",
         "SITE",
         "PROMOCAO",
         1299.8,
         2
        ],
        [
         "2023-06-01",
         "CE",
         "ABC14661",
         "Produto Z",
         "LOJA",
         "PROMOCAO",
         4469.76,
         2
        ],
        [
         "2023-06-01",
         "CE",
         "ABC14661",
         "Produto Z",
         "SITE",
         "REGULAR",
         3019.8,
         2
        ],
        [
         "2023-06-01",
         "CE",
         "ABC19747",
         "Produto X",
         "LOJA",
         "PROMOCAO",
         3422.09,
         5
        ],
        [
         "2023-06-01",
         "CE",
         "ABC19747",
         "Produto Z",
         "LOJA",
         "PROMOCAO",
         4449.49,
         2
        ],
        [
         "2023-06-01",
         "CE",
         "ABC19747",
         "Produto Z",
         "LOJA",
         "REGULAR",
         3036.0,
         0
        ],
        [
         "2023-06-01",
         "CE",
         "ABC19755",
         "Produto X",
         "SITE",
         "PROMOCAO",
         1754.6,
         34
        ],
        [
         "2023-06-01",
         "CE",
         "ABC19755",
         "Produto X",
         "SITE",
         "REGULAR",
         1936.0,
         0
        ],
        [
         "2023-06-01",
         "CE",
         "ABC19755",
         "Produto Z",
         "SITE",
         "REGULAR",
         7341.81,
         15
        ],
        [
         "2023-06-01",
         "ES",
         "ABC14153",
         "Produto X",
         "SITE",
         "PROMOCAO",
         1519.1,
         32
        ],
        [
         "2023-06-01",
         "ES",
         "ABC14153",
         "Produto X",
         "SITE",
         "REGULAR",
         2091.0,
         0
        ],
        [
         "2023-06-01",
         "ES",
         "ABC14153",
         "Produto Z",
         "SITE",
         "REGULAR",
         7891.6,
         4
        ],
        [
         "2023-06-01",
         "ES",
         "ABC19523",
         "Produto X",
         "LOJA",
         "PROMOCAO",
         1272.0,
         0
        ],
        [
         "2023-06-01",
         "ES",
         "ABC19523",
         "Produto Z",
         "LOJA",
         "REGULAR",
         3144.0,
         0
        ],
        [
         "2023-06-01",
         "MA",
         "ABC13186",
         "Produto X",
         "LOJA",
         "PROMOCAO",
         3435.79,
         6
        ],
        [
         "2023-06-01",
         "MA",
         "ABC13186",
         "Produto Z",
         "LOJA",
         "PROMOCAO",
         4572.0,
         0
        ],
        [
         "2023-06-01",
         "MA",
         "ABC13186",
         "Produto Z",
         "LOJA",
         "REGULAR",
         3040.12,
         1
        ],
        [
         "2023-06-01",
         "PB",
         "ABC19304",
         "Produto X",
         "LOJA",
         "PROMOCAO",
         3467.88,
         4
        ],
        [
         "2023-06-01",
         "PB",
         "ABC19304",
         "Produto Z",
         "LOJA",
         "PROMOCAO",
         4410.0,
         0
        ],
        [
         "2023-06-01",
         "PB",
         "ABC19304",
         "Produto Z",
         "LOJA",
         "REGULAR",
         3015.9,
         3
        ],
        [
         "2023-06-01",
         "PB",
         "ABC21558",
         "Produto X",
         "SITE",
         "PROMOCAO",
         2302.2,
         107
        ],
        [
         "2023-06-01",
         "PB",
         "ABC21558",
         "Produto X",
         "SITE",
         "REGULAR",
         2318.8,
         28
        ],
        [
         "2023-06-01",
         "PB",
         "ABC21558",
         "Produto Z",
         "SITE",
         "REGULAR",
         7854.8,
         16
        ],
        [
         "2023-06-01",
         "PB",
         "ABC22248",
         "Produto X",
         "LOJA",
         "PROMOCAO",
         2186.64,
         5
        ],
        [
         "2023-06-01",
         "PB",
         "ABC22248",
         "Produto Z",
         "LOJA",
         "PROMOCAO",
         4141.53,
         8
        ],
        [
         "2023-06-01",
         "PE",
         "ABC18465",
         "Produto X",
         "SITE",
         "PROMOCAO",
         1959.82,
         44
        ],
        [
         "2023-06-01",
         "PE",
         "ABC18465",
         "Produto X",
         "SITE",
         "REGULAR",
         2210.01,
         2
        ],
        [
         "2023-06-01",
         "PE",
         "ABC18465",
         "Produto Z",
         "SITE",
         "REGULAR",
         8156.9,
         16
        ],
        [
         "2023-06-01",
         "PE",
         "ABC18611",
         "Produto X",
         "SITE",
         "PROMOCAO",
         1399.7,
         5
        ],
        [
         "2023-06-01",
         "PE",
         "ABC18611",
         "Produto X",
         "SITE",
         "REGULAR",
         1973.7,
         3
        ],
        [
         "2023-06-01",
         "PE",
         "ABC18611",
         "Produto Z",
         "SITE",
         "REGULAR",
         7573.81,
         11
        ],
        [
         "2023-06-01",
         "PR",
         "ABC18575",
         "Produto X",
         "LOJA",
         "PROMOCAO",
         3452.8,
         2
        ],
        [
         "2023-06-01",
         "PR",
         "ABC18575",
         "Produto Z",
         "LOJA",
         "PROMOCAO",
         4770.0,
         0
        ],
        [
         "2023-06-01",
         "PR",
         "ABC18575",
         "Produto Z",
         "LOJA",
         "REGULAR",
         3180.0,
         0
        ],
        [
         "2023-06-01",
         "RJ",
         "ABC14683",
         "Produto X",
         "SITE",
         "PROMOCAO",
         1837.1,
         18
        ],
        [
         "2023-06-01",
         "RJ",
         "ABC14683",
         "Produto X",
         "SITE",
         "REGULAR",
         2079.8,
         2
        ],
        [
         "2023-06-01",
         "RJ",
         "ABC14683",
         "Produto Z",
         "SITE",
         "REGULAR",
         7977.0,
         14
        ],
        [
         "2023-06-01",
         "RN",
         "ABC14240",
         "Produto X",
         "SITE",
         "PROMOCAO",
         2075.94,
         49
        ],
        [
         "2023-06-01",
         "RN",
         "ABC14240",
         "Produto X",
         "SITE",
         "REGULAR",
         2337.82,
         13
        ],
        [
         "2023-06-01",
         "RN",
         "ABC14240",
         "Produto Z",
         "SITE",
         "REGULAR",
         7181.15,
         7
        ],
        [
         "2023-06-01",
         "RN",
         "ABC20423",
         "Produto X",
         "LOJA",
         "PROMOCAO",
         3462.92,
         4
        ],
        [
         "2023-06-01",
         "RN",
         "ABC20423",
         "Produto Z",
         "LOJA",
         "PROMOCAO",
         4216.84,
         3
        ],
        [
         "2023-06-01",
         "RN",
         "ABC20423",
         "Produto Z",
         "LOJA",
         "REGULAR",
         2897.49,
         2
        ],
        [
         "2023-06-01",
         "RN",
         "ABC20424",
         "Produto X",
         "LOJA",
         "PROMOCAO",
         3467.75,
         1
        ],
        [
         "2023-06-01",
         "RN",
         "ABC20424",
         "Produto Z",
         "LOJA",
         "PROMOCAO",
         4158.0,
         0
        ],
        [
         "2023-06-01",
         "RN",
         "ABC20424",
         "Produto Z",
         "LOJA",
         "REGULAR",
         2846.9,
         4
        ],
        [
         "2023-06-01",
         "RN",
         "ABC21349",
         "Produto X",
         "SITE",
         "PROMOCAO",
         1926.04,
         20
        ],
        [
         "2023-06-01",
         "RN",
         "ABC21349",
         "Produto X",
         "SITE",
         "REGULAR",
         1971.8,
         2
        ],
        [
         "2023-06-01",
         "RN",
         "ABC21349",
         "Produto Z",
         "SITE",
         "REGULAR",
         7183.29,
         7
        ],
        [
         "2023-06-01",
         "RN",
         "ABC22036",
         "Produto X",
         "LOJA",
         "PROMOCAO",
         3477.68,
         3
        ],
        [
         "2023-06-01",
         "RN",
         "ABC22036",
         "Produto Z",
         "LOJA",
         "PROMOCAO",
         4186.9,
         1
        ],
        [
         "2023-06-01",
         "RN",
         "ABC22036",
         "Produto Z",
         "LOJA",
         "REGULAR",
         2892.0,
         0
        ],
        [
         "2023-06-01",
         "RN",
         "ABC5264",
         "Produto X",
         "LOJA",
         "PROMOCAO",
         3407.7,
         5
        ],
        [
         "2023-06-01",
         "RN",
         "ABC5264",
         "Produto Z",
         "LOJA",
         "PROMOCAO",
         4183.4,
         1
        ],
        [
         "2023-06-01",
         "RN",
         "ABC5264",
         "Produto Z",
         "LOJA",
         "REGULAR",
         2892.0,
         0
        ],
        [
         "2023-06-01",
         "RN",
         "ABC7958",
         "Produto X",
         "LOJA",
         "PROMOCAO",
         3509.6,
         2
        ],
        [
         "2023-06-01",
         "RN",
         "ABC7958",
         "Produto Z",
         "LOJA",
         "PROMOCAO",
         4186.9,
         1
        ],
        [
         "2023-06-01",
         "RN",
         "ABC7958",
         "Produto Z",
         "LOJA",
         "REGULAR",
         2903.0,
         1
        ],
        [
         "2023-06-01",
         "RS",
         "ABC14726",
         "Produto X",
         "SITE",
         "PROMOCAO",
         1612.17,
         34
        ],
        [
         "2023-06-01",
         "RS",
         "ABC14726",
         "Produto X",
         "SITE",
         "REGULAR",
         2223.5,
         16
        ],
        [
         "2023-06-01",
         "RS",
         "ABC14726",
         "Produto Z",
         "SITE",
         "REGULAR",
         9033.0,
         24
        ],
        [
         "2023-06-01",
         "RS",
         "ABC20103",
         "Produto X",
         "SITE",
         "PROMOCAO",
         863.6,
         48
        ],
        [
         "2023-06-01",
         "RS",
         "ABC20103",
         "Produto X",
         "SITE",
         "REGULAR",
         2233.0,
         21
        ],
        [
         "2023-06-01",
         "RS",
         "ABC20103",
         "Produto Z",
         "SITE",
         "REGULAR",
         7973.0,
         16
        ],
        [
         "2023-06-01",
         "SC",
         "ABC18757",
         "Produto X",
         "LOJA",
         "PROMOCAO",
         3465.3,
         12
        ],
        [
         "2023-06-01",
         "SC",
         "ABC18757",
         "Produto Z",
         "LOJA",
         "PROMOCAO",
         4806.0,
         0
        ],
        [
         "2023-06-01",
         "SC",
         "ABC18757",
         "Produto Z",
         "LOJA",
         "REGULAR",
         3180.0,
         0
        ],
        [
         "2023-06-01",
         "SP",
         "ABC11818",
         "Produto X",
         "LOJA",
         "PROMOCAO",
         3424.65,
         2
        ],
        [
         "2023-06-01",
         "SP",
         "ABC11818",
         "Produto Z",
         "LOJA",
         "PROMOCAO",
         4734.0,
         0
        ],
        [
         "2023-06-01",
         "SP",
         "ABC11818",
         "Produto Z",
         "LOJA",
         "REGULAR",
         3162.9,
         1
        ],
        [
         "2023-06-01",
         "SP",
         "ABC12405",
         "Produto X",
         "LOJA",
         "PROMOCAO",
         1260.0,
         0
        ],
        [
         "2023-06-01",
         "SP",
         "ABC12405",
         "Produto Z",
         "LOJA",
         "REGULAR",
         3077.14,
         2
        ],
        [
         "2023-06-01",
         "SP",
         "ABC13388",
         "Produto X",
         "LOJA",
         "PROMOCAO",
         3380.68,
         7
        ],
        [
         "2023-06-01",
         "SP",
         "ABC13388",
         "Produto Z",
         "LOJA",
         "PROMOCAO",
         4734.0,
         0
        ],
        [
         "2023-06-01",
         "SP",
         "ABC13388",
         "Produto Z",
         "LOJA",
         "REGULAR",
         3156.0,
         0
        ],
        [
         "2023-06-01",
         "SP",
         "ABC13733",
         "Produto X",
         "LOJA",
         "PROMOCAO",
         1146.23,
         4
        ],
        [
         "2023-06-01",
         "SP",
         "ABC13733",
         "Produto Z",
         "LOJA",
         "REGULAR",
         3152.32,
         1
        ],
        [
         "2023-06-01",
         "SP",
         "ABC14151",
         "Produto X",
         "LOJA",
         "PROMOCAO",
         3410.76,
         6
        ],
        [
         "2023-06-01",
         "SP",
         "ABC14151",
         "Produto Z",
         "LOJA",
         "PROMOCAO",
         4706.44,
         1
        ],
        [
         "2023-06-01",
         "SP",
         "ABC14151",
         "Produto Z",
         "LOJA",
         "REGULAR",
         2797.12,
         2
        ],
        [
         "2023-06-01",
         "SP",
         "ABC19104",
         "Produto X",
         "LOJA",
         "PROMOCAO",
         1183.3,
         4
        ],
        [
         "2023-06-01",
         "SP",
         "ABC19104",
         "Produto Z",
         "LOJA",
         "REGULAR",
         3139.1,
         2
        ],
        [
         "2023-06-01",
         "SP",
         "ABC3503",
         "Produto X",
         "SITE",
         "PROMOCAO",
         1836.63,
         138
        ],
        [
         "2023-06-01",
         "SP",
         "ABC3503",
         "Produto X",
         "SITE",
         "REGULAR",
         3688.31,
         127
        ],
        [
         "2023-06-01",
         "SP",
         "ABC3503",
         "Produto Z",
         "SITE",
         "REGULAR",
         10429.03,
         64
        ],
        [
         "2023-06-01",
         "SP",
         "ABC7652",
         "Produto X",
         "LOJA",
         "PROMOCAO",
         3406.63,
         3
        ],
        [
         "2023-06-01",
         "SP",
         "ABC7652",
         "Produto Z",
         "LOJA",
         "PROMOCAO",
         4735.97,
         1
        ],
        [
         "2023-06-01",
         "SP",
         "ABC7652",
         "Produto Z",
         "LOJA",
         "REGULAR",
         3101.79,
         5
        ],
        [
         "2023-06-01",
         "SP",
         "ABC8816",
         "Produto X",
         "LOJA",
         "PROMOCAO",
         3391.35,
         5
        ],
        [
         "2023-06-01",
         "SP",
         "ABC8816",
         "Produto Z",
         "LOJA",
         "PROMOCAO",
         4734.0,
         0
        ],
        [
         "2023-06-01",
         "SP",
         "ABC8816",
         "Produto Z",
         "LOJA",
         "REGULAR",
         3134.88,
         2
        ],
        [
         "2023-07-01",
         "BA",
         "ABC20007",
         "Produto X",
         "LOJA",
         "PROMOCAO",
         244.0,
         0
        ],
        [
         "2023-07-01",
         "BA",
         "ABC20007",
         "Produto Z",
         "LOJA",
         "PROMOCAO",
         504.0,
         0
        ],
        [
         "2023-07-01",
         "BA",
         "ABC5228",
         "Produto X",
         "SITE",
         "REGULAR",
         244.0,
         0
        ],
        [
         "2023-07-01",
         "BA",
         "ABC5228",
         "Produto Z",
         "SITE",
         "REGULAR",
         504.0,
         0
        ],
        [
         "2023-07-01",
         "CE",
         "ABC14661",
         "Produto X",
         "LOJA",
         "PROMOCAO",
         2650.88,
         3
        ],
        [
         "2023-07-01",
         "CE",
         "ABC14661",
         "Produto X",
         "LOJA",
         "REGULAR",
         991.04,
         3
        ],
        [
         "2023-07-01",
         "CE",
         "ABC14661",
         "Produto Z",
         "LOJA",
         "PROMOCAO",
         5141.0,
         0
        ],
        [
         "2023-07-01",
         "CE",
         "ABC14661",
         "Produto Z",
         "LOJA",
         "REGULAR",
         2096.0,
         0
        ],
        [
         "2023-07-01",
         "CE",
         "ABC19747",
         "Produto X",
         "LOJA",
         "PROMOCAO",
         2668.21,
         3
        ],
        [
         "2023-07-01",
         "CE",
         "ABC19747",
         "Produto X",
         "LOJA",
         "REGULAR",
         1000.0,
         0
        ],
        [
         "2023-07-01",
         "CE",
         "ABC19747",
         "Produto Z",
         "LOJA",
         "PROMOCAO",
         5146.45,
         1
        ],
        [
         "2023-07-01",
         "CE",
         "ABC19747",
         "Produto Z",
         "LOJA",
         "REGULAR",
         2096.0,
         0
        ],
        [
         "2023-07-01",
         "CE",
         "ABC19755",
         "Produto X",
         "SITE",
         "PROMOCAO",
         3264.94,
         46
        ],
        [
         "2023-07-01",
         "CE",
         "ABC19755",
         "Produto X",
         "SITE",
         "REGULAR",
         1231.67,
         7
        ],
        [
         "2023-07-01",
         "CE",
         "ABC19755",
         "Produto Z",
         "SITE",
         "REGULAR",
         7869.86,
         41
        ],
        [
         "2023-07-01",
         "ES",
         "ABC14153",
         "Produto X",
         "SITE",
         "REGULAR",
         246.0,
         0
        ],
        [
         "2023-07-01",
         "ES",
         "ABC14153",
         "Produto Z",
         "SITE",
         "REGULAR",
         524.0,
         0
        ],
        [
         "2023-07-01",
         "MA",
         "ABC13186",
         "Produto X",
         "LOJA",
         "PROMOCAO",
         2701.0,
         0
        ],
        [
         "2023-07-01",
         "MA",
         "ABC13186",
         "Produto X",
         "LOJA",
         "REGULAR",
         1016.0,
         0
        ],
        [
         "2023-07-01",
         "MA",
         "ABC13186",
         "Produto Z",
         "LOJA",
         "PROMOCAO",
         5926.0,
         0
        ],
        [
         "2023-07-01",
         "MA",
         "ABC13186",
         "Produto Z",
         "LOJA",
         "REGULAR",
         2119.79,
         1
        ],
        [
         "2023-07-01",
         "PB",
         "ABC19304",
         "Produto X",
         "LOJA",
         "PROMOCAO",
         2699.0,
         0
        ],
        [
         "2023-07-01",
         "PB",
         "ABC19304",
         "Produto X",
         "LOJA",
         "REGULAR",
         997.9,
         1
        ],
        [
         "2023-07-01",
         "PB",
         "ABC19304",
         "Produto Z",
         "LOJA",
         "PROMOCAO",
         5275.8,
         2
        ],
        [
         "2023-07-01",
         "PB",
         "ABC19304",
         "Produto Z",
         "LOJA",
         "REGULAR",
         2104.0,
         0
        ],
        [
         "2023-07-01",
         "PB",
         "ABC21558",
         "Produto X",
         "SITE",
         "PROMOCAO",
         4477.5,
         168
        ],
        [
         "2023-07-01",
         "PB",
         "ABC21558",
         "Produto X",
         "SITE",
         "REGULAR",
         1758.0,
         18
        ],
        [
         "2023-07-01",
         "PB",
         "ABC21558",
         "Produto Z",
         "SITE",
         "REGULAR",
         7904.09,
         17
        ],
        [
         "2023-07-01",
         "PB",
         "ABC22248",
         "Produto X",
         "LOJA",
         "PROMOCAO",
         2619.64,
         14
        ],
        [
         "2023-07-01",
         "PB",
         "ABC22248",
         "Produto X",
         "LOJA",
         "REGULAR",
         1003.8,
         2
        ],
        [
         "2023-07-01",
         "PB",
         "ABC22248",
         "Produto Z",
         "LOJA",
         "PROMOCAO",
         5245.86,
         7
        ],
        [
         "2023-07-01",
         "PB",
         "ABC22248",
         "Produto Z",
         "LOJA",
         "REGULAR",
         2104.0,
         0
        ],
        [
         "2023-07-01",
         "PE",
         "ABC18465",
         "Produto X",
         "SITE",
         "PROMOCAO",
         2934.9,
         34
        ],
        [
         "2023-07-01",
         "PE",
         "ABC18465",
         "Produto X",
         "SITE",
         "REGULAR",
         1135.8,
         2
        ],
        [
         "2023-07-01",
         "PE",
         "ABC18465",
         "Produto Z",
         "SITE",
         "REGULAR",
         7520.4,
         7
        ],
        [
         "2023-07-01",
         "PE",
         "ABC18611",
         "Produto X",
         "SITE",
         "PROMOCAO",
         2791.97,
         24
        ],
        [
         "2023-07-01",
         "PE",
         "ABC18611",
         "Produto X",
         "SITE",
         "REGULAR",
         1252.9,
         2
        ],
        [
         "2023-07-01",
         "PE",
         "ABC18611",
         "Produto Z",
         "SITE",
         "REGULAR",
         7359.9,
         1
        ],
        [
         "2023-07-01",
         "PR",
         "ABC18575",
         "Produto X",
         "LOJA",
         "PROMOCAO",
         2701.0,
         0
        ],
        [
         "2023-07-01",
         "PR",
         "ABC18575",
         "Produto Z",
         "LOJA",
         "PROMOCAO",
         5843.0,
         0
        ],
        [
         "2023-07-01",
         "RJ",
         "ABC14683",
         "Produto X",
         "SITE",
         "PROMOCAO",
         2822.4,
         62
        ],
        [
         "2023-07-01",
         "RJ",
         "ABC14683",
         "Produto X",
         "SITE",
         "REGULAR",
         497.7,
         5
        ],
        [
         "2023-07-01",
         "RJ",
         "ABC14683",
         "Produto Z",
         "SITE",
         "REGULAR",
         6251.7,
         5
        ],
        [
         "2023-07-01",
         "RN",
         "ABC14240",
         "Produto X",
         "SITE",
         "PROMOCAO",
         2940.3,
         41
        ],
        [
         "2023-07-01",
         "RN",
         "ABC14240",
         "Produto X",
         "SITE",
         "REGULAR",
         1331.29,
         16
        ],
        [
         "2023-07-01",
         "RN",
         "ABC14240",
         "Produto Z",
         "SITE",
         "REGULAR",
         7276.4,
         6
        ],
        [
         "2023-07-01",
         "RN",
         "ABC20423",
         "Produto X",
         "LOJA",
         "PROMOCAO",
         2703.0,
         0
        ],
        [
         "2023-07-01",
         "RN",
         "ABC20423",
         "Produto X",
         "LOJA",
         "REGULAR",
         983.9,
         1
        ],
        [
         "2023-07-01",
         "RN",
         "ABC20423",
         "Produto Z",
         "LOJA",
         "PROMOCAO",
         5006.65,
         1
        ],
        [
         "2023-07-01",
         "RN",
         "ABC20423",
         "Produto Z",
         "LOJA",
         "REGULAR",
         2082.8,
         1
        ],
        [
         "2023-07-01",
         "RN",
         "ABC20424",
         "Produto X",
         "LOJA",
         "PROMOCAO",
         2697.94,
         2
        ],
        [
         "2023-07-01",
         "RN",
         "ABC20424",
         "Produto X",
         "LOJA",
         "REGULAR",
         991.8,
         2
        ],
        [
         "2023-07-01",
         "RN",
         "ABC20424",
         "Produto Z",
         "LOJA",
         "PROMOCAO",
         5059.01,
         4
        ],
        [
         "2023-07-01",
         "RN",
         "ABC20424",
         "Produto Z",
         "LOJA",
         "REGULAR",
         2090.72,
         1
        ],
        [
         "2023-07-01",
         "RN",
         "ABC21349",
         "Produto X",
         "SITE",
         "PROMOCAO",
         2699.1,
         12
        ],
        [
         "2023-07-01",
         "RN",
         "ABC21349",
         "Produto X",
         "SITE",
         "REGULAR",
         1109.8,
         2
        ],
        [
         "2023-07-01",
         "RN",
         "ABC21349",
         "Produto Z",
         "SITE",
         "REGULAR",
         7432.64,
         8
        ],
        [
         "2023-07-01",
         "RN",
         "ABC22036",
         "Produto X",
         "LOJA",
         "PROMOCAO",
         2682.62,
         2
        ],
        [
         "2023-07-01",
         "RN",
         "ABC22036",
         "Produto X",
         "LOJA",
         "REGULAR",
         983.9,
         1
        ],
        [
         "2023-07-01",
         "RN",
         "ABC22036",
         "Produto Z",
         "LOJA",
         "PROMOCAO",
         4956.0,
         0
        ],
        [
         "2023-07-01",
         "RN",
         "ABC22036",
         "Produto Z",
         "LOJA",
         "REGULAR",
         2108.79,
         1
        ],
        [
         "2023-07-01",
         "RN",
         "ABC5264",
         "Produto X",
         "LOJA",
         "PROMOCAO",
         2677.94,
         9
        ],
        [
         "2023-07-01",
         "RN",
         "ABC5264",
         "Produto X",
         "LOJA",
         "REGULAR",
         983.9,
         1
        ],
        [
         "2023-07-01",
         "RN",
         "ABC5264",
         "Produto Z",
         "LOJA",
         "PROMOCAO",
         4980.67,
         1
        ],
        [
         "2023-07-01",
         "RN",
         "ABC5264",
         "Produto Z",
         "LOJA",
         "REGULAR",
         2112.0,
         0
        ],
        [
         "2023-07-01",
         "RN",
         "ABC7958",
         "Produto X",
         "LOJA",
         "PROMOCAO",
         2703.9,
         1
        ],
        [
         "2023-07-01",
         "RN",
         "ABC7958",
         "Produto X",
         "LOJA",
         "REGULAR",
         976.0,
         0
        ],
        [
         "2023-07-01",
         "RN",
         "ABC7958",
         "Produto Z",
         "LOJA",
         "PROMOCAO",
         4956.0,
         0
        ],
        [
         "2023-07-01",
         "RN",
         "ABC7958",
         "Produto Z",
         "LOJA",
         "REGULAR",
         2112.0,
         0
        ],
        [
         "2023-07-01",
         "RS",
         "ABC14726",
         "Produto X",
         "SITE",
         "PROMOCAO",
         3292.15,
         70
        ],
        [
         "2023-07-01",
         "RS",
         "ABC14726",
         "Produto X",
         "SITE",
         "REGULAR",
         1401.4,
         7
        ],
        [
         "2023-07-01",
         "RS",
         "ABC14726",
         "Produto Z",
         "SITE",
         "REGULAR",
         8533.6,
         8
        ],
        [
         "2023-07-01",
         "RS",
         "ABC20103",
         "Produto X",
         "SITE",
         "PROMOCAO",
         2471.4,
         53
        ],
        [
         "2023-07-01",
         "RS",
         "ABC20103",
         "Produto X",
         "SITE",
         "REGULAR",
         1391.7,
         7
        ],
        [
         "2023-07-01",
         "RS",
         "ABC20103",
         "Produto Z",
         "SITE",
         "REGULAR",
         8573.0,
         12
        ],
        [
         "2023-07-01",
         "SC",
         "ABC18757",
         "Produto X",
         "LOJA",
         "PROMOCAO",
         2694.46,
         1
        ],
        [
         "2023-07-01",
         "SC",
         "ABC18757",
         "Produto X",
         "LOJA",
         "REGULAR",
         1008.0,
         0
        ],
        [
         "2023-07-01",
         "SC",
         "ABC18757",
         "Produto Z",
         "LOJA",
         "PROMOCAO",
         6162.0,
         0
        ],
        [
         "2023-07-01",
         "SC",
         "ABC18757",
         "Produto Z",
         "LOJA",
         "REGULAR",
         2216.0,
         0
        ],
        [
         "2023-07-01",
         "SP",
         "ABC11818",
         "Produto X",
         "LOJA",
         "PROMOCAO",
         242.0,
         0
        ],
        [
         "2023-07-01",
         "SP",
         "ABC11818",
         "Produto Z",
         "LOJA",
         "PROMOCAO",
         526.0,
         0
        ],
        [
         "2023-07-01",
         "SP",
         "ABC13388",
         "Produto X",
         "LOJA",
         "PROMOCAO",
         2668.18,
         5
        ],
        [
         "2023-07-01",
         "SP",
         "ABC13388",
         "Produto X",
         "LOJA",
         "REGULAR",
         1004.9,
         1
        ],
        [
         "2023-07-01",
         "SP",
         "ABC13388",
         "Produto Z",
         "LOJA",
         "PROMOCAO",
         6207.53,
         1
        ],
        [
         "2023-07-01",
         "SP",
         "ABC13388",
         "Produto Z",
         "LOJA",
         "REGULAR",
         2200.0,
         0
        ],
        [
         "2023-07-01",
         "SP",
         "ABC14151",
         "Produto X",
         "LOJA",
         "PROMOCAO",
         2701.7,
         3
        ],
        [
         "2023-07-01",
         "SP",
         "ABC14151",
         "Produto X",
         "LOJA",
         "REGULAR",
         1000.0,
         0
        ],
        [
         "2023-07-01",
         "SP",
         "ABC14151",
         "Produto Z",
         "LOJA",
         "PROMOCAO",
         6252.09,
         2
        ],
        [
         "2023-07-01",
         "SP",
         "ABC14151",
         "Produto Z",
         "LOJA",
         "REGULAR",
         2173.87,
         1
        ],
        [
         "2023-07-01",
         "SP",
         "ABC3503",
         "Produto X",
         "SITE",
         "PROMOCAO",
         5634.35,
         421
        ],
        [
         "2023-07-01",
         "SP",
         "ABC3503",
         "Produto X",
         "SITE",
         "REGULAR",
         1481.4,
         18
        ],
        [
         "2023-07-01",
         "SP",
         "ABC3503",
         "Produto Z",
         "SITE",
         "REGULAR",
         10525.0,
         52
        ],
        [
         "2023-07-01",
         "SP",
         "ABC7652",
         "Produto X",
         "LOJA",
         "PROMOCAO",
         2699.31,
         3
        ],
        [
         "2023-07-01",
         "SP",
         "ABC7652",
         "Produto X",
         "LOJA",
         "REGULAR",
         1000.0,
         0
        ],
        [
         "2023-07-01",
         "SP",
         "ABC7652",
         "Produto Z",
         "LOJA",
         "PROMOCAO",
         6258.9,
         1
        ],
        [
         "2023-07-01",
         "SP",
         "ABC7652",
         "Produto Z",
         "LOJA",
         "REGULAR",
         2200.0,
         0
        ],
        [
         "2023-07-01",
         "SP",
         "ABC8816",
         "Produto X",
         "LOJA",
         "PROMOCAO",
         2699.0,
         0
        ],
        [
         "2023-07-01",
         "SP",
         "ABC8816",
         "Produto X",
         "LOJA",
         "REGULAR",
         1000.0,
         0
        ],
        [
         "2023-07-01",
         "SP",
         "ABC8816",
         "Produto Z",
         "LOJA",
         "PROMOCAO",
         6279.7,
         3
        ],
        [
         "2023-07-01",
         "SP",
         "ABC8816",
         "Produto Z",
         "LOJA",
         "REGULAR",
         2200.0,
         0
        ],
        [
         "2023-08-01",
         "CE",
         "ABC14661",
         "Produto X",
         "LOJA",
         "REGULAR",
         3857.04,
         2
        ],
        [
         "2023-08-01",
         "CE",
         "ABC14661",
         "Produto Z",
         "LOJA",
         "REGULAR",
         7501.18,
         2
        ],
        [
         "2023-08-01",
         "CE",
         "ABC19747",
         "Produto X",
         "LOJA",
         "REGULAR",
         3842.8,
         1
        ],
        [
         "2023-08-01",
         "CE",
         "ABC19747",
         "Produto Z",
         "LOJA",
         "REGULAR",
         7546.0,
         0
        ],
        [
         "2023-08-01",
         "CE",
         "ABC19755",
         "Produto X",
         "SITE",
         "REGULAR",
         3937.1,
         11
        ],
        [
         "2023-08-01",
         "CE",
         "ABC19755",
         "Produto Z",
         "SITE",
         "REGULAR",
         7919.4,
         10
        ],
        [
         "2023-08-01",
         "MA",
         "ABC13186",
         "Produto X",
         "LOJA",
         "REGULAR",
         3922.8,
         2
        ],
        [
         "2023-08-01",
         "MA",
         "ABC13186",
         "Produto Z",
         "LOJA",
         "REGULAR",
         8048.0,
         0
        ],
        [
         "2023-08-01",
         "PB",
         "ABC19304",
         "Produto X",
         "LOJA",
         "REGULAR",
         1612.0,
         0
        ],
        [
         "2023-08-01",
         "PB",
         "ABC19304",
         "Produto Z",
         "LOJA",
         "REGULAR",
         3419.0,
         0
        ],
        [
         "2023-08-01",
         "PB",
         "ABC21558",
         "Produto X",
         "SITE",
         "REGULAR",
         4224.29,
         24
        ],
        [
         "2023-08-01",
         "PB",
         "ABC21558",
         "Produto Z",
         "SITE",
         "REGULAR",
         7752.58,
         16
        ],
        [
         "2023-08-01",
         "PB",
         "ABC22248",
         "Produto X",
         "LOJA",
         "REGULAR",
         3840.42,
         8
        ],
        [
         "2023-08-01",
         "PB",
         "ABC22248",
         "Produto Z",
         "LOJA",
         "REGULAR",
         7519.2,
         12
        ],
        [
         "2023-08-01",
         "PE",
         "ABC18465",
         "Produto X",
         "SITE",
         "REGULAR",
         3963.8,
         17
        ],
        [
         "2023-08-01",
         "PE",
         "ABC18465",
         "Produto Z",
         "SITE",
         "REGULAR",
         8087.5,
         7
        ],
        [
         "2023-08-01",
         "PE",
         "ABC18611",
         "Produto X",
         "SITE",
         "REGULAR",
         3924.0,
         0
        ],
        [
         "2023-08-01",
         "PE",
         "ABC18611",
         "Produto Z",
         "SITE",
         "REGULAR",
         7730.38,
         9
        ],
        [
         "2023-08-01",
         "RN",
         "ABC14240",
         "Produto X",
         "SITE",
         "REGULAR",
         3941.7,
         20
        ],
        [
         "2023-08-01",
         "RN",
         "ABC14240",
         "Produto Z",
         "SITE",
         "REGULAR",
         8022.9,
         14
        ],
        [
         "2023-08-01",
         "RN",
         "ABC20423",
         "Produto X",
         "LOJA",
         "REGULAR",
         3890.0,
         0
        ],
        [
         "2023-08-01",
         "RN",
         "ABC20423",
         "Produto Z",
         "LOJA",
         "REGULAR",
         7545.08,
         1
        ],
        [
         "2023-08-01",
         "RN",
         "ABC20424",
         "Produto X",
         "LOJA",
         "REGULAR",
         3885.2,
         1
        ],
        [
         "2023-08-01",
         "RN",
         "ABC20424",
         "Produto Z",
         "LOJA",
         "REGULAR",
         7554.0,
         0
        ],
        [
         "2023-08-01",
         "RN",
         "ABC21349",
         "Produto X",
         "SITE",
         "REGULAR",
         3933.3,
         8
        ],
        [
         "2023-08-01",
         "RN",
         "ABC21349",
         "Produto Z",
         "SITE",
         "REGULAR",
         7621.1,
         6
        ],
        [
         "2023-08-01",
         "RN",
         "ABC22036",
         "Produto X",
         "LOJA",
         "REGULAR",
         1586.0,
         0
        ],
        [
         "2023-08-01",
         "RN",
         "ABC22036",
         "Produto Z",
         "LOJA",
         "REGULAR",
         3432.0,
         0
        ],
        [
         "2023-08-01",
         "RN",
         "ABC5264",
         "Produto X",
         "LOJA",
         "REGULAR",
         3854.94,
         5
        ],
        [
         "2023-08-01",
         "RN",
         "ABC5264",
         "Produto Z",
         "LOJA",
         "REGULAR",
         7559.9,
         1
        ],
        [
         "2023-08-01",
         "RN",
         "ABC7958",
         "Produto X",
         "LOJA",
         "REGULAR",
         3891.9,
         1
        ],
        [
         "2023-08-01",
         "RN",
         "ABC7958",
         "Produto Z",
         "LOJA",
         "REGULAR",
         7557.28,
         1
        ],
        [
         "2023-08-01",
         "RS",
         "ABC14726",
         "Produto X",
         "SITE",
         "REGULAR",
         3967.4,
         13
        ],
        [
         "2023-08-01",
         "RS",
         "ABC14726",
         "Produto Z",
         "SITE",
         "REGULAR",
         9360.1,
         23
        ],
        [
         "2023-08-01",
         "RS",
         "ABC20103",
         "Produto X",
         "SITE",
         "REGULAR",
         4105.71,
         33
        ],
        [
         "2023-08-01",
         "RS",
         "ABC20103",
         "Produto Z",
         "SITE",
         "REGULAR",
         8529.3,
         9
        ],
        [
         "2023-08-01",
         "SC",
         "ABC18757",
         "Produto X",
         "LOJA",
         "REGULAR",
         1638.0,
         0
        ],
        [
         "2023-08-01",
         "SC",
         "ABC18757",
         "Produto Z",
         "LOJA",
         "REGULAR",
         3601.0,
         0
        ],
        [
         "2023-08-01",
         "SP",
         "ABC13388",
         "Produto X",
         "LOJA",
         "REGULAR",
         1625.0,
         0
        ],
        [
         "2023-08-01",
         "SP",
         "ABC13388",
         "Produto Z",
         "LOJA",
         "REGULAR",
         3575.0,
         0
        ],
        [
         "2023-08-01",
         "SP",
         "ABC14151",
         "Produto X",
         "LOJA",
         "REGULAR",
         1629.9,
         1
        ],
        [
         "2023-08-01",
         "SP",
         "ABC14151",
         "Produto Z",
         "LOJA",
         "REGULAR",
         3557.0,
         1
        ],
        [
         "2023-08-01",
         "SP",
         "ABC3503",
         "Produto X",
         "SITE",
         "REGULAR",
         5229.9,
         72
        ],
        [
         "2023-08-01",
         "SP",
         "ABC3503",
         "Produto Z",
         "SITE",
         "REGULAR",
         11385.21,
         75
        ],
        [
         "2023-08-01",
         "SP",
         "ABC7652",
         "Produto X",
         "LOJA",
         "REGULAR",
         1625.0,
         0
        ],
        [
         "2023-08-01",
         "SP",
         "ABC7652",
         "Produto Z",
         "LOJA",
         "REGULAR",
         3575.0,
         0
        ],
        [
         "2023-08-01",
         "SP",
         "ABC8816",
         "Produto X",
         "LOJA",
         "REGULAR",
         3906.69,
         1
        ],
        [
         "2023-08-01",
         "SP",
         "ABC8816",
         "Produto Z",
         "LOJA",
         "REGULAR",
         8489.0,
         0
        ],
        [
         "2023-09-01",
         "CE",
         "ABC14661",
         "Produto X",
         "LOJA",
         "REGULAR",
         378.0,
         0
        ],
        [
         "2023-09-01",
         "CE",
         "ABC14661",
         "Produto Z",
         "LOJA",
         "REGULAR",
         690.0,
         0
        ],
        [
         "2023-09-01",
         "CE",
         "ABC19747",
         "Produto X",
         "LOJA",
         "REGULAR",
         378.0,
         0
        ],
        [
         "2023-09-01",
         "CE",
         "ABC19747",
         "Produto Z",
         "LOJA",
         "REGULAR",
         690.0,
         0
        ],
        [
         "2023-09-01",
         "CE",
         "ABC19755",
         "Produto X",
         "SITE",
         "REGULAR",
         378.0,
         0
        ],
        [
         "2023-09-01",
         "CE",
         "ABC19755",
         "Produto Z",
         "SITE",
         "REGULAR",
         690.0,
         0
        ],
        [
         "2023-09-01",
         "MA",
         "ABC13186",
         "Produto X",
         "LOJA",
         "REGULAR",
         381.0,
         0
        ],
        [
         "2023-09-01",
         "MA",
         "ABC13186",
         "Produto Z",
         "LOJA",
         "REGULAR",
         765.0,
         0
        ],
        [
         "2023-09-01",
         "PB",
         "ABC21558",
         "Produto X",
         "SITE",
         "REGULAR",
         3205.7,
         3
        ],
        [
         "2023-09-01",
         "PB",
         "ABC21558",
         "Produto Z",
         "SITE",
         "REGULAR",
         6446.09,
         5
        ],
        [
         "2023-09-01",
         "PB",
         "ABC22248",
         "Produto X",
         "LOJA",
         "REGULAR",
         3589.46,
         10
        ],
        [
         "2023-09-01",
         "PB",
         "ABC22248",
         "Produto Z",
         "LOJA",
         "REGULAR",
         7682.32,
         11
        ],
        [
         "2023-09-01",
         "PE",
         "ABC18465",
         "Produto X",
         "SITE",
         "REGULAR",
         3080.4,
         6
        ],
        [
         "2023-09-01",
         "PE",
         "ABC18465",
         "Produto Z",
         "SITE",
         "REGULAR",
         6263.4,
         9
        ],
        [
         "2023-09-01",
         "PE",
         "ABC18611",
         "Produto X",
         "SITE",
         "REGULAR",
         381.0,
         0
        ],
        [
         "2023-09-01",
         "PE",
         "ABC18611",
         "Produto Z",
         "SITE",
         "REGULAR",
         714.0,
         0
        ],
        [
         "2023-09-01",
         "RN",
         "ABC14240",
         "Produto X",
         "SITE",
         "REGULAR",
         4043.73,
         42
        ],
        [
         "2023-09-01",
         "RN",
         "ABC14240",
         "Produto Z",
         "SITE",
         "REGULAR",
         7808.7,
         3
        ],
        [
         "2023-09-01",
         "RN",
         "ABC20423",
         "Produto X",
         "LOJA",
         "REGULAR",
         384.0,
         0
        ],
        [
         "2023-09-01",
         "RN",
         "ABC20423",
         "Produto Z",
         "LOJA",
         "REGULAR",
         687.0,
         0
        ],
        [
         "2023-09-01",
         "RN",
         "ABC20424",
         "Produto X",
         "LOJA",
         "REGULAR",
         384.0,
         0
        ],
        [
         "2023-09-01",
         "RN",
         "ABC20424",
         "Produto Z",
         "LOJA",
         "REGULAR",
         687.0,
         0
        ],
        [
         "2023-09-01",
         "RN",
         "ABC21349",
         "Produto X",
         "SITE",
         "REGULAR",
         384.0,
         0
        ],
        [
         "2023-09-01",
         "RN",
         "ABC21349",
         "Produto Z",
         "SITE",
         "REGULAR",
         687.0,
         0
        ],
        [
         "2023-09-01",
         "RN",
         "ABC5264",
         "Produto X",
         "LOJA",
         "REGULAR",
         3644.89,
         5
        ],
        [
         "2023-09-01",
         "RN",
         "ABC5264",
         "Produto Z",
         "LOJA",
         "REGULAR",
         7791.21,
         3
        ],
        [
         "2023-09-01",
         "RN",
         "ABC7958",
         "Produto X",
         "LOJA",
         "REGULAR",
         3652.8,
         2
        ],
        [
         "2023-09-01",
         "RN",
         "ABC7958",
         "Produto Z",
         "LOJA",
         "REGULAR",
         7809.9,
         2
        ],
        [
         "2023-09-01",
         "RS",
         "ABC14726",
         "Produto X",
         "SITE",
         "REGULAR",
         3986.99,
         45
        ],
        [
         "2023-09-01",
         "RS",
         "ABC14726",
         "Produto Z",
         "SITE",
         "REGULAR",
         8566.9,
         19
        ],
        [
         "2023-09-01",
         "RS",
         "ABC20103",
         "Produto X",
         "SITE",
         "REGULAR",
         3398.99,
         52
        ],
        [
         "2023-09-01",
         "RS",
         "ABC20103",
         "Produto Z",
         "SITE",
         "REGULAR",
         8280.3,
         10
        ],
        [
         "2023-09-01",
         "SP",
         "ABC3503",
         "Produto X",
         "SITE",
         "REGULAR",
         3579.2,
         86
        ],
        [
         "2023-09-01",
         "SP",
         "ABC3503",
         "Produto Z",
         "SITE",
         "REGULAR",
         7719.2,
         17
        ],
        [
         "2023-09-01",
         "SP",
         "ABC8816",
         "Produto X",
         "LOJA",
         "REGULAR",
         381.0,
         0
        ],
        [
         "2023-09-01",
         "SP",
         "ABC8816",
         "Produto Z",
         "LOJA",
         "REGULAR",
         819.0,
         0
        ],
        [
         "2023-10-01",
         "PB",
         "ABC22248",
         "Produto X",
         "LOJA",
         "REGULAR",
         3013.85,
         4
        ],
        [
         "2023-10-01",
         "PB",
         "ABC22248",
         "Produto Z",
         "LOJA",
         "REGULAR",
         8080.73,
         7
        ],
        [
         "2023-10-01",
         "RN",
         "ABC14240",
         "Produto X",
         "SITE",
         "REGULAR",
         1924.38,
         37
        ],
        [
         "2023-10-01",
         "RN",
         "ABC14240",
         "Produto Z",
         "SITE",
         "REGULAR",
         3965.7,
         3
        ],
        [
         "2023-10-01",
         "RN",
         "ABC5264",
         "Produto X",
         "LOJA",
         "REGULAR",
         1251.06,
         11
        ],
        [
         "2023-10-01",
         "RN",
         "ABC5264",
         "Produto Z",
         "LOJA",
         "REGULAR",
         3945.0,
         0
        ],
        [
         "2023-10-01",
         "RN",
         "ABC7958",
         "Produto X",
         "LOJA",
         "REGULAR",
         1420.78,
         3
        ],
        [
         "2023-10-01",
         "RN",
         "ABC7958",
         "Produto Z",
         "LOJA",
         "REGULAR",
         3945.0,
         0
        ],
        [
         "2023-10-01",
         "RS",
         "ABC14726",
         "Produto X",
         "SITE",
         "REGULAR",
         1655.02,
         10
        ],
        [
         "2023-10-01",
         "RS",
         "ABC14726",
         "Produto Z",
         "SITE",
         "REGULAR",
         4129.9,
         1
        ],
        [
         "2023-10-01",
         "RS",
         "ABC20103",
         "Produto X",
         "SITE",
         "REGULAR",
         3396.08,
         79
        ],
        [
         "2023-10-01",
         "RS",
         "ABC20103",
         "Produto Z",
         "SITE",
         "REGULAR",
         8559.6,
         4
        ],
        [
         "2023-10-01",
         "SP",
         "ABC8816",
         "Produto X",
         "LOJA",
         "REGULAR",
         254.0,
         0
        ],
        [
         "2023-10-01",
         "SP",
         "ABC8816",
         "Produto Z",
         "LOJA",
         "REGULAR",
         550.0,
         0
        ],
        [
         "2023-11-01",
         "PB",
         "ABC22248",
         "Produto X",
         "LOJA",
         "REGULAR",
         3837.9,
         1
        ],
        [
         "2023-11-01",
         "PB",
         "ABC22248",
         "Produto Z",
         "LOJA",
         "REGULAR",
         7808.75,
         14
        ],
        [
         "2023-11-01",
         "RS",
         "ABC20103",
         "Produto X",
         "SITE",
         "REGULAR",
         3341.3,
         37
        ],
        [
         "2023-11-01",
         "RS",
         "ABC20103",
         "Produto Z",
         "SITE",
         "REGULAR",
         7179.9,
         1
        ],
        [
         "2023-11-01",
         "SP",
         "ABC8816",
         "Produto X",
         "LOJA",
         "REGULAR",
         3814.0,
         0
        ],
        [
         "2023-11-01",
         "SP",
         "ABC8816",
         "Produto Z",
         "LOJA",
         "REGULAR",
         8250.0,
         0
        ],
        [
         "2023-12-01",
         "PB",
         "ABC22248",
         "Produto X",
         "LOJA",
         "REGULAR",
         3168.19,
         6
        ],
        [
         "2023-12-01",
         "PB",
         "ABC22248",
         "Produto Z",
         "LOJA",
         "REGULAR",
         6279.59,
         14
        ],
        [
         "2023-12-01",
         "SP",
         "ABC8816",
         "Produto X",
         "LOJA",
         "REGULAR",
         3200.0,
         0
        ],
        [
         "2023-12-01",
         "SP",
         "ABC8816",
         "Produto Z",
         "LOJA",
         "REGULAR",
         6875.0,
         0
        ]
       ],
       "datasetInfos": [],
       "dbfsResultPath": null,
       "isJsonSchema": true,
       "metadata": {},
       "overflow": false,
       "plotOptions": {
        "customPlotOptions": {},
        "displayType": "table",
        "pivotAggregation": null,
        "pivotColumns": null,
        "xColumns": null,
        "yColumns": null
       },
       "removedWidgets": [],
       "schema": [
        {
         "metadata": "{\"comment\":\"Data da venda agregada por mês\"}",
         "name": "dt_anomes",
         "type": "\"date\""
        },
        {
         "metadata": "{\"comment\":\"Unidade Federativa\"}",
         "name": "uf",
         "type": "\"string\""
        },
        {
         "metadata": "{\"comment\":\"Código da loja\"}",
         "name": "loja",
         "type": "\"string\""
        },
        {
         "metadata": "{\"comment\":\"Código do produto\"}",
         "name": "produto",
         "type": "\"string\""
        },
        {
         "metadata": "{\"comment\":\"Canal de venda\"}",
         "name": "canal_venda",
         "type": "\"string\""
        },
        {
         "metadata": "{\"comment\":\"Tipo de venda\"}",
         "name": "tipo_venda",
         "type": "\"string\""
        },
        {
         "metadata": "{\"comment\":\"Total de vendas\"}",
         "name": "total_vendas",
         "type": "\"double\""
        },
        {
         "metadata": "{\"comment\":\"Quantidade de unidades vendidas\"}",
         "name": "total_itens_vendidos",
         "type": "\"long\""
        }
       ],
       "type": "table"
      }
     },
     "output_type": "display_data"
    }
   ],
   "source": [
    "%sql\n",
    "SELECT * FROM base_historica_gold"
   ]
  },
  {
   "cell_type": "markdown",
   "metadata": {
    "application/vnd.databricks.v1+cell": {
     "cellMetadata": {},
     "inputWidgets": {},
     "nuid": "0c657b77-48d0-4c3b-a966-7f8df4abf5a2",
     "showTitle": false,
     "title": ""
    }
   },
   "source": [
    "Ao final do pipeline, a tabela **base_historica_gold** é disponibilizada para o processo da dataviz na etapa de análise e acompanhamento dos dados."
   ]
  }
 ],
 "metadata": {
  "application/vnd.databricks.v1+notebook": {
   "dashboards": [],
   "environmentMetadata": null,
   "language": "python",
   "notebookMetadata": {
    "mostRecentlyExecutedCommandWithImplicitDF": {
     "commandId": 4350455517632816,
     "dataframes": [
      "_sqldf"
     ]
    },
    "pythonIndentUnit": 4
   },
   "notebookName": "PUCRIO-MVP-ED",
   "widgets": {}
  }
 },
 "nbformat": 4,
 "nbformat_minor": 0
}
